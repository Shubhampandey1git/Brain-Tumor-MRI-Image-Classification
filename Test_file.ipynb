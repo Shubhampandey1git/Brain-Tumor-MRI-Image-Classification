{
  "cells": [
    {
      "cell_type": "markdown",
      "metadata": {
        "id": "vncDsAP0Gaoa"
      },
      "source": [
        "# **Project Name**    -  Brain Tumor MRI Image Classification\n",
        "\n"
      ]
    },
    {
      "cell_type": "markdown",
      "metadata": {
        "id": "beRrZCGUAJYm"
      },
      "source": [
        "##### **Project Type**    - Classification\n",
        "##### **Contribution**    - Individual\n",
        "##### **Team Member -**  Shubham Pandey"
      ]
    },
    {
      "cell_type": "markdown",
      "metadata": {
        "id": "FJNUwmbgGyua"
      },
      "source": [
        "# **Project Summary -**"
      ]
    },
    {
      "cell_type": "markdown",
      "metadata": {
        "id": "F6v_1wHtG2nS"
      },
      "source": [
        "Write the summary here within 500-600 words."
      ]
    },
    {
      "cell_type": "markdown",
      "metadata": {
        "id": "w6K7xa23Elo4"
      },
      "source": [
        "# **GitHub Link -**"
      ]
    },
    {
      "cell_type": "markdown",
      "metadata": {
        "id": "h1o69JH3Eqqn"
      },
      "source": [
        "https://github.com/Shubhampandey1git/Brain-Tumor-MRI-Image-Classification"
      ]
    },
    {
      "cell_type": "markdown",
      "metadata": {
        "id": "yQaldy8SH6Dl"
      },
      "source": [
        "# **Problem Statement**\n"
      ]
    },
    {
      "cell_type": "markdown",
      "metadata": {
        "id": "DpeJGUA3kjGy"
      },
      "source": [
        "**This project aims to develop a deep learning-based solution for classifying brain MRI images into multiple categories according to tumor type. It involves building a custom CNN model from scratch and enhancing performance through transfer learning using pretrained models. The project also includes deploying a user-friendly Streamlit web application to enable real-time tumor type predictions from uploaded MRI images.**"
      ]
    },
    {
      "cell_type": "markdown",
      "metadata": {
        "id": "mDgbUHAGgjLW"
      },
      "source": [
        "# **General Guidelines** : -  "
      ]
    },
    {
      "cell_type": "markdown",
      "metadata": {
        "id": "ZrxVaUj-hHfC"
      },
      "source": [
        "1.   Well-structured, formatted, and commented code is required.\n",
        "2.   Exception Handling, Production Grade Code & Deployment Ready Code will be a plus. Those students will be awarded some additional credits.\n",
        "     \n",
        "     The additional credits will have advantages over other students during Star Student selection.\n",
        "       \n",
        "             [ Note: - Deployment Ready Code is defined as, the whole .ipynb notebook should be executable in one go\n",
        "                       without a single error logged. ]\n",
        "\n",
        "3.   Each and every logic should have proper comments.\n",
        "4. You may add as many number of charts you want. Make Sure for each and every chart the following format should be answered.\n",
        "        \n",
        "\n",
        "```\n",
        "# Chart visualization code\n",
        "```\n",
        "            \n",
        "\n",
        "*   Why did you pick the specific chart?\n",
        "*   What is/are the insight(s) found from the chart?\n",
        "* Will the gained insights help creating a positive business impact?\n",
        "Are there any insights that lead to negative growth? Justify with specific reason.\n",
        "\n",
        "5. You have to create at least 15 logical & meaningful charts having important insights.\n",
        "\n",
        "\n",
        "[ Hints : - Do the Vizualization in  a structured way while following \"UBM\" Rule.\n",
        "\n",
        "U - Univariate Analysis,\n",
        "\n",
        "B - Bivariate Analysis (Numerical - Categorical, Numerical - Numerical, Categorical - Categorical)\n",
        "\n",
        "M - Multivariate Analysis\n",
        " ]\n",
        "\n",
        "\n",
        "\n",
        "\n",
        "\n",
        "6. You may add more ml algorithms for model creation. Make sure for each and every algorithm, the following format should be answered.\n",
        "\n",
        "\n",
        "*   Explain the ML Model used and it's performance using Evaluation metric Score Chart.\n",
        "\n",
        "\n",
        "*   Cross- Validation & Hyperparameter Tuning\n",
        "\n",
        "*   Have you seen any improvement? Note down the improvement with updates Evaluation metric Score Chart.\n",
        "\n",
        "*   Explain each evaluation metric's indication towards business and the business impact pf the ML model used.\n",
        "\n",
        "\n",
        "\n",
        "\n",
        "\n",
        "\n",
        "\n",
        "\n",
        "\n",
        "\n",
        "\n",
        "\n",
        "\n",
        "\n",
        "\n",
        "\n",
        "\n",
        "\n"
      ]
    },
    {
      "cell_type": "markdown",
      "metadata": {
        "id": "O_i_v8NEhb9l"
      },
      "source": [
        "# ***Let's Begin !***"
      ]
    },
    {
      "cell_type": "markdown",
      "metadata": {
        "id": "HhfV-JJviCcP"
      },
      "source": [
        "## ***1. Know Your Data***"
      ]
    },
    {
      "cell_type": "markdown",
      "metadata": {
        "id": "Y3lxredqlCYt"
      },
      "source": [
        "### Import Libraries"
      ]
    },
    {
      "cell_type": "code",
      "execution_count": 2,
      "metadata": {
        "id": "M8Vqi-pPk-HR"
      },
      "outputs": [],
      "source": [
        "# Import Libraries\n",
        "import numpy as np\n",
        "import os\n",
        "import PIL\n",
        "import PIL.Image\n",
        "import tensorflow as tf\n",
        "import pandas as pd\n",
        "import matplotlib.pyplot as plt\n",
        "from scipy import stats"
      ]
    },
    {
      "cell_type": "markdown",
      "metadata": {
        "id": "3RnN4peoiCZX"
      },
      "source": [
        "### Dataset Loading"
      ]
    },
    {
      "cell_type": "code",
      "execution_count": 3,
      "metadata": {
        "id": "4CkvbW_SlZ_R"
      },
      "outputs": [
        {
          "name": "stdout",
          "output_type": "stream",
          "text": [
            "Found 1695 files belonging to 4 classes.\n",
            "Found 502 files belonging to 4 classes.\n",
            "Found 246 files belonging to 4 classes.\n"
          ]
        }
      ],
      "source": [
        "# Load Dataset\n",
        "# Parameters for loader\n",
        "batch_size = 32\n",
        "img_height = 180\n",
        "img_width = 180\n",
        "\n",
        "# Training data\n",
        "train_ds = tf.keras.utils.image_dataset_from_directory(\n",
        "  \"Tumour/train/\",\n",
        "  image_size=(img_height, img_width),\n",
        "  batch_size=batch_size)\n",
        "\n",
        "# Validation Data\n",
        "val_ds = tf.keras.utils.image_dataset_from_directory(\n",
        "  \"Tumour/valid/\",\n",
        "  image_size=(img_height, img_width),\n",
        "  batch_size=batch_size)\n",
        "\n",
        "# Test Data\n",
        "test_ds = tf.keras.utils.image_dataset_from_directory(\n",
        "  \"Tumour/test/\",\n",
        "  image_size=(img_height, img_width),\n",
        "  batch_size=batch_size)\n"
      ]
    },
    {
      "cell_type": "markdown",
      "metadata": {
        "id": "x71ZqKXriCWQ"
      },
      "source": [
        "### Dataset First View"
      ]
    },
    {
      "cell_type": "code",
      "execution_count": 4,
      "metadata": {
        "id": "LWNFOSvLl09H"
      },
      "outputs": [
        {
          "name": "stdout",
          "output_type": "stream",
          "text": [
            "['glioma', 'meningioma', 'no_tumor', 'pituitary']\n",
            "(32, 180, 180, 3)\n",
            "[0 2 3 0 0 0 0 3 3 0 1 3 3 2 0 3 1 2 0 0 0 2 1 1 2 0 1 2 1 3 2 1]\n"
          ]
        }
      ],
      "source": [
        "# Dataset First Look\n",
        "class_names = train_ds.class_names\n",
        "print(class_names)\n",
        "\n",
        "for img, labels in train_ds.take(1):\n",
        "    print(img.shape)\n",
        "    print(labels.numpy())"
      ]
    },
    {
      "cell_type": "markdown",
      "metadata": {
        "id": "7hBIi_osiCS2"
      },
      "source": [
        "### Dataset Rows & Columns count"
      ]
    },
    {
      "cell_type": "code",
      "execution_count": 5,
      "metadata": {
        "id": "Kllu7SJgmLij"
      },
      "outputs": [
        {
          "name": "stdout",
          "output_type": "stream",
          "text": [
            "Total images in train_ds: 1695\n",
            "Image shape: (32, 180, 180, 3)\n",
            "Label shape: (32,)\n"
          ]
        }
      ],
      "source": [
        "# Dataset Rows & Columns count\n",
        "# No of rows\n",
        "num_images = 0\n",
        "for batch in train_ds:\n",
        "    images, labels = batch\n",
        "    num_images += images.shape[0]\n",
        "print(f\"Total images in train_ds: {num_images}\")\n",
        "\n",
        "# No of columns\n",
        "for images, labels in train_ds.take(1):\n",
        "    print(f\"Image shape: {images.shape}\")  # (batch_size, height, width, channels)\n",
        "    print(f\"Label shape: {labels.shape}\")  # (batch_size,)\n"
      ]
    },
    {
      "cell_type": "markdown",
      "metadata": {
        "id": "JlHwYmJAmNHm"
      },
      "source": [
        "### Dataset Information"
      ]
    },
    {
      "cell_type": "code",
      "execution_count": 6,
      "metadata": {
        "id": "e9hRXRi6meOf"
      },
      "outputs": [
        {
          "name": "stdout",
          "output_type": "stream",
          "text": [
            "['glioma', 'meningioma', 'no_tumor', 'pituitary']\n"
          ]
        }
      ],
      "source": [
        "# Dataset Info\n",
        "class_names = train_ds.class_names\n",
        "print(class_names)"
      ]
    },
    {
      "cell_type": "markdown",
      "metadata": {
        "id": "35m5QtbWiB9F"
      },
      "source": [
        "#### Duplicate Values"
      ]
    },
    {
      "cell_type": "code",
      "execution_count": 7,
      "metadata": {
        "id": "1sLdpKYkmox0"
      },
      "outputs": [
        {
          "name": "stdout",
          "output_type": "stream",
          "text": [
            "300\n",
            "Duplicate hash 183c7e7e7e7e7c20:\n",
            "  Tumour/test\\glioma\\Tr-gl_0018_jpg.rf.7a670766b8083a1b516a49e241a636bc.jpg\n",
            "  Tumour/train\\meningioma\\Tr-me_0068_jpg.rf.f2f182526fa194a7ee52c9b6037dd1e6.jpg\n",
            "Duplicate hash 001c3c7e7e7e3c18:\n",
            "  Tumour/test\\glioma\\Tr-gl_0042_jpg.rf.c825249fca17c0579976c6455ed0f64d.jpg\n",
            "  Tumour/train\\glioma\\Tr-gl_0357_jpg.rf.385fe812bfda76a574dfd66316fd298b.jpg\n",
            "  Tumour/valid\\meningioma\\Tr-me_0347_jpg.rf.4ef97f60a546a360ab235a1236d815e8.jpg\n",
            "Duplicate hash 00183c3c3c3c3c00:\n",
            "  Tumour/test\\glioma\\Tr-gl_0075_jpg.rf.687ed8298bed6c85cb35c9c8f3ecbe2d.jpg\n",
            "  Tumour/train\\glioma\\Tr-gl_0075_jpg.rf.b3c66cf088ce7f5d5aa36f4406e38d0c.jpg\n",
            "  Tumour/train\\glioma\\Tr-gl_0312_jpg.rf.1383439af0161e29a269769bdce2906d.jpg\n",
            "  Tumour/train\\no_tumor\\Tr-no_0288_jpg.rf.7b32a53763484b85d9dff906e7e1ab1a.jpg\n",
            "  Tumour/train\\no_tumor\\Tr-no_0554_jpg.rf.778cc2c16c2e7ac934c1a8071517bffb.jpg\n",
            "Duplicate hash 003c3c7e7e3c3c00:\n",
            "  Tumour/test\\glioma\\Tr-gl_0081_jpg.rf.cd6ff4a250465f60361ab931fe2cd91f.jpg\n",
            "  Tumour/test\\glioma\\Tr-gl_0373_jpg.rf.6c247edc28cc7e6b345310327b3b15d2.jpg\n",
            "  Tumour/train\\glioma\\Tr-gl_0082_jpg.rf.09bd70356dc06019c2393eccc46165ff.jpg\n",
            "  Tumour/train\\glioma\\Tr-gl_0181_jpg.rf.ae3eec9928ea9e2ba8373045638ccd05.jpg\n",
            "  Tumour/train\\glioma\\Tr-gl_0181_jpg.rf.b228d11312e91101b49c0f93aa5365b8.jpg\n",
            "  Tumour/train\\glioma\\Tr-gl_0322_jpg.rf.6deca66e35cd1c8dfabfe2bf97887b02.jpg\n",
            "  Tumour/train\\glioma\\Tr-gl_0323_jpg.rf.6cf25ec7c248e619c2cd7e64a953cf71.jpg\n",
            "  Tumour/train\\glioma\\Tr-gl_0323_jpg.rf.d800ad11d1f4931c23c9f556423527ca.jpg\n",
            "  Tumour/train\\glioma\\Tr-gl_0347_jpg.rf.533bd1a0d16ef02066c7638d4fbb652e.jpg\n",
            "  Tumour/train\\glioma\\Tr-gl_0371_jpg.rf.9217e4b114a5ae55de8327fb89705541.jpg\n",
            "  Tumour/train\\glioma\\Tr-gl_0372_jpg.rf.08efe079e78aa41c791498fc4404e0c2.jpg\n",
            "  Tumour/train\\glioma\\Tr-gl_0372_jpg.rf.fee20bf6a52d9b00ff3e0503b635f5f3.jpg\n",
            "  Tumour/train\\glioma\\Tr-gl_0373_jpg.rf.a4db079b9dad2cb50e91f1ff624fef7e.jpg\n",
            "  Tumour/train\\glioma\\Tr-gl_0374_jpg.rf.5713d54f17c159daefe365b6c54d8d08.jpg\n",
            "  Tumour/train\\glioma\\Tr-gl_0374_jpg.rf.c811db0a9baba21acce206c49fb8a634.jpg\n",
            "  Tumour/train\\glioma\\Tr-gl_0540_jpg.rf.8d5aed4465eaa34d3c380f868875cedf.jpg\n",
            "  Tumour/train\\no_tumor\\Tr-no_0038_jpg.rf.0fff4367d0be1707fcac35b285e74219.jpg\n",
            "  Tumour/train\\no_tumor\\Tr-no_0520_jpg.rf.0773ebdd5afc970157af38c082340d1c.jpg\n",
            "  Tumour/valid\\glioma\\Tr-gl_0081_jpg.rf.266d6604f10680e16415459d6fb51388.jpg\n",
            "  Tumour/valid\\glioma\\Tr-gl_0322_jpg.rf.58715ba6f49908df83f4d4dbe0370049.jpg\n",
            "  Tumour/valid\\glioma\\Tr-gl_0371_jpg.rf.ff7f77a248ddb2c1bc815f260d0edb36.jpg\n",
            "  Tumour/valid\\glioma\\Tr-gl_0540_jpg.rf.c6e8185b9a104e992b5f3bae71a88e0b.jpg\n",
            "  Tumour/valid\\no_tumor\\Tr-no_0158_jpg.rf.30ec7136f942407704392c441608f1b1.jpg\n",
            "  Tumour/valid\\no_tumor\\Tr-no_0547_jpg.rf.7c68f23fff8e1f41e8768914a58a747f.jpg\n",
            "Duplicate hash 001c3c7e7e3c1c00:\n",
            "  Tumour/test\\glioma\\Tr-gl_0084_jpg.rf.a44aa8130cb9e42053acb60cbc60cb1e.jpg\n",
            "  Tumour/test\\glioma\\Tr-gl_0238_jpg.rf.5ab3d156d6c0aaaf0abaee493d2f08f3.jpg\n",
            "  Tumour/train\\glioma\\Tr-gl_0165_jpg.rf.b80c2f8f10b500b3cf4b8fb6ebfc7be8.jpg\n",
            "  Tumour/train\\glioma\\Tr-gl_0206_jpg.rf.abdd9a164a27cfd32e998fc871783e92.jpg\n",
            "  Tumour/train\\glioma\\Tr-gl_0237_jpg.rf.26886a0e34384ed8e5158942e811817c.jpg\n",
            "  Tumour/train\\meningioma\\Tr-me_0320_jpg.rf.2580f234b0df1ce90b62dffe0716ee70.jpg\n",
            "Duplicate hash 003c3c7e3e3c3c00:\n",
            "  Tumour/test\\glioma\\Tr-gl_0086_jpg.rf.59bef0b3cef3bf10bfa5f3c2ae2c656e.jpg\n",
            "  Tumour/train\\glioma\\Tr-gl_0178_jpg.rf.878be22f8fa5f1824fb906fb039677fb.jpg\n",
            "  Tumour/train\\no_tumor\\Tr-no_0480_jpg.rf.355a4df5da8ae00c998d43293b366ad4.jpg\n",
            "  Tumour/valid\\glioma\\Tr-gl_0179_jpg.rf.891163d4df8ff2cbe3ad7074bdf30cbf.jpg\n",
            "Duplicate hash 183c7e7e7e7e7c00:\n",
            "  Tumour/test\\glioma\\Tr-gl_0094_jpg.rf.1c0f0e197cfcf7728469ebc07bc6db14.jpg\n",
            "  Tumour/test\\glioma\\Tr-gl_0486_jpg.rf.e6b7a5aa7d3600d0ce2f1997e3ac5dd9.jpg\n",
            "  Tumour/train\\glioma\\Tr-gl_0483_jpg.rf.11bb7ab549979636b73e106a21297c6c.jpg\n",
            "  Tumour/train\\glioma\\Tr-gl_0484_jpg.rf.7b7ad9cfe210affe779ed3f433c17972.jpg\n",
            "  Tumour/train\\glioma\\Tr-gl_0485_jpg.rf.22743bda3a024979901337e013223015.jpg\n",
            "  Tumour/valid\\glioma\\Tr-gl_0117_jpg.rf.08caca5908346413eddf860329e821fc.jpg\n",
            "Duplicate hash 003c7e7e7e7e3c24:\n",
            "  Tumour/test\\glioma\\Tr-gl_0101_jpg.rf.11f5cfff6b549f258a54d8c0c8fb3921.jpg\n",
            "  Tumour/train\\glioma\\Tr-gl_0101_jpg.rf.5a06ecc32708245fafa0b38e51a86f4b.jpg\n",
            "Duplicate hash 003c7e7e7e7e3c1c:\n",
            "  Tumour/test\\glioma\\Tr-gl_0107_jpg.rf.99d300a7dac557a867ea2f33c1117108.jpg\n",
            "  Tumour/valid\\glioma\\Tr-gl_0417_jpg.rf.d16262079fa5b6f2fd62cd23d5b31fe4.jpg\n",
            "Duplicate hash 003c3e7e7e3e3c00:\n",
            "  Tumour/test\\glioma\\Tr-gl_0121_jpg.rf.ede899bd8c81b842d216c978f578f7ae.jpg\n",
            "  Tumour/train\\glioma\\Tr-gl_0059_jpg.rf.57debe579dac736af1e5b894b8729751.jpg\n",
            "  Tumour/train\\glioma\\Tr-gl_0070_jpg.rf.5318c7b32ca5580695ecafa150146482.jpg\n",
            "  Tumour/train\\glioma\\Tr-gl_0192_jpg.rf.2fa80d16c796a5e0923f1928159cf0fe.jpg\n",
            "  Tumour/train\\glioma\\Tr-gl_0265_jpg.rf.a01615b2a3851ec96b926956b9325a03.jpg\n",
            "  Tumour/train\\glioma\\Tr-gl_0547_jpg.rf.34af4ea2dd50bb77fbfb67546550ae94.jpg\n",
            "  Tumour/train\\glioma\\Tr-gl_0548_jpg.rf.7d83dccd0506830b77ff5a0e69a7a8f7.jpg\n",
            "  Tumour/train\\meningioma\\Tr-me_0227_jpg.rf.38228aeca8a7162f448f4cb02e1ae68e.jpg\n",
            "  Tumour/valid\\glioma\\Tr-gl_0051_jpg.rf.b04f3a9b9f83a6167a021b5cc8462fb3.jpg\n",
            "  Tumour/valid\\glioma\\Tr-gl_0068_jpg.rf.f55c7bab29623c68c0479bd7ad67f6a8.jpg\n",
            "  Tumour/valid\\glioma\\Tr-gl_0193_jpg.rf.6f4e56ff02a062d37add5507f6c921d8.jpg\n",
            "  Tumour/valid\\meningioma\\Tr-me_0017_jpg.rf.e3cdc37976fc1b40977ce5545bac9fd2.jpg\n",
            "  Tumour/valid\\meningioma\\Tr-me_0248_jpg.rf.d91c138f8ab0beb25fe82ea8a29e30af.jpg\n",
            "Duplicate hash 103c7c7e7e3e3c00:\n",
            "  Tumour/test\\glioma\\Tr-gl_0124_jpg.rf.0eb7ae873c4589929956c7efc456869f.jpg\n",
            "  Tumour/test\\glioma\\Tr-gl_0125_jpg.rf.a7fd02abaf318c872a8389a60bdfe12d.jpg\n",
            "  Tumour/valid\\glioma\\Tr-gl_0123_jpg.rf.9d9f5d055b1e519033a08a4e6882b455.jpg\n",
            "Duplicate hash 083c3e7e7e7c3c00:\n",
            "  Tumour/test\\glioma\\Tr-gl_0125_jpg.rf.daca61777bb4b2edeadac4f710ff2cff.jpg\n",
            "  Tumour/train\\glioma\\Tr-gl_0123_jpg.rf.b5b3219f0faea0c0162134d14dc5cecf.jpg\n",
            "  Tumour/train\\glioma\\Tr-gl_0124_jpg.rf.8954b669501be969ecd9449e854afcdd.jpg\n",
            "Duplicate hash 003c7c7e7e3e3c00:\n",
            "  Tumour/test\\glioma\\Tr-gl_0126_jpg.rf.5a2014aa6255264e35325d1fafe13547.jpg\n",
            "  Tumour/test\\glioma\\Tr-gl_0386_jpg.rf.209ccb93011c037389109a32d2f7e6b2.jpg\n",
            "  Tumour/train\\glioma\\Tr-gl_0060_jpg.rf.196731c0214fbc9b0952087a00a610a1.jpg\n",
            "  Tumour/train\\glioma\\Tr-gl_0235_jpg.rf.8cfedcae88a33f9bf00d98c6bd9a7aef.jpg\n",
            "  Tumour/train\\glioma\\Tr-gl_0354_jpg.rf.60fc49f9fb809c7580345fb024d1e83d.jpg\n",
            "  Tumour/train\\glioma\\Tr-gl_0516_jpg.rf.80a9d76c6ec693aa42c23c3c4c359247.jpg\n",
            "Duplicate hash 003c7e7e7e7e3c00:\n",
            "  Tumour/test\\glioma\\Tr-gl_0129_jpg.rf.b7e1bee7f70e8dbd91dcfb6ab7efc569.jpg\n",
            "  Tumour/test\\glioma\\Tr-gl_0369_jpg.rf.05a79e2e0107ee8135ed6bc1cc4bd901.jpg\n",
            "  Tumour/test\\meningioma\\Tr-me_0290_jpg.rf.d2147251718406cf69061b8dd75c01f1.jpg\n",
            "  Tumour/test\\meningioma\\Tr-me_0293_jpg.rf.a352c8addd6322dbfd61239afa553cbf.jpg\n",
            "  Tumour/test\\no_tumor\\Tr-no_0430_jpg.rf.8787467038198f3985421efe5d70b07a.jpg\n",
            "  Tumour/test\\no_tumor\\Tr-no_0538_jpg.rf.8ce5df7bab7eafb82ed246d5d84c558b.jpg\n",
            "  Tumour/test\\no_tumor\\Tr-no_0543_jpg.rf.737604d886c8c0502bc121179c07e1f5.jpg\n",
            "  Tumour/test\\pituitary\\Tr-pi_0496_jpg.rf.e2c2de64aa9b397e3372065d634748bd.jpg\n",
            "  Tumour/train\\glioma\\Tr-gl_0058_jpg.rf.55b1c395faed31f396cc128c3cddbd0e.jpg\n",
            "  Tumour/train\\glioma\\Tr-gl_0105_jpg.rf.1c1270cf8ecae9b031b67b999fd47451.jpg\n",
            "  Tumour/train\\glioma\\Tr-gl_0105_jpg.rf.a95bad71b63b11b5dfb7ff4a84b54c75.jpg\n",
            "  Tumour/train\\glioma\\Tr-gl_0128_jpg.rf.09d9f569ff7d18bdde046113a496263c.jpg\n",
            "  Tumour/train\\glioma\\Tr-gl_0128_jpg.rf.feb1fab6e1f5a598f4c1962ee2935607.jpg\n",
            "  Tumour/train\\glioma\\Tr-gl_0129_jpg.rf.b78eafb7046f75a8c76ac88521e46da4.jpg\n",
            "  Tumour/train\\glioma\\Tr-gl_0130_jpg.rf.cf4885a8fbb5db58fed05eb06bd678e4.jpg\n",
            "  Tumour/train\\glioma\\Tr-gl_0327_jpg.rf.3bb1f12cc88f1ea571dfb94f8e72daaf.jpg\n",
            "  Tumour/train\\glioma\\Tr-gl_0328_jpg.rf.38beea7a8dc16c40b80a82eff2ce1ef5.jpg\n",
            "  Tumour/train\\glioma\\Tr-gl_0348_jpg.rf.37adc74b29efaa84dc2148ee7b575eb9.jpg\n",
            "  Tumour/train\\glioma\\Tr-gl_0348_jpg.rf.89e1108fdb2e0f225e96d2b4cbb9abc6.jpg\n",
            "  Tumour/train\\glioma\\Tr-gl_0349_jpg.rf.7f5280c590d80c3ba1dd138d02cd6d00.jpg\n",
            "  Tumour/train\\glioma\\Tr-gl_0408_jpg.rf.7a26b5ed3d952b9c9c92d4de4eb8d7b0.jpg\n",
            "  Tumour/train\\glioma\\Tr-gl_0408_jpg.rf.db13990995a7fe48502ef703cde5abcd.jpg\n",
            "  Tumour/train\\glioma\\Tr-gl_0409_jpg.rf.6ac4ef2c1b049026b48b3decf52d9181.jpg\n",
            "  Tumour/train\\glioma\\Tr-gl_0409_jpg.rf.e7ad39fe01cba49150fab0461055b7cd.jpg\n",
            "  Tumour/train\\glioma\\Tr-gl_0410_jpg.rf.ac760e7f7cb76c513eeb16bcd7747fdc.jpg\n",
            "  Tumour/train\\glioma\\Tr-gl_0410_jpg.rf.e8dbfa4e921a5df44f3bea3a9c6233d4.jpg\n",
            "  Tumour/train\\glioma\\Tr-gl_0411_jpg.rf.97704055c19b4b110e972822ab8272ca.jpg\n",
            "  Tumour/train\\meningioma\\Tr-me_0174_jpg.rf.9239a4cfdbe76309bc517a948cc04495.jpg\n",
            "  Tumour/train\\meningioma\\Tr-me_0276_jpg.rf.521a8a58789e0bec8649d57f58237cbc.jpg\n",
            "  Tumour/train\\meningioma\\Tr-me_0278_jpg.rf.45df289afff521ada5ab7a3ec8bdaafb.jpg\n",
            "  Tumour/train\\meningioma\\Tr-me_0280_jpg.rf.762b0f5d1bb9ed9f3430ed943285e5ef.jpg\n",
            "  Tumour/train\\no_tumor\\Tr-no_0101_jpg.rf.861d0850b271d80005d30b5bb740b8ee.jpg\n",
            "  Tumour/train\\no_tumor\\Tr-no_0117_jpg.rf.567d0e182e299b3aa8ad6a068b5b53f1.jpg\n",
            "  Tumour/train\\no_tumor\\Tr-no_0398_jpg.rf.68a917b33dea44d0da473f7f799b169d.jpg\n",
            "  Tumour/train\\no_tumor\\Tr-no_0429_jpg.rf.69b565ac4743b3e661eca40f8c26ac87.jpg\n",
            "  Tumour/train\\no_tumor\\Tr-no_0478_jpg.rf.88f9f9969749f713f2ebfb033cfb51b4.jpg\n",
            "  Tumour/train\\no_tumor\\Tr-no_0488_jpg.rf.ba7a89ee9acf6d08ab082d0ee49c6e5a.jpg\n",
            "  Tumour/train\\no_tumor\\Tr-no_0516_jpg.rf.c8aebb995b18279f8680ca6c54f3ad80.jpg\n",
            "  Tumour/train\\no_tumor\\Tr-no_0531_jpg.rf.63d1d307de139298411ff305d788c213.jpg\n",
            "  Tumour/train\\pituitary\\Tr-pi_0495_jpg.rf.69c8676996119249237690a847b18653.jpg\n",
            "  Tumour/train\\pituitary\\Tr-pi_0497_jpg.rf.dd1c21e74edeb71cdc1236b2c94a0763.jpg\n",
            "  Tumour/train\\pituitary\\Tr-pi_0504_jpg.rf.cd385013abd59db4cf208858df20a738.jpg\n",
            "  Tumour/train\\pituitary\\Tr-pi_0505_jpg.rf.25b7b7a099ffa52ad3f79e80b524485f.jpg\n",
            "  Tumour/train\\pituitary\\Tr-pi_0578_jpg.rf.f48d1e60c1adcbcf16fd49958d40b225.jpg\n",
            "  Tumour/train\\pituitary\\Tr-pi_0618_jpg.rf.5074a252cae7bc62d80adda673c0a98b.jpg\n",
            "  Tumour/train\\pituitary\\Tr-pi_0652_jpg.rf.ecee996b1c1fffb8a70069479c534a94.jpg\n",
            "  Tumour/train\\pituitary\\Tr-pi_0653_jpg.rf.4eae6e7a0c561e62124e17b6505610a5.jpg\n",
            "  Tumour/train\\pituitary\\Tr-pi_0654_jpg.rf.0641f14effb3dcdd56e1a3ba005ff8a8.jpg\n",
            "  Tumour/train\\pituitary\\Tr-pi_0655_jpg.rf.35876922f7222b046c82110a1b7ee7f1.jpg\n",
            "  Tumour/valid\\glioma\\Tr-gl_0058_jpg.rf.25805b72caaba6f3ef03914f77706fcd.jpg\n",
            "  Tumour/valid\\glioma\\Tr-gl_0130_jpg.rf.a27438d66f51a4efe248ad5f6d38dc2d.jpg\n",
            "  Tumour/valid\\glioma\\Tr-gl_0327_jpg.rf.1b50ab9710a3a9773e2d463c66ca83c2.jpg\n",
            "  Tumour/valid\\glioma\\Tr-gl_0328_jpg.rf.33a2b2410aa58fc8618eef05a686f421.jpg\n",
            "  Tumour/valid\\glioma\\Tr-gl_0369_jpg.rf.b8ece64c33c16eb84553edd6e1f680a6.jpg\n",
            "  Tumour/valid\\glioma\\Tr-gl_0411_jpg.rf.3c3b74fd8d205503162d1e740114abab.jpg\n",
            "  Tumour/valid\\meningioma\\Tr-me_0283_jpg.rf.94d48afd073d76c74d12a6c92df74d33.jpg\n",
            "  Tumour/valid\\meningioma\\Tr-me_0284_jpg.rf.1cf74297cd54b5d975f56a89bd53e0f0.jpg\n",
            "  Tumour/valid\\meningioma\\Tr-me_0291_jpg.rf.1306cdcfd547d5079667832a3f12c0da.jpg\n",
            "  Tumour/valid\\no_tumor\\Tr-no_0204_jpg.rf.f9c4f87711ef9a58baeab3cc68d4eafe.jpg\n",
            "  Tumour/valid\\no_tumor\\Tr-no_0244_jpg.rf.32d8b2c33573957475c0783b2fd5f2ec.jpg\n",
            "  Tumour/valid\\no_tumor\\Tr-no_0403_jpg.rf.0679a601e73f8faacdeeafb889647779.jpg\n",
            "  Tumour/valid\\no_tumor\\Tr-no_0424_jpg.rf.f9b33b34824d6dcc6fa380fac2aa181f.jpg\n",
            "  Tumour/valid\\no_tumor\\Tr-no_0454_jpg.rf.24fb7d2cdfa787b92a1d3baefb374242.jpg\n",
            "  Tumour/valid\\no_tumor\\Tr-no_0542_jpg.rf.0293bea39aa274f43a0bf1acfb89abfc.jpg\n",
            "  Tumour/valid\\pituitary\\Tr-pi_0506_jpg.rf.e0ca5341c5bd41e9f8b3b9eb272e5e57.jpg\n",
            "  Tumour/valid\\pituitary\\Tr-pi_0550_jpg.rf.f349c6519adce5c0a651268e47dad739.jpg\n",
            "  Tumour/valid\\pituitary\\Tr-pi_0617_jpg.rf.a39671ee71188fd2c6c852b7437a09c9.jpg\n",
            "Duplicate hash 00387c7e7e3c1800:\n",
            "  Tumour/test\\glioma\\Tr-gl_0145_jpg.rf.d3c502513655260a6addaf252fcec4b7.jpg\n",
            "  Tumour/valid\\glioma\\Tr-gl_0253_jpg.rf.56d0db63cf5aac0969e820d4b5cc5bd2.jpg\n",
            "  Tumour/valid\\glioma\\Tr-gl_0310_jpg.rf.55b2520296336ec2735cb44f5650d53d.jpg\n",
            "Duplicate hash 083c3e7e7e7e3c00:\n",
            "  Tumour/test\\glioma\\Tr-gl_0154_jpg.rf.4b3cd239f7611bdc94efd7faa55472cc.jpg\n",
            "  Tumour/train\\glioma\\Tr-gl_0063_jpg.rf.5406e15c3e54bd4d49d92eb520263593.jpg\n",
            "  Tumour/train\\glioma\\Tr-gl_0153_jpg.rf.f7552a0a7edb444ab7211d5cfb9c510f.jpg\n",
            "Duplicate hash 003c7c7e7e7e3c00:\n",
            "  Tumour/test\\glioma\\Tr-gl_0155_jpg.rf.d2a05fc53bfef0dcdf6cf2753fbfd287.jpg\n",
            "  Tumour/test\\no_tumor\\Tr-no_0207_jpg.rf.c11cf70c91097ed667a38a5b6ba447b6.jpg\n",
            "  Tumour/train\\glioma\\Tr-gl_0077_jpg.rf.534f2b37e86aa6cc60bc559315aa015e.jpg\n",
            "  Tumour/train\\glioma\\Tr-gl_0197_jpg.rf.1e27daec08f47b91feec2f610a1d5d59.jpg\n",
            "  Tumour/train\\glioma\\Tr-gl_0201_jpg.rf.57832583c60455647e0f53a47d69397b.jpg\n",
            "  Tumour/train\\glioma\\Tr-gl_0202_jpg.rf.9c03333d80422b3508a1146e7c839064.jpg\n",
            "  Tumour/train\\glioma\\Tr-gl_0203_jpg.rf.76f0364a561a5b61afc58a660171d380.jpg\n",
            "  Tumour/train\\glioma\\Tr-gl_0329_jpg.rf.38d02f2dc698286284714ad2cc667b4f.jpg\n",
            "  Tumour/train\\glioma\\Tr-gl_0353_jpg.rf.a5e682f00d03890174a798d4d54064ef.jpg\n",
            "  Tumour/train\\glioma\\Tr-gl_0412_jpg.rf.9b3c5eedc81b3d9b96e223ec423d8f60.jpg\n",
            "  Tumour/valid\\glioma\\Tr-gl_0330_jpg.rf.ba4de1d56be291c3d65cce4fb9c8082b.jpg\n",
            "Duplicate hash 003c7e7e7e3c3c00:\n",
            "  Tumour/test\\glioma\\Tr-gl_0162_jpg.rf.8cbfb2507a5d66707d4cb67dacb4f0fe.jpg\n",
            "  Tumour/train\\glioma\\Tr-gl_0162_jpg.rf.5af939e057b86e3d7e6ef70edec84ea1.jpg\n",
            "  Tumour/train\\no_tumor\\Tr-no_0399_jpg.rf.4119cd437beccaafa74150aaa8063557.jpg\n",
            "  Tumour/train\\no_tumor\\Tr-no_0492_jpg.rf.2175883537f8a4b0c3f8268c75a9e318.jpg\n",
            "  Tumour/train\\no_tumor\\Tr-no_0522_jpg.rf.5cfacffc392f9a8b24cf703250aca85f.jpg\n",
            "  Tumour/train\\no_tumor\\Tr-no_0540_jpg.rf.48817be3789ccc4c9ca052d76c36335d.jpg\n",
            "  Tumour/valid\\meningioma\\Tr-me_0013_jpg.rf.74a51a9c5140e3a2367fad645cd3cd4a.jpg\n",
            "  Tumour/valid\\no_tumor\\Tr-no_0512_jpg.rf.4620846ffb92ae4e26df87acd6fbce72.jpg\n",
            "Duplicate hash 003c7e7e7e7c3800:\n",
            "  Tumour/test\\glioma\\Tr-gl_0163_jpg.rf.744856a107adc6196834a58021e16ca4.jpg\n",
            "  Tumour/train\\glioma\\Tr-gl_0266_jpg.rf.f1c3b08eb90f77463c87ab25b575f517.jpg\n",
            "Duplicate hash 00183c7c7c3c1800:\n",
            "  Tumour/test\\glioma\\Tr-gl_0167_jpg.rf.95df992778067333dc088c8b8b728844.jpg\n",
            "  Tumour/train\\glioma\\Tr-gl_0211_jpg.rf.c0344bc773447c1339025a15aa05c405.jpg\n",
            "  Tumour/train\\glioma\\Tr-gl_0212_jpg.rf.9857cc6555eff1bfa2fbcafe3aa8de01.jpg\n",
            "  Tumour/train\\glioma\\Tr-gl_0510_jpg.rf.1c4584c19458e2e10b1a3dd9ee49b28f.jpg\n",
            "Duplicate hash 183c7e7e7e3e3c00:\n",
            "  Tumour/test\\glioma\\Tr-gl_0170_jpg.rf.2abe6a775aa6100208d31f1240e7127f.jpg\n",
            "  Tumour/train\\glioma\\Tr-gl_0169_jpg.rf.bf25b05a8345a96e51560f67eed737f8.jpg\n",
            "  Tumour/train\\glioma\\Tr-gl_0426_jpg.rf.542ffbba533f1df319bd8f1183c1482f.jpg\n",
            "  Tumour/train\\glioma\\Tr-gl_0427_jpg.rf.ff60a0586431bfb4e458cff229dee93a.jpg\n",
            "Duplicate hash 001c3c7e7e7e3c00:\n",
            "  Tumour/test\\glioma\\Tr-gl_0205_jpg.rf.6a7d256ce9dc7645bc4767a4d8a570cc.jpg\n",
            "  Tumour/test\\glioma\\Tr-gl_0278_jpg.rf.2d2e5b394b899b5ee8e82a5d1487ddf0.jpg\n",
            "  Tumour/test\\no_tumor\\Tr-no_0440_jpg.rf.6e2faf1cbaa4f8b724b236c1b80ebb05.jpg\n",
            "  Tumour/train\\glioma\\Tr-gl_0072_jpg.rf.f5005968794aa3da98ce004f59e4d1f7.jpg\n",
            "  Tumour/train\\glioma\\Tr-gl_0199_jpg.rf.696adf593b227cd5cd7e6c8196103c55.jpg\n",
            "  Tumour/train\\glioma\\Tr-gl_0204_jpg.rf.ddfa714b945b43f79a48b49020fd1896.jpg\n",
            "  Tumour/train\\glioma\\Tr-gl_0260_jpg.rf.31c78a49c4c7952eba26a5b9fc26d9fd.jpg\n",
            "  Tumour/train\\glioma\\Tr-gl_0261_jpg.rf.c04599965fcfe5bfa9d8cfd3f02e4c8e.jpg\n",
            "  Tumour/train\\glioma\\Tr-gl_0276_jpg.rf.ea9cf5831f4ca116614b91cf5eab441b.jpg\n",
            "  Tumour/train\\glioma\\Tr-gl_0334_jpg.rf.a65bb88c9ae439251435ecd0de95140c.jpg\n",
            "  Tumour/train\\glioma\\Tr-gl_0414_jpg.rf.eb077601d613ae7513c5a796b387a4a3.jpg\n",
            "  Tumour/train\\glioma\\Tr-gl_0525_jpg.rf.65de8fbfb238aa66de66b72a5d745edc.jpg\n",
            "  Tumour/train\\meningioma\\Tr-me_0042_jpg.rf.61d3720a46d017b4c85743b767581241.jpg\n",
            "  Tumour/train\\meningioma\\Tr-me_0080_jpg.rf.5e0f450692e6058fad4128b799e3ed37.jpg\n",
            "  Tumour/train\\meningioma\\Tr-me_0081_jpg.rf.18939e2b4906772cb5171f04acb5c375.jpg\n",
            "  Tumour/valid\\glioma\\Tr-gl_0415_jpg.rf.d886fe2ccb7ebf567ab7fa6f9f2461e3.jpg\n",
            "Duplicate hash 001c3c7e7e3c1800:\n",
            "  Tumour/test\\glioma\\Tr-gl_0208_jpg.rf.429e77dbb6ecf654d7df6e6bd8f2686a.jpg\n",
            "  Tumour/test\\glioma\\Tr-gl_0311_jpg.rf.505922913c93b1642361ba1506a5a229.jpg\n",
            "  Tumour/train\\glioma\\Tr-gl_0254_jpg.rf.77ddaf2d781cb0eea28762f17bfc722b.jpg\n",
            "  Tumour/train\\glioma\\Tr-gl_0255_jpg.rf.1f9b66ee4cf6f1dff53bf48e236f1762.jpg\n",
            "  Tumour/valid\\glioma\\Tr-gl_0209_jpg.rf.750ce6186bc3c463ae20c02fcbf361dc.jpg\n",
            "Duplicate hash 00383c7e7e3c1800:\n",
            "  Tumour/test\\glioma\\Tr-gl_0208_jpg.rf.b73ed342b09fdd752ae87a3032c5ac32.jpg\n",
            "  Tumour/train\\glioma\\Tr-gl_0209_jpg.rf.5e420e26cb3384eeb12e0702ca384b3c.jpg\n",
            "  Tumour/train\\glioma\\Tr-gl_0254_jpg.rf.ba63c2502742c5cd057d4b1e6b0589f9.jpg\n",
            "  Tumour/train\\glioma\\Tr-gl_0255_jpg.rf.ef5220fcb05e6f58de8c73bd5c6234da.jpg\n",
            "  Tumour/valid\\glioma\\Tr-gl_0311_jpg.rf.ea40dda73b6719fedfa6291a31d7d6db.jpg\n",
            "Duplicate hash 001c3c7e7e7c3c00:\n",
            "  Tumour/test\\glioma\\Tr-gl_0216_jpg.rf.d2d74ab32cc19fed35821600fdbc305c.jpg\n",
            "  Tumour/train\\glioma\\Tr-gl_0213_jpg.rf.cd11e1fb6b3e7930ab249acf76407f5d.jpg\n",
            "  Tumour/train\\glioma\\Tr-gl_0389_jpg.rf.f3ce4f125a0d4f093418cce842b22e69.jpg\n",
            "  Tumour/train\\meningioma\\Tr-me_0325_jpg.rf.15fc33f9842d10d6a3b9f9fb8311ebf2.jpg\n",
            "  Tumour/train\\meningioma\\Tr-me_0326_jpg.rf.24646898942163bcf5a169ce66d5afb4.jpg\n",
            "  Tumour/valid\\glioma\\Tr-gl_0066_jpg.rf.2c55f529cecd4c090b56060f0cdf48d7.jpg\n",
            "Duplicate hash 003c3c7e767c3c00:\n",
            "  Tumour/test\\glioma\\Tr-gl_0224_jpg.rf.e72224d5291fc40fdf80ec90bcdf8555.jpg\n",
            "  Tumour/train\\glioma\\Tr-gl_0226_jpg.rf.4f8d19f9d62867e0af4fb2f945c927e2.jpg\n",
            "Duplicate hash 003c3c7e6e3e3c00:\n",
            "  Tumour/test\\glioma\\Tr-gl_0226_jpg.rf.c82c827defa234bac8b7f134d1b980c3.jpg\n",
            "  Tumour/train\\glioma\\Tr-gl_0224_jpg.rf.93363f50f0851bdc44b0adf0af6c4299.jpg\n",
            "  Tumour/valid\\glioma\\Tr-gl_0225_jpg.rf.4fe5b52df0437ad3f8387a167a685bd6.jpg\n",
            "Duplicate hash 00383c7e7e7e3c00:\n",
            "  Tumour/test\\glioma\\Tr-gl_0259_jpg.rf.c965a53e75bc7826919175cbcb1b448e.jpg\n",
            "  Tumour/train\\glioma\\Tr-gl_0199_jpg.rf.647672bc66e2355a118217e5eeae1df9.jpg\n",
            "  Tumour/train\\glioma\\Tr-gl_0204_jpg.rf.ff2320179181eb825377b8cc4de309aa.jpg\n",
            "  Tumour/train\\glioma\\Tr-gl_0205_jpg.rf.1dc96901f635d3659a8af1c5e19926a3.jpg\n",
            "  Tumour/train\\glioma\\Tr-gl_0260_jpg.rf.960ac18bc02f5b0d5fa2c20230066b8b.jpg\n",
            "  Tumour/train\\glioma\\Tr-gl_0261_jpg.rf.fdfe6e8493b5b9918572509140bf309a.jpg\n",
            "  Tumour/train\\glioma\\Tr-gl_0276_jpg.rf.3e16222530dc78789a862f1820cfea5c.jpg\n",
            "  Tumour/train\\glioma\\Tr-gl_0278_jpg.rf.4e5acbd54367fa4ab55511b735263e51.jpg\n",
            "  Tumour/train\\glioma\\Tr-gl_0334_jpg.rf.3a77a0c7c79d7ad8f90869b9943e4ac7.jpg\n",
            "  Tumour/train\\glioma\\Tr-gl_0414_jpg.rf.2c710df01a45999315302576bd476678.jpg\n",
            "  Tumour/train\\glioma\\Tr-gl_0415_jpg.rf.bf5fb6d9cd0a4445a7135a250ca8d14c.jpg\n",
            "  Tumour/train\\glioma\\Tr-gl_0525_jpg.rf.50acb394c897108085c32c5b6e451556.jpg\n",
            "  Tumour/valid\\glioma\\Tr-gl_0072_jpg.rf.317d736b2daced96c4bb766c0ed11229.jpg\n",
            "  Tumour/valid\\glioma\\Tr-gl_0258_jpg.rf.404c22ac1e6913f9cf84c65102224e1e.jpg\n",
            "Duplicate hash 00183c7e7e7e3c00:\n",
            "  Tumour/test\\glioma\\Tr-gl_0277_jpg.rf.1fc9f0b20b9a7a81fecd80c7a4990956.jpg\n",
            "  Tumour/test\\glioma\\Tr-gl_0352_jpg.rf.ac4d1f13299b0464043fbc1f3ddb4628.jpg\n",
            "  Tumour/test\\meningioma\\Tr-me_0044_jpg.rf.0223369274dd825d3ff27ace105f878f.jpg\n",
            "  Tumour/test\\meningioma\\Tr-me_0120_jpg.rf.b6179666710d2cfc633b488ee4cf72d5.jpg\n",
            "  Tumour/train\\glioma\\Tr-gl_0071_jpg.rf.9767ff0af1505d171b034676ef9a46b2.jpg\n",
            "  Tumour/train\\glioma\\Tr-gl_0244_jpg.rf.42a1fb7dbfd08c8f45ec2445153364b7.jpg\n",
            "  Tumour/train\\glioma\\Tr-gl_0244_jpg.rf.b5b9adcd89c7cf9afcbff3142b63e1f9.jpg\n",
            "  Tumour/train\\glioma\\Tr-gl_0245_jpg.rf.811fbf125d65418c882192b7586ba826.jpg\n",
            "  Tumour/train\\glioma\\Tr-gl_0262_jpg.rf.7a8105d442c9a87eeedc91fefffee2f5.jpg\n",
            "  Tumour/train\\glioma\\Tr-gl_0262_jpg.rf.b912c26307670e0d9eae30d224116705.jpg\n",
            "  Tumour/train\\glioma\\Tr-gl_0270_jpg.rf.875040796d2cae86c0f6608d3ca7a060.jpg\n",
            "  Tumour/train\\glioma\\Tr-gl_0277_jpg.rf.32321fa232a1fb1b7f6c2a180e629ac6.jpg\n",
            "  Tumour/train\\glioma\\Tr-gl_0279_jpg.rf.3d4c5e585f28b92ff96a0dd65d37ad58.jpg\n",
            "  Tumour/train\\glioma\\Tr-gl_0279_jpg.rf.e39dcbb98bfb41f9a36694d5374054bf.jpg\n",
            "  Tumour/train\\glioma\\Tr-gl_0335_jpg.rf.e9d98af695883361654e6735710abf35.jpg\n",
            "  Tumour/train\\glioma\\Tr-gl_0351_jpg.rf.67ed55c5dd72bcf0e9328ca0242be563.jpg\n",
            "  Tumour/train\\glioma\\Tr-gl_0352_jpg.rf.d277c9591b3388bd5e614d15411d0df7.jpg\n",
            "  Tumour/train\\glioma\\Tr-gl_0360_jpg.rf.51523d83ae284f882e853ab827d108ba.jpg\n",
            "  Tumour/train\\glioma\\Tr-gl_0360_jpg.rf.c865c1798210b25f4a137a018db72945.jpg\n",
            "  Tumour/train\\glioma\\Tr-gl_0526_jpg.rf.3807fb6f17a843d4e56c3179deb749bd.jpg\n",
            "  Tumour/train\\glioma\\Tr-gl_0526_jpg.rf.db18a422624a4127ceeca567b4cc2513.jpg\n",
            "  Tumour/train\\meningioma\\Tr-me_0300_jpg.rf.ed81d46d56472a7f6390134fc50fedaf.jpg\n",
            "  Tumour/train\\no_tumor\\Tr-no_0051_jpg.rf.d2b9238f8b51caadbdad28743204b4f7.jpg\n",
            "  Tumour/train\\no_tumor\\Tr-no_0100_jpg.rf.8542a9503915e0c26f464a290927446d.jpg\n",
            "  Tumour/valid\\glioma\\Tr-gl_0071_jpg.rf.c201d87564a1cc43f00d6dda444fe396.jpg\n",
            "  Tumour/valid\\glioma\\Tr-gl_0245_jpg.rf.808e58cedd79711db379b4c5a21ed388.jpg\n",
            "  Tumour/valid\\glioma\\Tr-gl_0335_jpg.rf.34c64799b0e8cba26604dcc6c4edeca2.jpg\n",
            "  Tumour/valid\\meningioma\\Tr-me_0016_jpg.rf.e81ae77f87f921226a1979c813434ac6.jpg\n",
            "  Tumour/valid\\meningioma\\Tr-me_0082_jpg.rf.440f30776361934146fefb5869a4926d.jpg\n",
            "  Tumour/valid\\meningioma\\Tr-me_0131_jpg.rf.7a1298f0b92d0ef5b4004576ea034d25.jpg\n",
            "Duplicate hash 003c3e7e7e3c1c00:\n",
            "  Tumour/test\\glioma\\Tr-gl_0301_jpg.rf.9e87b3d71315a64cc5b1d1562a430008.jpg\n",
            "  Tumour/train\\glioma\\Tr-gl_0370_jpg.rf.45f05fb557fa28267f08d5c43caa5a3c.jpg\n",
            "  Tumour/valid\\glioma\\Tr-gl_0302_jpg.rf.0d359f595d6641267c9dfcec1c97c4ae.jpg\n",
            "Duplicate hash 00183c3c7e3c3c00:\n",
            "  Tumour/test\\glioma\\Tr-gl_0314_jpg.rf.711486e6fc7048994a3b11ff86678f65.jpg\n",
            "  Tumour/train\\glioma\\Tr-gl_0313_jpg.rf.7853e11ecfa27fdd55786ab5d6bd61df.jpg\n",
            "  Tumour/train\\glioma\\Tr-gl_0314_jpg.rf.ffe201d31da88d590a610ec789c54630.jpg\n",
            "  Tumour/valid\\glioma\\Tr-gl_0313_jpg.rf.5a994a722de484cccbbac1092f63c3cf.jpg\n",
            "  Tumour/valid\\meningioma\\Tr-me_0333_jpg.rf.abe9e4bb3e81c5de98336c7c419244f3.jpg\n",
            "Duplicate hash 003c7e7e7e7e3e00:\n",
            "  Tumour/test\\glioma\\Tr-gl_0356_jpg.rf.085eb6362f544fa8cebb0c1a60fd750b.jpg\n",
            "  Tumour/train\\glioma\\Tr-gl_0423_jpg.rf.563cdd11bdd2bad55997f112fc8a4b76.jpg\n",
            "  Tumour/train\\no_tumor\\Tr-no_0303_jpg.rf.675351270a549b44cdfbc7c219cbe696.jpg\n",
            "Duplicate hash 003c7e7e7e7e3c18:\n",
            "  Tumour/test\\glioma\\Tr-gl_0367_jpg.rf.6b18c8bb3bf2ce4d7a8bea418788f954.jpg\n",
            "  Tumour/test\\meningioma\\Tr-me_0059_jpg.rf.a7ddf325d1b4508eb5e9048c5cb9133d.jpg\n",
            "  Tumour/test\\meningioma\\Tr-me_0084_jpg.rf.8da0909e5ac2b199b846a7b8a7ae18d0.jpg\n",
            "  Tumour/test\\no_tumor\\Tr-no_0530_jpg.rf.8d2847e95d8135bb9bd13c8383e4ce8c.jpg\n",
            "  Tumour/test\\pituitary\\Tr-pi_0134_jpg.rf.fe52bea9481b28a403f0436ab88dafee.jpg\n",
            "  Tumour/test\\pituitary\\Tr-pi_0508_jpg.rf.99be47a24afc974d5a9fb8d670dadc68.jpg\n",
            "  Tumour/train\\glioma\\Tr-gl_0367_jpg.rf.8b6514cd8c8c8b7ca18fded613bfe6cc.jpg\n",
            "  Tumour/train\\meningioma\\Tr-me_0061_jpg.rf.76d55329617953b68a5e3b79b05e0bdf.jpg\n",
            "  Tumour/train\\no_tumor\\Tr-no_0302_jpg.rf.286070eae2729929318203e2fd9069e9.jpg\n",
            "  Tumour/train\\pituitary\\Tr-pi_0112_jpg.rf.c926ae224fe9e5745797d45f3b4a7425.jpg\n",
            "  Tumour/train\\pituitary\\Tr-pi_0167_jpg.rf.bf3a10b82161ca3042c8e481b9c35548.jpg\n",
            "  Tumour/train\\pituitary\\Tr-pi_0507_jpg.rf.2ecb27fe932ca99f7fe915f18d1ed7c1.jpg\n",
            "  Tumour/train\\pituitary\\Tr-pi_0509_jpg.rf.7d9613f2fa8bb734154d755f3e5574fa.jpg\n",
            "  Tumour/train\\pituitary\\Tr-pi_0510_jpg.rf.f74a7ed247212da9664456970b17dc26.jpg\n",
            "  Tumour/train\\pituitary\\Tr-pi_0547_jpg.rf.27ca437671a0314f5a2c3464fef96a1d.jpg\n",
            "  Tumour/train\\pituitary\\Tr-pi_0548_jpg.rf.eaa38312c35351cf1e7f8e2bcb2f4018.jpg\n",
            "  Tumour/train\\pituitary\\Tr-pi_0573_jpg.rf.9711cf44f214800454287061e64346f8.jpg\n",
            "  Tumour/train\\pituitary\\Tr-pi_0592_jpg.rf.b3a105d1987c4d538ef2c820442a2a45.jpg\n",
            "  Tumour/train\\pituitary\\Tr-pi_0593_jpg.rf.e0f2dc3e6cb1d0c1910e35322183c6c2.jpg\n",
            "  Tumour/train\\pituitary\\Tr-pi_0594_jpg.rf.f82c291194a16138e9aa6f97be4a9e02.jpg\n",
            "  Tumour/train\\pituitary\\Tr-pi_0624_jpg.rf.5b5d833bcd9dd124a5fc7afc666594dd.jpg\n",
            "  Tumour/train\\pituitary\\Tr-pi_0628_jpg.rf.46d7ac2baa22a9a5a284d218f3b8f769.jpg\n",
            "  Tumour/train\\pituitary\\Tr-pi_0630_jpg.rf.c02c88daafce1edf6fac42ff296c50a2.jpg\n",
            "  Tumour/train\\pituitary\\Tr-pi_0647_jpg.rf.fea3b502eeda727c8b2854c367f2b9cf.jpg\n",
            "  Tumour/train\\pituitary\\Tr-pi_0648_jpg.rf.768354bbecd24f98efbc55f0c7569e17.jpg\n",
            "  Tumour/train\\pituitary\\Tr-pi_0650_jpg.rf.ad13323a5b6c80cc0e3126bbaf776d79.jpg\n",
            "  Tumour/valid\\meningioma\\Tr-me_0087_jpg.rf.db748bada11b3cce63d2ffbfb906b981.jpg\n",
            "  Tumour/valid\\pituitary\\Tr-pi_0123_jpg.rf.b5481d3e9afaa4986bddbf5a20c4a940.jpg\n",
            "  Tumour/valid\\pituitary\\Tr-pi_0574_jpg.rf.57239d00f779abe2e45c3928f86a7efb.jpg\n",
            "  Tumour/valid\\pituitary\\Tr-pi_0633_jpg.rf.0b01a27b62739c6961d51afdbe22692c.jpg\n",
            "Duplicate hash 183c3c7e7e7e3c00:\n",
            "  Tumour/test\\glioma\\Tr-gl_0381_jpg.rf.9389dcdc94c61b058b96aff07e6fecbb.jpg\n",
            "  Tumour/train\\glioma\\Tr-gl_0088_jpg.rf.5a152293780edf6294d0946009b4ef0f.jpg\n",
            "  Tumour/train\\glioma\\Tr-gl_0088_jpg.rf.c10bd9703e67b944ce75cf6b933a5302.jpg\n",
            "  Tumour/train\\glioma\\Tr-gl_0381_jpg.rf.d883b82aa4f2230501989d4d167d23a2.jpg\n",
            "  Tumour/train\\glioma\\Tr-gl_0533_jpg.rf.c1c5e1056a169ea7bb34eb7cfa7fec40.jpg\n",
            "  Tumour/train\\no_tumor\\Tr-no_0226_jpg.rf.a2bc50be29f6b21752f67cb87ff61da8.jpg\n",
            "  Tumour/valid\\glioma\\Tr-gl_0533_jpg.rf.2cd5068dcdaf73625fc5378335a6a73d.jpg\n",
            "Duplicate hash 003c3e7e7e7c3c00:\n",
            "  Tumour/test\\glioma\\Tr-gl_0386_jpg.rf.1323d579421a7a8b821ce882e2a0fdb1.jpg\n",
            "  Tumour/test\\glioma\\Tr-gl_0516_jpg.rf.465f14d7e499d86c90ae673726c6826b.jpg\n",
            "  Tumour/train\\glioma\\Tr-gl_0060_jpg.rf.4f9671092727cf59e2fc30e8ce7fbfe9.jpg\n",
            "  Tumour/train\\glioma\\Tr-gl_0126_jpg.rf.fae17fdfdba906952459f8c391267bf8.jpg\n",
            "  Tumour/train\\glioma\\Tr-gl_0235_jpg.rf.9bf8e9c5538b275973cfcd648422e80f.jpg\n",
            "  Tumour/train\\glioma\\Tr-gl_0354_jpg.rf.d383b58ce42dfd173a7d5d031a1a8dca.jpg\n",
            "Duplicate hash 003c3c7e7e3c1800:\n",
            "  Tumour/test\\glioma\\Tr-gl_0400_jpg.rf.333b6def3021f57a2faebc5b0a5445a7.jpg\n",
            "  Tumour/valid\\glioma\\Tr-gl_0400_jpg.rf.7c4366f248ab5447069845ef3832bd98.jpg\n",
            "Duplicate hash 00183c7e7e3c1800:\n",
            "  Tumour/test\\glioma\\Tr-gl_0402_jpg.rf.5d48291cd294085664b6982e52853a54.jpg\n",
            "  Tumour/test\\glioma\\Tr-gl_0555_jpg.rf.8c04fc87ea89ca47e9a7772cbd55fb47.jpg\n",
            "  Tumour/train\\glioma\\Tr-gl_0056_jpg.rf.ac88c9ed01ee56484e8ed23a7c20f010.jpg\n",
            "  Tumour/train\\glioma\\Tr-gl_0056_jpg.rf.c5b22a52671f3a2b8f38af30c9c97439.jpg\n",
            "  Tumour/train\\glioma\\Tr-gl_0091_jpg.rf.a6f211bcde3586777e7d92f19fb20854.jpg\n",
            "  Tumour/train\\glioma\\Tr-gl_0239_jpg.rf.68e1b42c2b95287c69f57b416b666cb1.jpg\n",
            "  Tumour/train\\glioma\\Tr-gl_0240_jpg.rf.0da68928d1e7c7002a2b86d356ba6cb9.jpg\n",
            "  Tumour/train\\glioma\\Tr-gl_0240_jpg.rf.97bdf3fda0be7252a043d25b174dd9b0.jpg\n",
            "  Tumour/train\\glioma\\Tr-gl_0241_jpg.rf.76f05258d34550a5dc79d06c648871fc.jpg\n",
            "  Tumour/train\\glioma\\Tr-gl_0241_jpg.rf.e9963f6905503bdc8d3c55d667884705.jpg\n",
            "  Tumour/train\\glioma\\Tr-gl_0401_jpg.rf.3638df138e9e30cfebd26280609aba26.jpg\n",
            "  Tumour/train\\glioma\\Tr-gl_0401_jpg.rf.4898948fbf99136a6cee9321a4b81952.jpg\n",
            "  Tumour/train\\glioma\\Tr-gl_0402_jpg.rf.c27780604d04d4a83c1cb177f6facbcc.jpg\n",
            "  Tumour/train\\glioma\\Tr-gl_0554_jpg.rf.010a72c1c25cc9ce83c77fbb23db21e3.jpg\n",
            "  Tumour/train\\glioma\\Tr-gl_0554_jpg.rf.65ba57e46f9c4fc2af0241a2612c9601.jpg\n",
            "  Tumour/train\\glioma\\Tr-gl_0555_jpg.rf.5d50e1ca77175258e01172ea3c74e5ef.jpg\n",
            "  Tumour/valid\\glioma\\Tr-gl_0057_jpg.rf.00db06a404574ba14346d9a5416f878f.jpg\n",
            "  Tumour/valid\\glioma\\Tr-gl_0057_jpg.rf.825bc3f1fb9ca596ff8e35935507dfa6.jpg\n",
            "  Tumour/valid\\glioma\\Tr-gl_0239_jpg.rf.6e5cff37515b73707663e8ff1537460a.jpg\n",
            "  Tumour/valid\\glioma\\Tr-gl_0325_jpg.rf.350261eec368000bdb3016a91e79079f.jpg\n",
            "  Tumour/valid\\glioma\\Tr-gl_0325_jpg.rf.8127e0eaaf77ccb9b8152c9f6b96ae8e.jpg\n",
            "Duplicate hash 183c7e7e7e7e3c00:\n",
            "  Tumour/test\\glioma\\Tr-gl_0407_jpg.rf.fa29802afcce0d1f55cc23e10c5a51f6.jpg\n",
            "  Tumour/test\\no_tumor\\Tr-no_0437_jpg.rf.ef7da7bdf423d16bf218dbf3f264c657.jpg\n",
            "  Tumour/train\\glioma\\Tr-gl_0083_jpg.rf.060a37614010eb501f1bb16895dac6dc.jpg\n",
            "  Tumour/train\\glioma\\Tr-gl_0083_jpg.rf.4f4c99a1340bb832b929a1be6cd2f6f7.jpg\n",
            "  Tumour/train\\glioma\\Tr-gl_0092_jpg.rf.0afaa197c526e7c2d2c7532cc96888de.jpg\n",
            "  Tumour/train\\glioma\\Tr-gl_0092_jpg.rf.c85c35f1901afb04cfe1bd3756883f09.jpg\n",
            "  Tumour/train\\glioma\\Tr-gl_0380_jpg.rf.428bc74b286a37957ddcb8f4473a96ed.jpg\n",
            "  Tumour/train\\glioma\\Tr-gl_0446_jpg.rf.34342b10d047802289f94103c0b36bc1.jpg\n",
            "  Tumour/train\\glioma\\Tr-gl_0446_jpg.rf.ac69440293a58bef685954059863e491.jpg\n",
            "  Tumour/train\\glioma\\Tr-gl_0529_jpg.rf.0ef5f7fce17f1241b660dbeecace25b8.jpg\n",
            "  Tumour/train\\glioma\\Tr-gl_0529_jpg.rf.1985b7f37c4d749c704056188d815a2c.jpg\n",
            "  Tumour/train\\glioma\\Tr-gl_0530_jpg.rf.383279604ebee205d4205cded121fa31.jpg\n",
            "  Tumour/train\\glioma\\Tr-gl_0530_jpg.rf.ac2266f413ada9177488609271d0e82a.jpg\n",
            "  Tumour/train\\no_tumor\\Tr-no_0034_jpg.rf.e8d332c37992848fa78862a233e33724.jpg\n",
            "  Tumour/train\\no_tumor\\Tr-no_0039_jpg.rf.993141fff8ba78371b512eb042555050.jpg\n",
            "  Tumour/train\\no_tumor\\Tr-no_0284_jpg.rf.f5af688ac6294d6a4e00c7b70eab02a1.jpg\n",
            "  Tumour/train\\pituitary\\Tr-pi_0581_jpg.rf.86af8632eff1352a6b5a580c0d29c787.jpg\n",
            "  Tumour/train\\pituitary\\Tr-pi_0644_jpg.rf.81a31d62fd61c1cb98c702b190591aca.jpg\n",
            "  Tumour/valid\\glioma\\Tr-gl_0379_jpg.rf.daead52855228ce5de29791d75e1f2ec.jpg\n",
            "  Tumour/valid\\glioma\\Tr-gl_0380_jpg.rf.a125dbd9bbe7736a1415d9f25e2f1123.jpg\n",
            "Duplicate hash 003c7e7e7e7e3c38:\n",
            "  Tumour/test\\glioma\\Tr-gl_0417_jpg.rf.5b07d6e9a8546e45afebaf7bc2bda478.jpg\n",
            "  Tumour/train\\glioma\\Tr-gl_0107_jpg.rf.0b28a07528a965bb72803a204a02cd6c.jpg\n",
            "  Tumour/valid\\meningioma\\Tr-me_0536_jpg.rf.202c645fbd46c7e639390194c4af6dd3.jpg\n",
            "Duplicate hash 183c7e7e7e7c3c00:\n",
            "  Tumour/test\\glioma\\Tr-gl_0427_jpg.rf.3e1435627fd05b75c73ecbba2a6b5ce2.jpg\n",
            "  Tumour/train\\glioma\\Tr-gl_0169_jpg.rf.8ba44cce72a0f47c21ed93e1e5b35b5d.jpg\n",
            "  Tumour/train\\glioma\\Tr-gl_0426_jpg.rf.61b79799e42f5d74547ef38f5747c3ba.jpg\n",
            "  Tumour/valid\\glioma\\Tr-gl_0170_jpg.rf.d7ecf1aa90073f4f297a60c3aa98585c.jpg\n",
            "Duplicate hash 003c3e7e7e7e7e52:\n",
            "  Tumour/test\\glioma\\Tr-gl_0450_jpg.rf.6f5fdffaede01c3b1d195b18bee7729e.jpg\n",
            "  Tumour/train\\glioma\\Tr-gl_0113_jpg.rf.0ba49df9ea54d80d0e6e740382e45de6.jpg\n",
            "Duplicate hash 003c7e7e7e7e7e00:\n",
            "  Tumour/test\\glioma\\Tr-gl_0470_jpg.rf.ba9585d16d33457f3fcc6deaca05aa11.jpg\n",
            "  Tumour/train\\glioma\\Tr-gl_0013_jpg.rf.312d7ef8d55655cbf02c4143dfef3788.jpg\n",
            "  Tumour/train\\glioma\\Tr-gl_0470_jpg.rf.14ba82d7c3ab757c51fa34e44deadd9d.jpg\n",
            "  Tumour/valid\\meningioma\\Tr-me_0552_jpg.rf.b77673416bcfe592bb770cf4b8310f5e.jpg\n",
            "Duplicate hash 003c3c7e7e7c3c00:\n",
            "  Tumour/test\\glioma\\Tr-gl_0517_jpg.rf.2297fd67191bb4fe70145cb9dab13c1c.jpg\n",
            "  Tumour/train\\glioma\\Tr-gl_0061_jpg.rf.47b8f1c983a618b87cc2c927336205ce.jpg\n",
            "  Tumour/train\\glioma\\Tr-gl_0089_jpg.rf.abecbe5c560dd48f5eaa433e20cc40a3.jpg\n",
            "  Tumour/train\\glioma\\Tr-gl_0090_jpg.rf.f0bc6b71096b6306b7989063b4062a7a.jpg\n",
            "  Tumour/train\\glioma\\Tr-gl_0127_jpg.rf.79ea373a9464f55f9d8127bfb047ef73.jpg\n",
            "  Tumour/train\\glioma\\Tr-gl_0267_jpg.rf.b5e1d7bb6be54b36f18897246afa0a84.jpg\n",
            "  Tumour/train\\glioma\\Tr-gl_0387_jpg.rf.478da82c769108a3a3b189a29853aa26.jpg\n",
            "  Tumour/train\\glioma\\Tr-gl_0388_jpg.rf.7504a8b9dbde678319235f89a0399612.jpg\n",
            "  Tumour/train\\glioma\\Tr-gl_0541_jpg.rf.3d9632f6c1846b49ff600d0dffc1445b.jpg\n",
            "  Tumour/train\\glioma\\Tr-gl_0549_jpg.rf.50d13e68cb686fdec2dba44f7e822b54.jpg\n",
            "  Tumour/train\\meningioma\\Tr-me_0078_jpg.rf.bb2bc1538503844c72ac7e0ab42b5ac0.jpg\n",
            "  Tumour/train\\meningioma\\Tr-me_0079_jpg.rf.c25df019ef46cb5d3384a088c62e5f21.jpg\n",
            "  Tumour/valid\\glioma\\Tr-gl_0542_jpg.rf.be9509b1f16557c466a18cf7d49d71aa.jpg\n",
            "  Tumour/valid\\glioma\\Tr-gl_0543_jpg.rf.a5ee38fd2f8c51f904e4c5ceb4f1da4f.jpg\n",
            "  Tumour/valid\\meningioma\\Tr-me_0340_jpg.rf.0d51190a75d86e6d2eef8a658f9204fb.jpg\n",
            "Duplicate hash 083c7e7e7e7e3c00:\n",
            "  Tumour/test\\glioma\\Tr-gl_0528_jpg.rf.aa863973db113d6c9a86c83d7756e0c3.jpg\n",
            "  Tumour/train\\glioma\\Tr-gl_0445_jpg.rf.269166a69d6753e0e5b57ac2557e078d.jpg\n",
            "  Tumour/train\\pituitary\\Tr-pi_0619_jpg.rf.3f97225d7b38d9a6971f718ab2974c51.jpg\n",
            "  Tumour/train\\pituitary\\Tr-pi_0620_jpg.rf.5bad8e98d449ee5e74f97a5c08432e4c.jpg\n",
            "  Tumour/train\\pituitary\\Tr-pi_0621_jpg.rf.bba66e69fcd1964bebb810c2b05b29bf.jpg\n",
            "  Tumour/valid\\glioma\\Tr-gl_0378_jpg.rf.237f0d39d9708e53948cce4ac822a235.jpg\n",
            "  Tumour/valid\\glioma\\Tr-gl_0444_jpg.rf.e5026a49f17534bbb3cce50b8c8de219.jpg\n",
            "Duplicate hash 003c3e7e7e3c3c00:\n",
            "  Tumour/test\\glioma\\Tr-gl_0539_jpg.rf.0838a09123057d28fef223771139ec3d.jpg\n",
            "  Tumour/train\\glioma\\Tr-gl_0122_jpg.rf.acfc3a9fe587095db0f50dc5db3b4ba1.jpg\n",
            "  Tumour/train\\glioma\\Tr-gl_0176_jpg.rf.48a9a3492f54d01f5324282d80cb112c.jpg\n",
            "  Tumour/train\\glioma\\Tr-gl_0538_jpg.rf.913cc9cccc008b5a75b8c4c520f126c3.jpg\n",
            "Duplicate hash 003c7c7e7e7c3c00:\n",
            "  Tumour/test\\glioma\\Tr-gl_0548_jpg.rf.dbb91bb5d2edac34db6dfc0bb6f8ed76.jpg\n",
            "  Tumour/train\\glioma\\Tr-gl_0051_jpg.rf.a3bbbd026819d3028f2b9250d56812e1.jpg\n",
            "  Tumour/train\\glioma\\Tr-gl_0068_jpg.rf.36cb82865c5e9cb05f56123a16d03b0b.jpg\n",
            "  Tumour/train\\glioma\\Tr-gl_0121_jpg.rf.775ca6b3b1455e5f996831f5f62d767c.jpg\n",
            "  Tumour/train\\glioma\\Tr-gl_0192_jpg.rf.93135517bc7620733332dd7b7a8a5762.jpg\n",
            "  Tumour/train\\glioma\\Tr-gl_0193_jpg.rf.c012e77183448c3e5ef51d6d58975329.jpg\n",
            "  Tumour/train\\glioma\\Tr-gl_0265_jpg.rf.4dd1e17636facf40d1206a45f824e180.jpg\n",
            "  Tumour/train\\glioma\\Tr-gl_0547_jpg.rf.7854f629f4a2d62e389398ebaec8b61a.jpg\n",
            "  Tumour/train\\meningioma\\Tr-me_0075_jpg.rf.23a73f87f10c47e52d92fc07cfb05e6e.jpg\n",
            "  Tumour/train\\meningioma\\Tr-me_0076_jpg.rf.4b827a8a90fcc82b2ee7f42b49687f0e.jpg\n",
            "  Tumour/valid\\glioma\\Tr-gl_0059_jpg.rf.fef35209b8d752266b21a98bde28487b.jpg\n",
            "  Tumour/valid\\no_tumor\\Tr-no_0359_jpg.rf.d34a11117c7dd0d242b2410e8a95f149.jpg\n",
            "Duplicate hash 183c7c7e7e3c3c00:\n",
            "  Tumour/test\\glioma\\Tr-gl_0557_jpg.rf.fa1dac6024cf5c9375f14b1f152fab4f.jpg\n",
            "  Tumour/train\\glioma\\Tr-gl_0074_jpg.rf.c35d9cc70d822f4fd167dd0a29c79339.jpg\n",
            "  Tumour/train\\glioma\\Tr-gl_0295_jpg.rf.4d64f4bf131ecec84750b15d36729a35.jpg\n",
            "  Tumour/train\\glioma\\Tr-gl_0556_jpg.rf.ff81a1ee93e72d940cdc5287f872a349.jpg\n",
            "  Tumour/train\\glioma\\Tr-gl_0558_jpg.rf.48c33d9b80349dd9660fc3bc53c55d43.jpg\n",
            "  Tumour/valid\\glioma\\Tr-gl_0294_jpg.rf.0aa8c2dd737d6fc088c894d13d202cc0.jpg\n",
            "Duplicate hash 00183c7c7e7c3c00:\n",
            "  Tumour/test\\meningioma\\Tr-me_0010_jpg.rf.64b09cdfd6ad5f8352e473a7d3015dba.jpg\n",
            "  Tumour/valid\\meningioma\\Tr-me_0327_jpg.rf.b30b9b14a51f93d4e558f007ddf38f8f.jpg\n",
            "  Tumour/valid\\no_tumor\\Tr-no_0420_jpg.rf.dc61b9dca5dd2fa27032ace1e0600bad.jpg\n",
            "Duplicate hash 001c3c7e7e3e3c00:\n",
            "  Tumour/test\\meningioma\\Tr-me_0035_jpg.rf.e4f21c06c7ce665e5258c3e0489185c5.jpg\n",
            "  Tumour/train\\glioma\\Tr-gl_0551_jpg.rf.e4025642cfb6c8b1b91b6940f7ca6c93.jpg\n",
            "  Tumour/train\\glioma\\Tr-gl_0552_jpg.rf.92043c43ebd2eca5b86e92015e5d5cf5.jpg\n",
            "  Tumour/train\\meningioma\\Tr-me_0033_jpg.rf.4f565f373a3e9a9a8f72e73805f493cf.jpg\n",
            "  Tumour/valid\\glioma\\Tr-gl_0550_jpg.rf.667b7e2e928c9e4ac209da273de22135.jpg\n",
            "Duplicate hash 003c3e7e7e7e3c00:\n",
            "  Tumour/test\\meningioma\\Tr-me_0041_jpg.rf.fd18fa5bcabe05b6cdd3987743a49315.jpg\n",
            "  Tumour/test\\meningioma\\Tr-me_0166_jpg.rf.ac1c7bd72675c2de94d614d1dc2e6147.jpg\n",
            "  Tumour/train\\glioma\\Tr-gl_0077_jpg.rf.a26984c5bc65210f25b50e856b2c40af.jpg\n",
            "  Tumour/train\\glioma\\Tr-gl_0155_jpg.rf.4d7f41b685849df0b3f0b15901026cb1.jpg\n",
            "  Tumour/train\\glioma\\Tr-gl_0197_jpg.rf.0a645462975988dd689753522fac4d35.jpg\n",
            "  Tumour/train\\glioma\\Tr-gl_0201_jpg.rf.6c3281f13c4ac0deb13a59f653973b80.jpg\n",
            "  Tumour/train\\glioma\\Tr-gl_0329_jpg.rf.f054f10ed40b49aaa09ebc4bfd71230f.jpg\n",
            "  Tumour/train\\glioma\\Tr-gl_0330_jpg.rf.62861b7d4b6f5b8cf06268948f4e9c8d.jpg\n",
            "  Tumour/train\\glioma\\Tr-gl_0353_jpg.rf.d0711093b36390c967679d29fbec82ec.jpg\n",
            "  Tumour/train\\meningioma\\Tr-me_0024_jpg.rf.7a1e73ec13e719155ae4e9fc0bfb6c4d.jpg\n",
            "  Tumour/train\\meningioma\\Tr-me_0025_jpg.rf.596159e7866e300be8cfe49a23569697.jpg\n",
            "  Tumour/train\\meningioma\\Tr-me_0040_jpg.rf.f4c62bf38eb25cd677e0cf8189da3fe2.jpg\n",
            "  Tumour/train\\meningioma\\Tr-me_0168_jpg.rf.a9687c3806473ae134ff87228c7001f0.jpg\n",
            "  Tumour/train\\no_tumor\\Tr-no_0197_jpg.rf.60d0b40321cabbc88823a744d081e172.jpg\n",
            "  Tumour/valid\\glioma\\Tr-gl_0200_jpg.rf.693cd511964a3a1887333638f40a6611.jpg\n",
            "  Tumour/valid\\glioma\\Tr-gl_0202_jpg.rf.3c8e0fde4be86affaede80d76afdd7ef.jpg\n",
            "  Tumour/valid\\glioma\\Tr-gl_0203_jpg.rf.b32a14e793e3ad3c9356aa38f29ad79a.jpg\n",
            "  Tumour/valid\\glioma\\Tr-gl_0412_jpg.rf.5ca886d8ba4878cd1214f8ccfb617d6f.jpg\n",
            "  Tumour/valid\\meningioma\\Tr-me_0167_jpg.rf.f15360ae98329ee44f7c741abe57c4a3.jpg\n",
            "  Tumour/valid\\no_tumor\\Tr-no_0011_jpg.rf.2d685dadf2e9b31c2812c59924e493e2.jpg\n",
            "Duplicate hash 00183c3e7e3e1c00:\n",
            "  Tumour/test\\meningioma\\Tr-me_0088_jpg.rf.e61e56a612e513fe2556d7a23c910913.jpg\n",
            "  Tumour/valid\\meningioma\\Tr-me_0036_jpg.rf.0bfcae12318f6945cc62eed27eae187d.jpg\n",
            "Duplicate hash 00183c7e3e3e3e3c:\n",
            "  Tumour/test\\meningioma\\Tr-me_0106_jpg.rf.55da295db7da9492bda3302329abc6db.jpg\n",
            "  Tumour/train\\meningioma\\Tr-me_0107_jpg.rf.678e6640ce6d79c4eb6a807ee8341913.jpg\n",
            "Duplicate hash 00183c3e7e7e3c00:\n",
            "  Tumour/test\\meningioma\\Tr-me_0142_jpg.rf.d76c5b45f09b846727afa1acd1bcd606.jpg\n",
            "  Tumour/train\\glioma\\Tr-gl_0361_jpg.rf.cea48d9c2842f7d6d63f34b2ee5fe940.jpg\n",
            "  Tumour/valid\\glioma\\Tr-gl_0080_jpg.rf.9cdddc00b5b5d9642aa1f90560e936bc.jpg\n",
            "  Tumour/valid\\glioma\\Tr-gl_0336_jpg.rf.0033e4da8602472a4fe3495c455ff736.jpg\n",
            "Duplicate hash 003c3c7e7e3e3e3c:\n",
            "  Tumour/test\\meningioma\\Tr-me_0143_jpg.rf.05f1fad0d3ae0848b844e86f0f0e8af6.jpg\n",
            "  Tumour/valid\\meningioma\\Tr-me_0147_jpg.rf.3a1f0471be1bff533f24ed39566a2936.jpg\n",
            "Duplicate hash 00183c7e7e7e7e3c:\n",
            "  Tumour/test\\meningioma\\Tr-me_0160_jpg.rf.1f4ca673d246a990414e02bba94d28e2.jpg\n",
            "  Tumour/train\\meningioma\\Tr-me_0100_jpg.rf.ee06f8e3899955e1fdf2670fa732a9d0.jpg\n",
            "  Tumour/train\\meningioma\\Tr-me_0150_jpg.rf.2336c04ab5758b1bf78d710b00118eb4.jpg\n",
            "  Tumour/train\\meningioma\\Tr-me_0388_jpg.rf.fa67c5fef216a7def8d4daa08ed9bcb6.jpg\n",
            "  Tumour/train\\meningioma\\Tr-me_0433_jpg.rf.8da5c208c8d10e7317b4638ecbe64cb6.jpg\n",
            "  Tumour/train\\no_tumor\\Tr-no_0247_jpg.rf.26f6d0fe6fb9293c4ae9234e32f2ae2f.jpg\n",
            "  Tumour/valid\\meningioma\\Tr-me_0436_jpg.rf.00da1d890dc1e945d12e64c364934318.jpg\n",
            "Duplicate hash 00183e7e7e7e3800:\n",
            "  Tumour/test\\meningioma\\Tr-me_0161_jpg.rf.e488e823e3c93bb05856ed51e7247431.jpg\n",
            "  Tumour/train\\meningioma\\Tr-me_0356_jpg.rf.be4ba7e5211c086bdfb21a53ee6b23df.jpg\n",
            "Duplicate hash 003c7e7e7f99fe7e:\n",
            "  Tumour/test\\meningioma\\Tr-me_0233_jpg.rf.392bbe6980734b332993f74e69da89d5.jpg\n",
            "  Tumour/train\\meningioma\\Tr-me_0221_jpg.rf.d2913e44979f3f10117ee5df13230f89.jpg\n",
            "Duplicate hash 003c3c7e7e7e3c00:\n",
            "  Tumour/test\\meningioma\\Tr-me_0271_jpg.rf.ec6d449ea98b3ade118067850306274d.jpg\n",
            "  Tumour/test\\meningioma\\Tr-me_0306_jpg.rf.dbbdbcc52dae31fb4705497760244c9b.jpg\n",
            "  Tumour/train\\glioma\\Tr-gl_0097_jpg.rf.202cf767218e66f210c1fdf81c65a3a3.jpg\n",
            "  Tumour/train\\glioma\\Tr-gl_0097_jpg.rf.c4069c7035a283fe799b8bc665b8a80a.jpg\n",
            "  Tumour/train\\glioma\\Tr-gl_0102_jpg.rf.269f2929701169f798d7a8fe6e4e11b8.jpg\n",
            "  Tumour/train\\glioma\\Tr-gl_0102_jpg.rf.dfa2d97d19e2f9952858fdfdda1429a8.jpg\n",
            "  Tumour/train\\glioma\\Tr-gl_0120_jpg.rf.a649cdc38ba8e9dc4be7e7150f565759.jpg\n",
            "  Tumour/train\\glioma\\Tr-gl_0331_jpg.rf.be9ad592138fd7835200d4235c836d8c.jpg\n",
            "  Tumour/train\\glioma\\Tr-gl_0332_jpg.rf.079b14c6e605effb7a3aaf961b18a8df.jpg\n",
            "  Tumour/train\\glioma\\Tr-gl_0350_jpg.rf.b6e996db6c2d3dcb8c8c79873acc07a7.jpg\n",
            "  Tumour/train\\glioma\\Tr-gl_0350_jpg.rf.b73dee57285232b08dcfd51e51e71d50.jpg\n",
            "  Tumour/train\\glioma\\Tr-gl_0382_jpg.rf.445bf028427ae31f0a09ca4e9be1e4f9.jpg\n",
            "  Tumour/train\\glioma\\Tr-gl_0383_jpg.rf.a55bd7a462a583f3ca5312b1756fe342.jpg\n",
            "  Tumour/train\\glioma\\Tr-gl_0518_jpg.rf.2c53af6907b757cf8426c23fac31ce9c.jpg\n",
            "  Tumour/train\\glioma\\Tr-gl_0518_jpg.rf.cc00f8077c2f5f885f6c511b6d0a4fec.jpg\n",
            "  Tumour/train\\glioma\\Tr-gl_0519_jpg.rf.4f01191d1fe02ae962a83007f22a7e53.jpg\n",
            "  Tumour/train\\glioma\\Tr-gl_0520_jpg.rf.572925b06c4a19f540db8be24cd5dd71.jpg\n",
            "  Tumour/train\\glioma\\Tr-gl_0521_jpg.rf.0bc47c01befbf59ccad3119644922353.jpg\n",
            "  Tumour/train\\glioma\\Tr-gl_0522_jpg.rf.66fccb4aa532f0580b3c1202350c04c2.jpg\n",
            "  Tumour/train\\glioma\\Tr-gl_0534_jpg.rf.0a69c9d42f89a6c12d60b1624de8b00c.jpg\n",
            "  Tumour/train\\glioma\\Tr-gl_0534_jpg.rf.71b130380390681781408fe0d5f7d90a.jpg\n",
            "  Tumour/train\\meningioma\\Tr-me_0169_jpg.rf.deb15c7604f379d82e9b9dca2165124e.jpg\n",
            "  Tumour/train\\no_tumor\\Tr-no_0023_jpg.rf.27440395a92d2d81deaaca66c80686b0.jpg\n",
            "  Tumour/train\\no_tumor\\Tr-no_0067_jpg.rf.5e49a2fb5d878817b8e42fb45ef70e40.jpg\n",
            "  Tumour/train\\no_tumor\\Tr-no_0141_jpg.rf.ee9d29a59078fb0bfea43b15a0be49e2.jpg\n",
            "  Tumour/train\\no_tumor\\Tr-no_0292_jpg.rf.6045a0d35fe17c17dcf8be66b3b7299a.jpg\n",
            "  Tumour/train\\no_tumor\\Tr-no_0426_jpg.rf.0026b06f369c5d51aca4c4c9beba88f0.jpg\n",
            "  Tumour/train\\no_tumor\\Tr-no_0438_jpg.rf.f466b367919ac0e3d41dfbe838ae58e5.jpg\n",
            "  Tumour/train\\no_tumor\\Tr-no_0486_jpg.rf.9984c2c3ef1791b38a88e03cb83b8338.jpg\n",
            "  Tumour/train\\no_tumor\\Tr-no_0496_jpg.rf.4055b727e947fd86a7f9899a2bd76d39.jpg\n",
            "  Tumour/train\\no_tumor\\Tr-no_0500_jpg.rf.aa4d9ba7f8c551a8795d8d09eb804506.jpg\n",
            "  Tumour/train\\pituitary\\Tr-pi_0515_jpg.rf.4ebc266d3480d63d4e3874384ca970af.jpg\n",
            "  Tumour/valid\\glioma\\Tr-gl_0120_jpg.rf.3e2a51b04a8e21e42b72a547dd83d28b.jpg\n",
            "  Tumour/valid\\glioma\\Tr-gl_0333_jpg.rf.f874fba563cd3e860879a5955cdff5e0.jpg\n",
            "  Tumour/valid\\glioma\\Tr-gl_0383_jpg.rf.929d9ea14810b02f36691adc3ee21fc6.jpg\n",
            "  Tumour/valid\\meningioma\\Tr-me_0307_jpg.rf.e7add77df9e2fefa25ed8f0cf11aaf70.jpg\n",
            "  Tumour/valid\\no_tumor\\Tr-no_0472_jpg.rf.71513abc76581df7d885a2bb59d521c4.jpg\n",
            "Duplicate hash 00183c3e7e3e3c08:\n",
            "  Tumour/test\\meningioma\\Tr-me_0294_jpg.rf.516fb7db4b45f6bf8ef84dc0bbd6a2b7.jpg\n",
            "  Tumour/train\\meningioma\\Tr-me_0295_jpg.rf.b592ddf3d8fa55ded17be074cde3ca02.jpg\n",
            "  Tumour/train\\meningioma\\Tr-me_0296_jpg.rf.2998aeccfda0d0c8f7d62047be3bf3c8.jpg\n",
            "Duplicate hash 00183c7c7e3c1800:\n",
            "  Tumour/test\\meningioma\\Tr-me_0321_jpg.rf.293afc9d48528f4b9ae3b550b4dd9edd.jpg\n",
            "  Tumour/train\\glioma\\Tr-gl_0069_jpg.rf.4a512299d43324ece1783cc58b2173cf.jpg\n",
            "  Tumour/train\\glioma\\Tr-gl_0195_jpg.rf.b6b1cc02e18eb36bba927345e5c9d5e0.jpg\n",
            "  Tumour/train\\glioma\\Tr-gl_0210_jpg.rf.c8a01e09bd47597a45bcd8da32e64b5e.jpg\n",
            "  Tumour/train\\glioma\\Tr-gl_0221_jpg.rf.89c41db2822d34cf7f13f3b4f7d241a7.jpg\n",
            "  Tumour/train\\glioma\\Tr-gl_0242_jpg.rf.c2bd25e098aea49c8caa92e9dee8ab53.jpg\n",
            "  Tumour/train\\glioma\\Tr-gl_0403_jpg.rf.59caec12d133bc1f351044845b15211e.jpg\n",
            "  Tumour/train\\meningioma\\Tr-me_0067_jpg.rf.24419424b03e99d9b7af98a1b04f8517.jpg\n",
            "  Tumour/valid\\glioma\\Tr-gl_0338_jpg.rf.37241c78ea36f6a06edb33e25488ffd0.jpg\n",
            "Duplicate hash 00003c7e7e7e7e3c:\n",
            "  Tumour/test\\meningioma\\Tr-me_0334_jpg.rf.9f27c921129a8d9d7037d58852219dfd.jpg\n",
            "  Tumour/train\\meningioma\\Tr-me_0336_jpg.rf.9d591789f36e4235b8cc497002040eb0.jpg\n",
            "Duplicate hash 00183c7e7e7e3c18:\n",
            "  Tumour/test\\meningioma\\Tr-me_0348_jpg.rf.2d2264edd57fa32329f3757fb139709b.jpg\n",
            "  Tumour/train\\glioma\\Tr-gl_0358_jpg.rf.0c1b1fc6110960981a8983b933f8d3d3.jpg\n",
            "  Tumour/train\\glioma\\Tr-gl_0358_jpg.rf.dd78a4a839d223e04e09ff12f8da655a.jpg\n",
            "  Tumour/train\\glioma\\Tr-gl_0359_jpg.rf.9cba56e5c1feb318057094622298b80b.jpg\n",
            "  Tumour/train\\glioma\\Tr-gl_0359_jpg.rf.c3fa431df2a5967783b5afed031d56ae.jpg\n",
            "  Tumour/valid\\glioma\\Tr-gl_0096_jpg.rf.0c4ed8b1147d2517bda3a502e498a969.jpg\n",
            "  Tumour/valid\\glioma\\Tr-gl_0096_jpg.rf.cea0f0e567f962a034cf7fbc788f13e7.jpg\n",
            "Duplicate hash 00183c3c7e7e3c00:\n",
            "  Tumour/test\\meningioma\\Tr-me_0351_jpg.rf.ad680f4e51acc68288b74538cdc9642b.jpg\n",
            "  Tumour/train\\meningioma\\Tr-me_0345_jpg.rf.fe895e458ab3c19cec0f10dd46f80dd1.jpg\n",
            "  Tumour/train\\meningioma\\Tr-me_0421_jpg.rf.bcbb03ccad64831b37ea6efac23ef7ff.jpg\n",
            "  Tumour/valid\\meningioma\\Tr-me_0019_jpg.rf.0a44b3f1b35d1e42712d59fd0af1b8b3.jpg\n",
            "Duplicate hash 003c7c7e7e7c7c3c:\n",
            "  Tumour/test\\meningioma\\Tr-me_0380_jpg.rf.cee73c7527b07c233df8ed493e43a499.jpg\n",
            "  Tumour/valid\\meningioma\\Tr-me_0391_jpg.rf.75dcd9052fbf592ece5927f3be6a6ed5.jpg\n",
            "Duplicate hash 003c7e7e7e7e7e7a:\n",
            "  Tumour/test\\meningioma\\Tr-me_0403_jpg.rf.f5dc0942037bc6516f6ab30cfb858714.jpg\n",
            "  Tumour/train\\meningioma\\Tr-me_0404_jpg.rf.c253be5536384b70047120c9dcd3ba7d.jpg\n",
            "  Tumour/train\\meningioma\\Tr-me_0405_jpg.rf.6317ee94767de66d3981155d64b33fb5.jpg\n",
            "  Tumour/train\\pituitary\\Tr-pi_0166_jpg.rf.be737e9c39a7d4372f2baa5011cb4a28.jpg\n",
            "  Tumour/train\\pituitary\\Tr-pi_0270_jpg.rf.3e3796a532ec93a39084f3a0230b6191.jpg\n",
            "  Tumour/valid\\pituitary\\Tr-pi_0161_jpg.rf.9595624d4c3f9d8a33cf3c886be7d369.jpg\n",
            "  Tumour/valid\\pituitary\\Tr-pi_0163_jpg.rf.3f78189a0fef8496aab202f4e5497b0f.jpg\n",
            "  Tumour/valid\\pituitary\\Tr-pi_0268_jpg.rf.3e0f85cf96c96c7dc0176b5486a7f50d.jpg\n",
            "Duplicate hash 183c7e7e7e3c3c2c:\n",
            "  Tumour/test\\meningioma\\Tr-me_0446_jpg.rf.4c344f1f1db81971df7e7b3a6d4e17d1.jpg\n",
            "  Tumour/valid\\meningioma\\Tr-me_0435_jpg.rf.5169c51a0019a00eb86f83172562d601.jpg\n",
            "Duplicate hash 00183c7e7e3e3e3c:\n",
            "  Tumour/test\\meningioma\\Tr-me_0452_jpg.rf.e03914140e3214057f5577735cd20a73.jpg\n",
            "  Tumour/train\\meningioma\\Tr-me_0453_jpg.rf.40cf0ab8aea3ef799642369d5b73370c.jpg\n",
            "Duplicate hash 003c7e7e7e5a7e7e:\n",
            "  Tumour/test\\meningioma\\Tr-me_0490_jpg.rf.a68a12b6d92b4ca664b67d258b448753.jpg\n",
            "  Tumour/train\\meningioma\\Tr-me_0501_jpg.rf.0cc507b188ad6a47ba703af11b8ae6b4.jpg\n",
            "Duplicate hash 1c3e7e7e2e7e3e04:\n",
            "  Tumour/test\\meningioma\\Tr-me_0515_jpg.rf.0d94d96dae98ea725db2e7ae2a7085bd.jpg\n",
            "  Tumour/train\\meningioma\\Tr-me_0517_jpg.rf.b1f0974119d0d84189ff7b584e6fc9f6.jpg\n",
            "Duplicate hash 003c3c7e7e7e3c18:\n",
            "  Tumour/test\\no_tumor\\Tr-no_0017_jpg.rf.2cedc1f6703d5a0b33b09208957d9223.jpg\n",
            "  Tumour/test\\no_tumor\\Tr-no_0172_jpg.rf.e2ceabc3d79ed534b4b41a8d77c8496d.jpg\n",
            "  Tumour/train\\meningioma\\Tr-me_0422_jpg.rf.57f056a958729653f518fcbc0bbfce96.jpg\n",
            "  Tumour/train\\no_tumor\\Tr-no_0013_jpg.rf.ba75dd083e4c092e31fd59db1a7de9dc.jpg\n",
            "  Tumour/train\\no_tumor\\Tr-no_0027_jpg.rf.59104146642b4037cdf05fd4ed37eb3a.jpg\n",
            "  Tumour/train\\no_tumor\\Tr-no_0028_jpg.rf.ccba830c95898cfd06f1a30ded6f6119.jpg\n",
            "  Tumour/train\\no_tumor\\Tr-no_0029_jpg.rf.8139d2c0a6a6ac06513fb8da09ae85bb.jpg\n",
            "  Tumour/train\\no_tumor\\Tr-no_0037_jpg.rf.2c4cc490d05da6a28e662af1ac2af7ce.jpg\n",
            "  Tumour/train\\no_tumor\\Tr-no_0195_jpg.rf.d71b760d38fd76a869980b3ef3416c3a.jpg\n",
            "  Tumour/train\\no_tumor\\Tr-no_0304_jpg.rf.dce38dce4060d6aced38885cdc927261.jpg\n",
            "  Tumour/train\\no_tumor\\Tr-no_0395_jpg.rf.aa4a68569d9cc58e46717188ff811e09.jpg\n",
            "  Tumour/train\\no_tumor\\Tr-no_0408_jpg.rf.ea42ba5ba48c34ba57095b92dbad43c0.jpg\n",
            "  Tumour/train\\no_tumor\\Tr-no_0442_jpg.rf.bf9322aaccdcbef60bc2ad5e0395f35e.jpg\n",
            "  Tumour/train\\no_tumor\\Tr-no_0444_jpg.rf.d3577dd2d91f8ccea1d7e04e2767c33a.jpg\n",
            "  Tumour/train\\no_tumor\\Tr-no_0483_jpg.rf.aa39bbbef3bca75ac47c03c02141c045.jpg\n",
            "  Tumour/train\\no_tumor\\Tr-no_0559_jpg.rf.f59b2f591d5e3227f428786cb3e59e9e.jpg\n",
            "  Tumour/valid\\no_tumor\\Tr-no_0183_jpg.rf.abefc1a2d62f10df388be9f8991e5537.jpg\n",
            "  Tumour/valid\\no_tumor\\Tr-no_0415_jpg.rf.9fe9cf9203cda4a1d368925d2f73affc.jpg\n",
            "  Tumour/valid\\no_tumor\\Tr-no_0458_jpg.rf.68473f14d66c48a22e78bf546d5220c4.jpg\n",
            "Duplicate hash 003c3c7c3c3c3c3c:\n",
            "  Tumour/test\\no_tumor\\Tr-no_0022_jpg.rf.450e5c79c994c8f3ccfd6e41b45147b6.jpg\n",
            "  Tumour/train\\meningioma\\Tr-me_0386_jpg.rf.5d900fa1688fbaea6c86b6dd8e7799eb.jpg\n",
            "  Tumour/train\\meningioma\\Tr-me_0387_jpg.rf.63c8fb22964d36514e16c524f9a995cb.jpg\n",
            "  Tumour/train\\no_tumor\\Tr-no_0243_jpg.rf.7fe98ecc436d30ca927aeb59abd39b7f.jpg\n",
            "Duplicate hash 103c7e7e7e7e3c18:\n",
            "  Tumour/test\\no_tumor\\Tr-no_0102_jpg.rf.5dc9cb55c27336399cd0c9cf5219c497.jpg\n",
            "  Tumour/test\\pituitary\\Tr-pi_0568_jpg.rf.71ddbc307577726d6a0b846fc72985e8.jpg\n",
            "Duplicate hash 007c7e7e7e7e7c38:\n",
            "  Tumour/test\\no_tumor\\Tr-no_0139_jpg.rf.51497327a9205e13b0b0477b6743efff.jpg\n",
            "  Tumour/train\\no_tumor\\Tr-no_0553_jpg.rf.6cf3489fea26ed0c6a6df5588e2a5be5.jpg\n",
            "Duplicate hash 00183c3c3c7c3c00:\n",
            "  Tumour/test\\no_tumor\\Tr-no_0213_jpg.rf.9f86eb86c0acc685b5da37c4b6ce347b.jpg\n",
            "  Tumour/train\\no_tumor\\Tr-no_0146_jpg.rf.b774f5ba58202644c9e64d6e45eb928f.jpg\n",
            "Duplicate hash 003c3c7c7e7c3c00:\n",
            "  Tumour/test\\no_tumor\\Tr-no_0277_jpg.rf.f002e96feb13347f05b2edc2fc59e526.jpg\n",
            "  Tumour/train\\meningioma\\Tr-me_0341_jpg.rf.f7acdade7cd73e0f9ab7b7c7a1bda436.jpg\n",
            "  Tumour/valid\\meningioma\\Tr-me_0342_jpg.rf.7bf7ccc52423c541c34641beb1876943.jpg\n",
            "  Tumour/valid\\no_tumor\\Tr-no_0436_jpg.rf.712e2b0c286ba52eb24b5ab9655d8287.jpg\n",
            "Duplicate hash 0c387c787d0e9e3e:\n",
            "  Tumour/test\\no_tumor\\Tr-no_0296_jpg.rf.60f8ac7faf208efd7073530cde38f74e.jpg\n",
            "  Tumour/train\\no_tumor\\Tr-no_0083_jpg.rf.03bae1be2aa42e89e261d020a0036938.jpg\n",
            "Duplicate hash 183c7e7e7e7e7e3c:\n",
            "  Tumour/test\\no_tumor\\Tr-no_0308_jpg.rf.e09b8408ed3772905a59c690ef227dde.jpg\n",
            "  Tumour/train\\meningioma\\Tr-me_0113_jpg.rf.f88b06f6f6865c109805492fe989287e.jpg\n",
            "  Tumour/train\\meningioma\\Tr-me_0114_jpg.rf.eb55f09193daf3df96b9c1c68c7de135.jpg\n",
            "  Tumour/train\\pituitary\\Tr-pi_0277_jpg.rf.a3d0518540d1ec6fae8ef22a2fb8424f.jpg\n",
            "  Tumour/train\\pituitary\\Tr-pi_0282_jpg.rf.48c10156ae6e5acd4f459c3e25570bb7.jpg\n",
            "  Tumour/train\\pituitary\\Tr-pi_0431_jpg.rf.ede6f29e29e269e4b3ac8519ea10da2b.jpg\n",
            "  Tumour/valid\\no_tumor\\Tr-no_0059_jpg.rf.5d78093fa59a260b02ff900685b066f4.jpg\n",
            "  Tumour/valid\\no_tumor\\Tr-no_0168_jpg.rf.4aa2a140936c1312ef71a5820388c500.jpg\n",
            "Duplicate hash 00383c7c7e7c3c00:\n",
            "  Tumour/test\\no_tumor\\Tr-no_0330_jpg.rf.079b6fbbbbd8ccba5741abc8785578e0.jpg\n",
            "  Tumour/train\\glioma\\Tr-gl_0062_jpg.rf.cba5b245f2bbf273efcd7f5b394a598e.jpg\n",
            "  Tumour/train\\glioma\\Tr-gl_0137_jpg.rf.c65da6564e55d3e1326389efd4182eaa.jpg\n",
            "  Tumour/train\\glioma\\Tr-gl_0139_jpg.rf.deaeff44135b0e7c7a48a2f6915ad629.jpg\n",
            "  Tumour/train\\glioma\\Tr-gl_0397_jpg.rf.ff3acc27ff01ae374ea184b5d5d5a007.jpg\n",
            "  Tumour/train\\glioma\\Tr-gl_0398_jpg.rf.1b21dbcbddf45fbe14263e6b6828b976.jpg\n",
            "  Tumour/train\\meningioma\\Tr-me_0343_jpg.rf.97314271d87c90ecff97f5aec5de1f28.jpg\n",
            "  Tumour/train\\no_tumor\\Tr-no_0053_jpg.rf.19ca0ceb1523989e0e301dd40c8011ef.jpg\n",
            "  Tumour/train\\no_tumor\\Tr-no_0342_jpg.rf.b2c65faf960730bab1523b1d0e10b578.jpg\n",
            "  Tumour/valid\\glioma\\Tr-gl_0138_jpg.rf.e8214f03282d69d7d7f0dfe48b898374.jpg\n",
            "Duplicate hash 003c7e7e7e7c3c00:\n",
            "  Tumour/test\\no_tumor\\Tr-no_0451_jpg.rf.f625e63c5658f260be3b9ed07068c92d.jpg\n",
            "  Tumour/train\\glioma\\Tr-gl_0159_jpg.rf.e368732875a835ca28a5fa10d3c42493.jpg\n",
            "  Tumour/train\\glioma\\Tr-gl_0160_jpg.rf.952a1cbdad4ef5654967ca6d7c3b0a19.jpg\n",
            "  Tumour/train\\glioma\\Tr-gl_0189_jpg.rf.8c33396c5d7641c3f8d04691fad0be77.jpg\n",
            "  Tumour/train\\glioma\\Tr-gl_0190_jpg.rf.cc114cc110275560ad3c0dd78d589f80.jpg\n",
            "  Tumour/train\\glioma\\Tr-gl_0191_jpg.rf.c07e4732635c8ce3e52ccd64767e5166.jpg\n",
            "  Tumour/valid\\glioma\\Tr-gl_0064_jpg.rf.fe67bb78e6a3f3599250212676f80cf7.jpg\n",
            "Duplicate hash 007c7e7e7e7e3c00:\n",
            "  Tumour/test\\no_tumor\\Tr-no_0464_jpg.rf.db86209bd1b0cd3e758824d5bd49da27.jpg\n",
            "  Tumour/valid\\no_tumor\\Tr-no_0465_jpg.rf.cf4abbaed4efed6795a8e1aa05e585b3.jpg\n",
            "Duplicate hash 183c3c3c3c3c3c18:\n",
            "  Tumour/test\\no_tumor\\Tr-no_0497_jpg.rf.794f6bcdc5450c8971635a6c94abfcc1.jpg\n",
            "  Tumour/test\\no_tumor\\Tr-no_0544_jpg.rf.9b5db984a9f381909d5cbfda3c97c7df.jpg\n",
            "  Tumour/train\\no_tumor\\Tr-no_0144_jpg.rf.60e5f9f565a350f3e22783c071bd193f.jpg\n",
            "  Tumour/train\\no_tumor\\Tr-no_0167_jpg.rf.36652bfbffc4a98be082ca95b4f53cb8.jpg\n",
            "  Tumour/train\\no_tumor\\Tr-no_0439_jpg.rf.c183e5e8072fe744182806385e7cf1a9.jpg\n",
            "  Tumour/valid\\no_tumor\\Tr-no_0556_jpg.rf.90b115bc97cae0ca112851647f9084b5.jpg\n",
            "Duplicate hash 183c7e7e7e7e3c18:\n",
            "  Tumour/test\\no_tumor\\Tr-no_0509_jpg.rf.a76158ac5b58e43a2ee742f2adf976d1.jpg\n",
            "  Tumour/train\\no_tumor\\Tr-no_0148_jpg.rf.8c0c2a5e091dff6b9b77f428a4914ed8.jpg\n",
            "  Tumour/train\\no_tumor\\Tr-no_0234_jpg.rf.1ab7c2eeb5aec0484465be0531657d5e.jpg\n",
            "  Tumour/train\\no_tumor\\Tr-no_0397_jpg.rf.2b70cb4bd8da0e31d2475bca92dcb43d.jpg\n",
            "  Tumour/train\\no_tumor\\Tr-no_0427_jpg.rf.84d8385d0b4b2bae06aeeed63b78ecf5.jpg\n",
            "  Tumour/train\\no_tumor\\Tr-no_0474_jpg.rf.bf5869c9603ce71575b58df92ca1b794.jpg\n",
            "  Tumour/train\\no_tumor\\Tr-no_0537_jpg.rf.1cfbe5794762ed42b7f20727bc8a8b34.jpg\n",
            "  Tumour/train\\pituitary\\Tr-pi_0569_jpg.rf.75eaeeecc19b447dc6b5d8fca443adf3.jpg\n",
            "  Tumour/train\\pituitary\\Tr-pi_0609_jpg.rf.7010f76266022e5e323a04929ad358a0.jpg\n",
            "  Tumour/valid\\no_tumor\\Tr-no_0505_jpg.rf.b884cb647ec67641f20438ca2a23c21f.jpg\n",
            "  Tumour/valid\\pituitary\\Tr-pi_0258_jpg.rf.53913425bcd12a6158c8b228c045f8d5.jpg\n",
            "Duplicate hash 2c7efef7667e7c00:\n",
            "  Tumour/test\\no_tumor\\Tr-no_0527_jpg.rf.7aae6c5ee63cc6099c51e3bc8c11ba28.jpg\n",
            "  Tumour/train\\no_tumor\\Tr-no_0396_jpg.rf.19d9606c93df3909e32f4f9f47021bd5.jpg\n",
            "Duplicate hash 3cffffe7e77f7e0c:\n",
            "  Tumour/test\\no_tumor\\Tr-no_0532_jpg.rf.77d3f998ddc8a5da35ef24a82f3d4362.jpg\n",
            "  Tumour/train\\no_tumor\\Tr-no_0425_jpg.rf.bb30c7f44dca1dd79e9bfd4e4c75ae49.jpg\n",
            "Duplicate hash 003e6666e7ff7e00:\n",
            "  Tumour/test\\no_tumor\\Tr-no_0550_jpg.rf.961727cb5c596daea01f27b939b709c8.jpg\n",
            "  Tumour/valid\\no_tumor\\Tr-no_0166_jpg.rf.7d3dabdbbdc50d7be0f2af7f43b255e6.jpg\n",
            "Duplicate hash 1c3e7f7f7f7e3e0c:\n",
            "  Tumour/test\\pituitary\\Tr-pi_0098_jpg.rf.eec9da587fa75dd9a461ef02380e8225.jpg\n",
            "  Tumour/train\\pituitary\\Tr-pi_0097_jpg.rf.2bbefbdb15873ea29ea24033d4c747dc.jpg\n",
            "Duplicate hash 003e7e7e7e7e5e3e:\n",
            "  Tumour/test\\pituitary\\Tr-pi_0151_jpg.rf.29da072b2854ac8013c749591d2fa269.jpg\n",
            "  Tumour/train\\pituitary\\Tr-pi_0142_jpg.rf.2a420ef807d77d39f3783e8804c8a664.jpg\n",
            "Duplicate hash 183c7e7e7efefe18:\n",
            "  Tumour/test\\pituitary\\Tr-pi_0158_jpg.rf.e934d7a11ed39795f78dba33bcbdd3d2.jpg\n",
            "  Tumour/train\\pituitary\\Tr-pi_0159_jpg.rf.066bb4259202a5c708267695f170bf57.jpg\n",
            "Duplicate hash 003e7f7f7f4fee70:\n",
            "  Tumour/test\\pituitary\\Tr-pi_0192_jpg.rf.7a829f518629b0cc146ab2ce78f739ba.jpg\n",
            "  Tumour/train\\pituitary\\Tr-pi_0193_jpg.rf.2f6b14517dc59cda03a91f8345ba97a7.jpg\n",
            "Duplicate hash 083c7e7e7e7e7e7e:\n",
            "  Tumour/test\\pituitary\\Tr-pi_0254_jpg.rf.86fc340eae95d639c851617ec07e805a.jpg\n",
            "  Tumour/valid\\pituitary\\Tr-pi_0253_jpg.rf.080fca29041fb4208cb0912ef6f4ef8c.jpg\n",
            "Duplicate hash 003c7e7e7e7e7e7e:\n",
            "  Tumour/test\\pituitary\\Tr-pi_0440_jpg.rf.404dce921af830a0eba817c31a453e5a.jpg\n",
            "  Tumour/train\\pituitary\\Tr-pi_0011_jpg.rf.2e3b87a53534caae6264c3bdc13cedc1.jpg\n",
            "  Tumour/train\\pituitary\\Tr-pi_0013_jpg.rf.f39f279d041f4bc884f4a9842d91494d.jpg\n",
            "  Tumour/train\\pituitary\\Tr-pi_0014_jpg.rf.0b881db3ad9b6b86c5353dd3f9b2ecdc.jpg\n",
            "  Tumour/train\\pituitary\\Tr-pi_0439_jpg.rf.c41114d92037b227ee4f414a8afce18a.jpg\n",
            "  Tumour/valid\\pituitary\\Tr-pi_0441_jpg.rf.bf11393e821366bec3daf6a65c227cf8.jpg\n",
            "Duplicate hash 3c7e7e7e7e7e3e00:\n",
            "  Tumour/test\\pituitary\\Tr-pi_0463_jpg.rf.b03d58e124d675c70511762322dbec5c.jpg\n",
            "  Tumour/train\\meningioma\\Tr-me_0268_jpg.rf.2323c86dbe29460287d8598d1a358967.jpg\n",
            "Duplicate hash 183c7e7e7e7e3624:\n",
            "  Tumour/test\\pituitary\\Tr-pi_0470_jpg.rf.0c5912c4c0ccc53bf22308d4b2d33b23.jpg\n",
            "  Tumour/train\\pituitary\\Tr-pi_0471_jpg.rf.dfb00248bca6aa33dbed1c6c663e8e53.jpg\n",
            "Duplicate hash 183c7e7e7e7e3c34:\n",
            "  Tumour/test\\pituitary\\Tr-pi_0488_jpg.rf.b9e662366fa7eb323337bd2122e0e4aa.jpg\n",
            "  Tumour/train\\pituitary\\Tr-pi_0487_jpg.rf.ff425bac40fe696fc6dc00bd28fcffba.jpg\n",
            "Duplicate hash 003c7e7e7e7e767e:\n",
            "  Tumour/test\\pituitary\\Tr-pi_0489_jpg.rf.1dfdbca45760bc09f866831a24ddaeb0.jpg\n",
            "  Tumour/train\\pituitary\\Tr-pi_0478_jpg.rf.bf917bd1776a453c4904000e9e94d2c6.jpg\n",
            "  Tumour/train\\pituitary\\Tr-pi_0500_jpg.rf.68a4d523e1ee20b6b21bc50de33789c8.jpg\n",
            "Duplicate hash 3c7e7e7e7e7e3c24:\n",
            "  Tumour/test\\pituitary\\Tr-pi_0519_jpg.rf.ee5ee202a402bb9e276d15b0afdcd365.jpg\n",
            "  Tumour/train\\pituitary\\Tr-pi_0421_jpg.rf.908ba346ca21af90e1e4598463c74867.jpg\n",
            "  Tumour/valid\\meningioma\\Tr-me_0125_jpg.rf.24743ca6dab8e6f74851117f4bc1c352.jpg\n",
            "Duplicate hash 103e7e7e7e7e3e18:\n",
            "  Tumour/test\\pituitary\\Tr-pi_0562_jpg.rf.b7d629887a6dc9b22011837fafad9948.jpg\n",
            "  Tumour/train\\pituitary\\Tr-pi_0561_jpg.rf.f06351b534e6c9790c5cd5e1e5cfcfc0.jpg\n",
            "  Tumour/train\\pituitary\\Tr-pi_0564_jpg.rf.2d9c3ff21080f93956bb0d7f0c570cf2.jpg\n",
            "Duplicate hash 003c7e7e7e7e7c38:\n",
            "  Tumour/test\\pituitary\\Tr-pi_0636_jpg.rf.609ee034c63ba7e5b9f443de105b1b58.jpg\n",
            "  Tumour/train\\glioma\\Tr-gl_0421_jpg.rf.01fe6411998380f0e8e9130be263a7e4.jpg\n",
            "  Tumour/train\\glioma\\Tr-gl_0422_jpg.rf.557894b105972e47c2e02ecb9f5c3ccf.jpg\n",
            "  Tumour/train\\no_tumor\\Tr-no_0432_jpg.rf.43e1ff3233c042c8a1d69c80ea41b74f.jpg\n",
            "  Tumour/train\\pituitary\\Tr-pi_0637_jpg.rf.185ee563f953a93a62be016c2fa72778.jpg\n",
            "  Tumour/train\\pituitary\\Tr-pi_0638_jpg.rf.333cfc5df595be084c3074e4cf480c59.jpg\n",
            "  Tumour/train\\pituitary\\Tr-pi_0639_jpg.rf.b37f3f72c0f549f37c346345fa5c6a52.jpg\n",
            "Duplicate hash 003c3e7e7e7e7e3c:\n",
            "  Tumour/train\\glioma\\Tr-gl_0011_jpg.rf.61e213cb5a0f97fedd1bacd0428c0133.jpg\n",
            "  Tumour/train\\no_tumor\\Tr-no_0152_jpg.rf.72391c3f53362058412d3293420fca98.jpg\n",
            "  Tumour/train\\no_tumor\\Tr-no_0551_jpg.rf.3127e63c6372477885dcc4410f4307c6.jpg\n",
            "  Tumour/valid\\meningioma\\Tr-me_0241_jpg.rf.8e4031ea5439aebd0ec6911ac15f45e1.jpg\n",
            "Duplicate hash 183c7e7e7c3e3c1c:\n",
            "  Tumour/train\\glioma\\Tr-gl_0015_jpg.rf.13077910f13033d4bbdedda8b91cb48e.jpg\n",
            "  Tumour/valid\\glioma\\Tr-gl_0479_jpg.rf.7a092db6c4c8a0732c07757220c33fcf.jpg\n",
            "Duplicate hash 00003c7e7e7e7e7e:\n",
            "  Tumour/train\\glioma\\Tr-gl_0034_jpg.rf.cb59e948c7609e9fcf692b98936567ca.jpg\n",
            "  Tumour/train\\glioma\\Tr-gl_0034_jpg.rf.f842deafbfe81a7ed13bd1e2604fa2ae.jpg\n",
            "Duplicate hash 003c7e7e7e7e7e3e:\n",
            "  Tumour/train\\glioma\\Tr-gl_0038_jpg.rf.5236027b5c98c09d2492f45703d72d83.jpg\n",
            "  Tumour/train\\pituitary\\Tr-pi_0313_jpg.rf.d790910f5ab737153e837870015ac165.jpg\n",
            "Duplicate hash 003c7e7e7e7e7e7c:\n",
            "  Tumour/train\\glioma\\Tr-gl_0038_jpg.rf.9f514f2a74afbd90734b82520d70bdaf.jpg\n",
            "  Tumour/train\\pituitary\\Tr-pi_0252_jpg.rf.1a1607930af1d4c20ad9c836cadf531e.jpg\n",
            "  Tumour/train\\pituitary\\Tr-pi_0335_jpg.rf.9002c53b5252c0cd4ad4570926e686ff.jpg\n",
            "  Tumour/valid\\pituitary\\Tr-pi_0433_jpg.rf.24f5708aee10d051bb80fa981e806cc3.jpg\n",
            "Duplicate hash 00383c7e7e7e3c18:\n",
            "  Tumour/train\\glioma\\Tr-gl_0042_jpg.rf.ab7021920dacd8e84ed412a5a95af9e5.jpg\n",
            "  Tumour/train\\glioma\\Tr-gl_0357_jpg.rf.ad29aa20897ff038432f8a8973dc748a.jpg\n",
            "  Tumour/train\\no_tumor\\Tr-no_0015_jpg.rf.d006b035cdd60d33a8ebdd3d3fd68c61.jpg\n",
            "Duplicate hash 00383c7e7e7e7e3c:\n",
            "  Tumour/train\\glioma\\Tr-gl_0043_jpg.rf.31a72c7a52254b2c02e9d9255f2091c6.jpg\n",
            "  Tumour/train\\glioma\\Tr-gl_0439_jpg.rf.418bcb24c6252c5955b304f84580cf55.jpg\n",
            "Duplicate hash 003c3e7e7e3c1800:\n",
            "  Tumour/train\\glioma\\Tr-gl_0055_jpg.rf.b5b1d3c9c19790cd5b457c24d9866de6.jpg\n",
            "  Tumour/train\\glioma\\Tr-gl_0363_jpg.rf.56df47eda2c2e0624afdde917c84f4e4.jpg\n",
            "  Tumour/train\\glioma\\Tr-gl_0364_jpg.rf.09a35a3febe45bbffc993d3ffe5e0e6c.jpg\n",
            "  Tumour/train\\glioma\\Tr-gl_0365_jpg.rf.50dfed791487bd521b66726bd831b517.jpg\n",
            "  Tumour/train\\glioma\\Tr-gl_0366_jpg.rf.13380f288b47a93be7b3a2ec127c8171.jpg\n",
            "  Tumour/valid\\glioma\\Tr-gl_0119_jpg.rf.81eaa74526437ee77525aeaf20708b34.jpg\n",
            "Duplicate hash 003c3c7e7e3e3c00:\n",
            "  Tumour/train\\glioma\\Tr-gl_0061_jpg.rf.0d232f496b98f20bcf395beef034a1f0.jpg\n",
            "  Tumour/train\\glioma\\Tr-gl_0089_jpg.rf.a1247973d4ed304aa22d2e525a6c15ef.jpg\n",
            "  Tumour/train\\glioma\\Tr-gl_0090_jpg.rf.b593a3273b6884e3068cd1cc00b81192.jpg\n",
            "  Tumour/train\\glioma\\Tr-gl_0127_jpg.rf.ad8c9ae0443205121d2814db2987f918.jpg\n",
            "  Tumour/train\\glioma\\Tr-gl_0267_jpg.rf.cdec1ac8cb31716784909010cd684b15.jpg\n",
            "  Tumour/train\\glioma\\Tr-gl_0387_jpg.rf.dfeb99c84b02a610543528ee04a9e660.jpg\n",
            "  Tumour/train\\glioma\\Tr-gl_0517_jpg.rf.45055e59e9da3e317d74e49ea389bc1d.jpg\n",
            "  Tumour/train\\glioma\\Tr-gl_0542_jpg.rf.ede3c0b6370da298392cb1af3ca654a3.jpg\n",
            "  Tumour/train\\glioma\\Tr-gl_0549_jpg.rf.ac411bffe619f1aef1d606a1065cea11.jpg\n",
            "  Tumour/train\\meningioma\\Tr-me_0062_jpg.rf.19e704023c38d786dab8547b23ceb945.jpg\n",
            "  Tumour/train\\meningioma\\Tr-me_0063_jpg.rf.818f7f0648ae12d15ecb76529372efa3.jpg\n",
            "  Tumour/train\\no_tumor\\Tr-no_0206_jpg.rf.a0f437bf731613b087f856d8a352bd7e.jpg\n",
            "  Tumour/train\\no_tumor\\Tr-no_0358_jpg.rf.c816d4b450cd1cb57ce93d2c035448b0.jpg\n",
            "  Tumour/valid\\glioma\\Tr-gl_0388_jpg.rf.ce70c61e3334354716bc3a77a642ee6b.jpg\n",
            "Duplicate hash 001c3c3e7e3e3c00:\n",
            "  Tumour/train\\glioma\\Tr-gl_0062_jpg.rf.04ecc3354340a427a9897601638c8410.jpg\n",
            "  Tumour/train\\glioma\\Tr-gl_0137_jpg.rf.8cbc07e5ee6b03424b840211035d80ba.jpg\n",
            "  Tumour/train\\glioma\\Tr-gl_0138_jpg.rf.d52f639c1e7d97e4c58ea5806926f2b7.jpg\n",
            "  Tumour/train\\glioma\\Tr-gl_0139_jpg.rf.a2ebd284d006f3ab0e20aee4fa0ed6c2.jpg\n",
            "  Tumour/train\\glioma\\Tr-gl_0397_jpg.rf.894127a904621175226620631df42e7a.jpg\n",
            "  Tumour/train\\glioma\\Tr-gl_0398_jpg.rf.3b11bd0d1bcce76813c1d6e0cc8e4530.jpg\n",
            "  Tumour/train\\meningioma\\Tr-me_0054_jpg.rf.6793d9dcf96522dda6b9e2b3570f2e64.jpg\n",
            "  Tumour/train\\meningioma\\Tr-me_0055_jpg.rf.21d7cc0d3e57d1073f64175d3bb7bd1c.jpg\n",
            "Duplicate hash 00183c3c7c3c1800:\n",
            "  Tumour/train\\glioma\\Tr-gl_0067_jpg.rf.a6af14decc8642a6eb64386660074d8e.jpg\n",
            "  Tumour/train\\glioma\\Tr-gl_0404_jpg.rf.57f2c0d69c75a843564a0825bd5ccb9c.jpg\n",
            "Duplicate hash 00183c3c3e3c1800:\n",
            "  Tumour/train\\glioma\\Tr-gl_0067_jpg.rf.b035bdbd1569582e1ae65620aa7d2df0.jpg\n",
            "  Tumour/train\\glioma\\Tr-gl_0404_jpg.rf.033765f0ca8d58552ff0e2c6427418e9.jpg\n",
            "  Tumour/train\\meningioma\\Tr-me_0031_jpg.rf.853ec38c163819a1bb72a609fe879847.jpg\n",
            "Duplicate hash 00183c3e7e3c1800:\n",
            "  Tumour/train\\glioma\\Tr-gl_0069_jpg.rf.77d06f27885004d0546252e213b250e0.jpg\n",
            "  Tumour/train\\glioma\\Tr-gl_0242_jpg.rf.396826344daf931ca8cc0cd4ee442b01.jpg\n",
            "  Tumour/train\\glioma\\Tr-gl_0338_jpg.rf.7539a505e50034a58b82001fabc97fd7.jpg\n",
            "  Tumour/train\\glioma\\Tr-gl_0403_jpg.rf.f6b838c377b51554b9fb35e933e73e7c.jpg\n",
            "  Tumour/valid\\glioma\\Tr-gl_0210_jpg.rf.d60e5a2a3c687b95d10debe7a96434fb.jpg\n",
            "  Tumour/valid\\glioma\\Tr-gl_0221_jpg.rf.2d2ec67a535c9b74acc29713603d76c0.jpg\n",
            "Duplicate hash 00183c3c7c3c3c00:\n",
            "  Tumour/train\\glioma\\Tr-gl_0076_jpg.rf.58ab815342a7fd013913e585834779f1.jpg\n",
            "  Tumour/train\\no_tumor\\Tr-no_0253_jpg.rf.1dffc1f5c5c713a2c0ba66c6469bcbaf.jpg\n",
            "  Tumour/train\\no_tumor\\Tr-no_0316_jpg.rf.f2180966ba722a42711fc362018d5534.jpg\n",
            "  Tumour/valid\\glioma\\Tr-gl_0316_jpg.rf.bddbbb7533ae718ee3443fe524dc4fe5.jpg\n",
            "  Tumour/valid\\meningioma\\Tr-me_0279_jpg.rf.2a95db8c48459f43b029f3801d43b573.jpg\n",
            "Duplicate hash 00183c3c3e3c3c00:\n",
            "  Tumour/train\\glioma\\Tr-gl_0076_jpg.rf.fb8956f4e8fd2db63e01cb02e0dca9b5.jpg\n",
            "  Tumour/train\\glioma\\Tr-gl_0316_jpg.rf.db7536b64bb257fd45be181b2077d631.jpg\n",
            "  Tumour/train\\glioma\\Tr-gl_0317_jpg.rf.fef02f63a5df185abe7a0b382d0e0551.jpg\n",
            "  Tumour/valid\\glioma\\Tr-gl_0315_jpg.rf.e3d3139d7eddbfcadf36e8142b72f9e3.jpg\n",
            "  Tumour/valid\\no_tumor\\Tr-no_0052_jpg.rf.6a63634edac060a9076b23ce6f6f65dd.jpg\n",
            "Duplicate hash 003c3c7e7e3c1c00:\n",
            "  Tumour/train\\glioma\\Tr-gl_0078_jpg.rf.eabc2d473e3c783e6a50e5af730e793e.jpg\n",
            "  Tumour/train\\glioma\\Tr-gl_0180_jpg.rf.e899be90c93485d2c3e6a51aa8279714.jpg\n",
            "  Tumour/train\\glioma\\Tr-gl_0303_jpg.rf.e26dcb6ab5ede5d2f8720a9cdab8cdab.jpg\n",
            "  Tumour/train\\glioma\\Tr-gl_0344_jpg.rf.6ee7ad0ef821653b01aa9f608545ae84.jpg\n",
            "  Tumour/train\\meningioma\\Tr-me_0319_jpg.rf.337c180fb0b0a8b06683ed4597d0b8d2.jpg\n",
            "  Tumour/valid\\glioma\\Tr-gl_0343_jpg.rf.b937fff65894b876e9bbaf7ca93e669f.jpg\n",
            "  Tumour/valid\\glioma\\Tr-gl_0375_jpg.rf.122db6215f7270b1c5ba89ee1e289e4b.jpg\n",
            "  Tumour/valid\\meningioma\\Tr-me_0318_jpg.rf.156d8c3f2de0af4ec66bc16520234547.jpg\n",
            "Duplicate hash 00183c7c7e7e3c00:\n",
            "  Tumour/train\\glioma\\Tr-gl_0080_jpg.rf.8de3212e310b7911e219ac838167b447.jpg\n",
            "  Tumour/train\\meningioma\\Tr-me_0018_jpg.rf.7903d2806a059dd3c7712b7b8abd006d.jpg\n",
            "  Tumour/train\\meningioma\\Tr-me_0344_jpg.rf.4941fab845cee89489b023124e02c1c1.jpg\n",
            "  Tumour/valid\\meningioma\\Tr-me_0332_jpg.rf.58e3b14d33ce30c28adb8aafceccc162.jpg\n",
            "  Tumour/valid\\meningioma\\Tr-me_0350_jpg.rf.7ffcd95a925e0731e2f1dc44a82b0c09.jpg\n",
            "Duplicate hash 003c3c7e7c3c3c00:\n",
            "  Tumour/train\\glioma\\Tr-gl_0086_jpg.rf.abf910f6581ceaf93a9bbea322ead67f.jpg\n",
            "  Tumour/valid\\glioma\\Tr-gl_0178_jpg.rf.5e171245ad03ef1fe2f563aaad85e2f0.jpg\n",
            "  Tumour/valid\\glioma\\Tr-gl_0179_jpg.rf.eb8af02e676d544b34b752a52b129fec.jpg\n",
            "Duplicate hash 183c7e7e7e7e3e00:\n",
            "  Tumour/train\\glioma\\Tr-gl_0094_jpg.rf.e883302c7b1dc66163f720b79fede132.jpg\n",
            "  Tumour/train\\glioma\\Tr-gl_0117_jpg.rf.bfc2106e9dfc09c5c2dedba0fe73847b.jpg\n",
            "  Tumour/train\\glioma\\Tr-gl_0483_jpg.rf.fb8fc34e40b0b9a41249c1985ed130a5.jpg\n",
            "  Tumour/train\\glioma\\Tr-gl_0485_jpg.rf.86b61defc578d8bb2d1c0aecac77dd6d.jpg\n",
            "  Tumour/train\\glioma\\Tr-gl_0486_jpg.rf.34241937a53d8d9746c3005842c89afb.jpg\n",
            "  Tumour/train\\meningioma\\Tr-me_0207_jpg.rf.33e5975fee044cbc4b78e58e1d772714.jpg\n",
            "Duplicate hash 001c3c7e7e7c3800:\n",
            "  Tumour/train\\glioma\\Tr-gl_0104_jpg.rf.2ba5340efb12b9cd1fb18cbe78ab41bd.jpg\n",
            "  Tumour/train\\glioma\\Tr-gl_0390_jpg.rf.845bd9dda61ad2bda77e92631d0d4b98.jpg\n",
            "Duplicate hash 001c3e7e7e7e3c00:\n",
            "  Tumour/train\\glioma\\Tr-gl_0106_jpg.rf.66bda55927713022d9cd278f6a5f5368.jpg\n",
            "  Tumour/train\\glioma\\Tr-gl_0413_jpg.rf.8e95267517ed855b22a639966f0ad873.jpg\n",
            "  Tumour/train\\glioma\\Tr-gl_0511_jpg.rf.919bc0b5b752a64692e2cd2f0c66e4d1.jpg\n",
            "  Tumour/train\\meningioma\\Tr-me_0330_jpg.rf.1742fed2f8491095f66ebf7ff1ff6daa.jpg\n",
            "  Tumour/valid\\glioma\\Tr-gl_0156_jpg.rf.5a64a3bdbbe5059b3ebed99cf2fbd2ca.jpg\n",
            "Duplicate hash 00387c7e7e7e3c00:\n",
            "  Tumour/train\\glioma\\Tr-gl_0106_jpg.rf.836242d3ccad12c2db62210eff2d8c2d.jpg\n",
            "  Tumour/train\\glioma\\Tr-gl_0156_jpg.rf.740f9d376609c4f59e2ba98c82d39887.jpg\n",
            "  Tumour/train\\glioma\\Tr-gl_0413_jpg.rf.06c12a8ca02f01f3fd73961fb275cc3a.jpg\n",
            "  Tumour/train\\glioma\\Tr-gl_0511_jpg.rf.cc7a4f5eeeece7daa96aad01f9535858.jpg\n",
            "  Tumour/train\\meningioma\\Tr-me_0047_jpg.rf.8191b43f72add6216929dfab7448920b.jpg\n",
            "  Tumour/train\\no_tumor\\Tr-no_0097_jpg.rf.f8c166e85b762f14159c57cb42c383d6.jpg\n",
            "Duplicate hash 003c7e7e7e3e2000:\n",
            "  Tumour/train\\glioma\\Tr-gl_0111_jpg.rf.1f63dd2bfea098bd2081af362f183557.jpg\n",
            "  Tumour/train\\glioma\\Tr-gl_0434_jpg.rf.1f09b4040812ed0d33e77aee1ae440d2.jpg\n",
            "  Tumour/valid\\glioma\\Tr-gl_0433_jpg.rf.511224aaa8eafff63eef85661649aa3d.jpg\n",
            "Duplicate hash 003c7e7e7e7c0400:\n",
            "  Tumour/train\\glioma\\Tr-gl_0111_jpg.rf.fd5d0794726371a3b5cca718d6c52e0c.jpg\n",
            "  Tumour/train\\glioma\\Tr-gl_0433_jpg.rf.7199d9c67c1931d77912abfd025a2cf3.jpg\n",
            "  Tumour/train\\glioma\\Tr-gl_0434_jpg.rf.fa02c7f77ecd88e9abb8986e8e0a08de.jpg\n",
            "Duplicate hash 003c3c7e7e7e7e3c:\n",
            "  Tumour/train\\glioma\\Tr-gl_0112_jpg.rf.2aa8de2b00e8d35de2e209f25103f934.jpg\n",
            "  Tumour/train\\glioma\\Tr-gl_0438_jpg.rf.a78e47b13f91d78d38d9de31685476bc.jpg\n",
            "  Tumour/train\\glioma\\Tr-gl_0438_jpg.rf.bd904968c954c42279381c01a011715d.jpg\n",
            "  Tumour/valid\\pituitary\\Tr-pi_0274_jpg.rf.d7a85ade4a6c2af540ac59658d319cde.jpg\n",
            "Duplicate hash 003c7c7e7e7e7e4a:\n",
            "  Tumour/train\\glioma\\Tr-gl_0113_jpg.rf.f8fdf43257e507e00c00835a6708db26.jpg\n",
            "  Tumour/train\\glioma\\Tr-gl_0450_jpg.rf.6ab78b13fee5e96db0ee3d43e4c845c6.jpg\n",
            "Duplicate hash 003c7c7e7e7e7e08:\n",
            "  Tumour/train\\glioma\\Tr-gl_0115_jpg.rf.f449fe2b0bcc21ffa6439411af3e7bbb.jpg\n",
            "  Tumour/train\\no_tumor\\Tr-no_0300_jpg.rf.fd38ada7dccd56085745baef82b21672.jpg\n",
            "  Tumour/valid\\glioma\\Tr-gl_0468_jpg.rf.0094630b64cdaa70221af2bd50bcd10a.jpg\n",
            "  Tumour/valid\\glioma\\Tr-gl_0469_jpg.rf.e16e21390b152a8e75885cb4842bcf0d.jpg\n",
            "Duplicate hash 003c3c3e3e3e3c00:\n",
            "  Tumour/train\\glioma\\Tr-gl_0118_jpg.rf.4887429cd6740f0af9803c549e411cdb.jpg\n",
            "  Tumour/train\\glioma\\Tr-gl_0499_jpg.rf.8b495d8ec026146a41338ae22fee3023.jpg\n",
            "  Tumour/train\\glioma\\Tr-gl_0500_jpg.rf.b614303d6dacd69661d6ba9178c46a6b.jpg\n",
            "Duplicate hash 003c7c7e7e3c1800:\n",
            "  Tumour/train\\glioma\\Tr-gl_0119_jpg.rf.e53b7288f90ac1a9a798d32372ee817e.jpg\n",
            "  Tumour/train\\glioma\\Tr-gl_0363_jpg.rf.b42a489d103f82d331877a0754ede676.jpg\n",
            "  Tumour/train\\glioma\\Tr-gl_0364_jpg.rf.41b7424b08760d54d337de07cf84ee88.jpg\n",
            "  Tumour/train\\glioma\\Tr-gl_0365_jpg.rf.2405a85652a8f284e2bdf0c13320d440.jpg\n",
            "  Tumour/train\\glioma\\Tr-gl_0366_jpg.rf.7e89ba311f4e8be418938da2e856d560.jpg\n",
            "  Tumour/valid\\glioma\\Tr-gl_0506_jpg.rf.51a4c03aff62f5c430ca9afaea83519c.jpg\n",
            "Duplicate hash 003c7c7e7e3c3c00:\n",
            "  Tumour/train\\glioma\\Tr-gl_0122_jpg.rf.f7b77fe5bb1cdca40f6fba9ffd6009a4.jpg\n",
            "  Tumour/train\\glioma\\Tr-gl_0176_jpg.rf.35c053d47b63aad73fe1e7f8fb27b6d3.jpg\n",
            "  Tumour/train\\glioma\\Tr-gl_0538_jpg.rf.06cf393263009e3e895c82da8b42cd3f.jpg\n",
            "  Tumour/train\\glioma\\Tr-gl_0539_jpg.rf.61cff9f1829bf7ce077835f9cd657f38.jpg\n",
            "Duplicate hash 001c3e7e7e3c1800:\n",
            "  Tumour/train\\glioma\\Tr-gl_0145_jpg.rf.51270f4b53e0481facfabc7d2af4b2ca.jpg\n",
            "  Tumour/train\\glioma\\Tr-gl_0310_jpg.rf.84e7b16b4318b5a644a31211111f074f.jpg\n",
            "Duplicate hash 107c7e7e7e7e1c00:\n",
            "  Tumour/train\\glioma\\Tr-gl_0148_jpg.rf.a998f2fe41250fe864697cda4b4ce32e.jpg\n",
            "  Tumour/train\\glioma\\Tr-gl_0151_jpg.rf.d60ddaeb2bb94cd3c55b39662d410b38.jpg\n",
            "Duplicate hash 083e7e7e7e7e3800:\n",
            "  Tumour/train\\glioma\\Tr-gl_0148_jpg.rf.e766ca19eb39fc0744a08d504c2cd059.jpg\n",
            "  Tumour/train\\glioma\\Tr-gl_0151_jpg.rf.9e91fb7f918d999785dd5fcc5d47b9d4.jpg\n",
            "Duplicate hash 1c3e7e7e7e7e3800:\n",
            "  Tumour/train\\glioma\\Tr-gl_0149_jpg.rf.4e21665fcb89282636b529c47989e90f.jpg\n",
            "  Tumour/valid\\glioma\\Tr-gl_0150_jpg.rf.530e8e75187dbe3759e698b0153b9e57.jpg\n",
            "Duplicate hash 387c7e7e7e7e1c00:\n",
            "  Tumour/train\\glioma\\Tr-gl_0150_jpg.rf.b4f4ef4fd32ae88fffa73f993c6a545e.jpg\n",
            "  Tumour/valid\\glioma\\Tr-gl_0149_jpg.rf.e6c09ee31f8e9543fea6ade47955cd6c.jpg\n",
            "Duplicate hash 103c7c7e7e7e3c00:\n",
            "  Tumour/train\\glioma\\Tr-gl_0153_jpg.rf.bfbd65fdc9a09848490ac65c5f58aa44.jpg\n",
            "  Tumour/valid\\glioma\\Tr-gl_0154_jpg.rf.709e7acdb2b4f84d4db251d5763e0b28.jpg\n",
            "Duplicate hash 00387c7c7e7e3c00:\n",
            "  Tumour/train\\glioma\\Tr-gl_0157_jpg.rf.65c29283214f67758583d2e4abe8b896.jpg\n",
            "  Tumour/train\\glioma\\Tr-gl_0465_jpg.rf.dfeb09305d292f22508291ba32deced3.jpg\n",
            "Duplicate hash 003c7e7e7e3e3c00:\n",
            "  Tumour/train\\glioma\\Tr-gl_0159_jpg.rf.6c35bb72b0ac3c3e6f8db177e60562b4.jpg\n",
            "  Tumour/train\\glioma\\Tr-gl_0160_jpg.rf.b042ea51ad817e525a5ef505f856e314.jpg\n",
            "  Tumour/train\\glioma\\Tr-gl_0189_jpg.rf.eb7fa47a73841114b4978843b3dbc1c1.jpg\n",
            "  Tumour/train\\glioma\\Tr-gl_0190_jpg.rf.eaa474eb0e72dc895917567bd236260f.jpg\n",
            "  Tumour/train\\meningioma\\Tr-me_0026_jpg.rf.92de1dbe5d0924fa63b61a5565032987.jpg\n",
            "  Tumour/train\\meningioma\\Tr-me_0074_jpg.rf.ad073b7d1aa77ac015aeec92d03e2bc5.jpg\n",
            "  Tumour/valid\\glioma\\Tr-gl_0064_jpg.rf.0fc8033323aca695bf9aaf8a7ff9af21.jpg\n",
            "Duplicate hash 003c7e7e7e3e1c00:\n",
            "  Tumour/train\\glioma\\Tr-gl_0163_jpg.rf.5546875821ac375afebd384af8fe9f60.jpg\n",
            "  Tumour/train\\glioma\\Tr-gl_0266_jpg.rf.aaf219e62718348d7adf2ee65c23c28d.jpg\n",
            "Duplicate hash 00383c7e7e3c3800:\n",
            "  Tumour/train\\glioma\\Tr-gl_0165_jpg.rf.34190c0d5ea41ccc6610363f8369c37e.jpg\n",
            "  Tumour/train\\glioma\\Tr-gl_0206_jpg.rf.220ed6086f0c97be8e27554d2289c636.jpg\n",
            "  Tumour/train\\glioma\\Tr-gl_0237_jpg.rf.2114ec7a1bc35d4e1c7516a9e6aeaae6.jpg\n",
            "  Tumour/train\\glioma\\Tr-gl_0238_jpg.rf.955032927ed4181a1bbc6ca93f920ab2.jpg\n",
            "  Tumour/valid\\glioma\\Tr-gl_0084_jpg.rf.d86ea7c99a8c0936600e2897a5d66c44.jpg\n",
            "  Tumour/valid\\glioma\\Tr-gl_0207_jpg.rf.35b9c261964f0204c2df43f661ae35f9.jpg\n",
            "Duplicate hash 00183c3e3e3c1800:\n",
            "  Tumour/train\\glioma\\Tr-gl_0167_jpg.rf.0548c5e912c6eb060783aa93a3164abd.jpg\n",
            "  Tumour/train\\glioma\\Tr-gl_0211_jpg.rf.d68588f2d3f2933f7d6bb7124b6d08cb.jpg\n",
            "  Tumour/train\\glioma\\Tr-gl_0212_jpg.rf.d791b8271c9664a8f69fa3d8bb8dc243.jpg\n",
            "  Tumour/train\\glioma\\Tr-gl_0510_jpg.rf.ec326e60191a1e1f478bdffd7c94bdd0.jpg\n",
            "  Tumour/train\\meningioma\\Tr-me_0072_jpg.rf.aa414c602b3761e74e9942a2b97450c5.jpg\n",
            "Duplicate hash 083c3e7e7e3e1c00:\n",
            "  Tumour/train\\glioma\\Tr-gl_0173_jpg.rf.5990a50534b3be99f14cda06156cf542.jpg\n",
            "  Tumour/train\\glioma\\Tr-gl_0174_jpg.rf.5fe22da7f6f7aa578ab442e5c61b26d8.jpg\n",
            "Duplicate hash 003c7c7e7e7c3800:\n",
            "  Tumour/train\\glioma\\Tr-gl_0175_jpg.rf.d94788d299af32b4cf5dd0ea63ffefe9.jpg\n",
            "  Tumour/train\\meningioma\\Tr-me_0020_jpg.rf.1e1382667fcebff581cf3c6d5a0cc34e.jpg\n",
            "Duplicate hash 003c3c7e7e3c3800:\n",
            "  Tumour/train\\glioma\\Tr-gl_0180_jpg.rf.5b0a100eb3da2b978167b5efe4376dd9.jpg\n",
            "  Tumour/train\\glioma\\Tr-gl_0303_jpg.rf.8c3ab2414c57b28b23cfd0a243e2f646.jpg\n",
            "  Tumour/train\\glioma\\Tr-gl_0343_jpg.rf.725d9c0cfc2a82ca17aee689f126e79c.jpg\n",
            "  Tumour/train\\glioma\\Tr-gl_0344_jpg.rf.82d7b0eb9a8e8ee0e903d46e283b6a46.jpg\n",
            "  Tumour/train\\glioma\\Tr-gl_0375_jpg.rf.23d316dbf7532f1d91dad637cae669c1.jpg\n",
            "  Tumour/valid\\glioma\\Tr-gl_0078_jpg.rf.00aabf2032db6b833dd24f8cb2a3dd4b.jpg\n",
            "Duplicate hash 00183c3c7e3c1800:\n",
            "  Tumour/train\\glioma\\Tr-gl_0196_jpg.rf.988a9c189ebf23be6144d66e327c67b3.jpg\n",
            "  Tumour/train\\glioma\\Tr-gl_0196_jpg.rf.cc90f127093eeddfd6af10bc8d2212e9.jpg\n",
            "  Tumour/train\\glioma\\Tr-gl_0222_jpg.rf.042533caf7371c59ab6b1cf3819afcfc.jpg\n",
            "  Tumour/train\\glioma\\Tr-gl_0222_jpg.rf.2c73214f0866a4d3d6aa40cdf9892be6.jpg\n",
            "Duplicate hash 00383c7e7e3e3c00:\n",
            "  Tumour/train\\glioma\\Tr-gl_0214_jpg.rf.45562cd50ed840dc6ec2d3d559dbb746.jpg\n",
            "  Tumour/train\\glioma\\Tr-gl_0215_jpg.rf.990cb87c660c72d9ce6367fac4ee337a.jpg\n",
            "  Tumour/train\\glioma\\Tr-gl_0216_jpg.rf.1421800c0b8dfbb10ae761d3f4905c08.jpg\n",
            "  Tumour/train\\glioma\\Tr-gl_0389_jpg.rf.f78d0b39583892b3487248e4fcff5bad.jpg\n",
            "  Tumour/valid\\glioma\\Tr-gl_0066_jpg.rf.74c5e2266c026aa0bcce72a2c876afe0.jpg\n",
            "  Tumour/valid\\glioma\\Tr-gl_0213_jpg.rf.d5d06ff1cd74b5dd1e77077e59b6fdd2.jpg\n",
            "Duplicate hash 00183c7e7e7c3c00:\n",
            "  Tumour/train\\glioma\\Tr-gl_0217_jpg.rf.f7e006fef3ab393e97d1827e46fe012c.jpg\n",
            "  Tumour/train\\meningioma\\Tr-me_0109_jpg.rf.6ecfca0b62445e71f4e20bbb8185d607.jpg\n",
            "Duplicate hash 00387c7e7e3c3800:\n",
            "  Tumour/train\\glioma\\Tr-gl_0251_jpg.rf.abad67e143b728d8b93e390f2f26e435.jpg\n",
            "  Tumour/valid\\glioma\\Tr-gl_0252_jpg.rf.e4418068dc02dc02f209448b26321764.jpg\n",
            "Duplicate hash 183c3e7e7e3c3c00:\n",
            "  Tumour/train\\glioma\\Tr-gl_0295_jpg.rf.7d1bb6291b78709ecc9fcffbc921dd09.jpg\n",
            "  Tumour/train\\glioma\\Tr-gl_0296_jpg.rf.8f24a69dd2e92bbaa1e8c50350aaea61.jpg\n",
            "  Tumour/train\\glioma\\Tr-gl_0556_jpg.rf.f8b78e71380fb9c032226e9ee909a124.jpg\n",
            "  Tumour/train\\glioma\\Tr-gl_0557_jpg.rf.e606b54d86c29b7c70127a5aa26286e3.jpg\n",
            "  Tumour/valid\\glioma\\Tr-gl_0294_jpg.rf.1c57851e22e937b624f1a5ccd812536c.jpg\n",
            "Duplicate hash 003c7c7e7e3c3800:\n",
            "  Tumour/train\\glioma\\Tr-gl_0301_jpg.rf.6ebb46c1dc751eefc0c2000f23ec1484.jpg\n",
            "  Tumour/train\\glioma\\Tr-gl_0302_jpg.rf.6c617541787ea7adcc3dc8899d1b7eaf.jpg\n",
            "  Tumour/train\\glioma\\Tr-gl_0370_jpg.rf.de08d1d33d2f0ef226a0b054bb287de4.jpg\n",
            "Duplicate hash 003c3c7e7e7c3c18:\n",
            "  Tumour/train\\glioma\\Tr-gl_0306_jpg.rf.8d215fa30226d1edad2195c3feda62ed.jpg\n",
            "  Tumour/valid\\no_tumor\\Tr-no_0218_jpg.rf.5467165d3ea6d836e31a143edb5629ee.jpg\n",
            "Duplicate hash 183c3c7e7e3c3c00:\n",
            "  Tumour/train\\glioma\\Tr-gl_0320_jpg.rf.3b3c8f50e5aadd18f286874692c51463.jpg\n",
            "  Tumour/train\\glioma\\Tr-gl_0320_jpg.rf.58824be1e801051ba3befa1cff01d1a1.jpg\n",
            "Duplicate hash 00183c3e7e3e3c00:\n",
            "  Tumour/train\\glioma\\Tr-gl_0337_jpg.rf.198879c2cae9bad690910f0a6b182005.jpg\n",
            "  Tumour/train\\glioma\\Tr-gl_0362_jpg.rf.bd5223cb3b0aa1c94d21489a0ae21da6.jpg\n",
            "  Tumour/train\\meningioma\\Tr-me_0045_jpg.rf.0b7396eec6d29b8c30bf3a6f29481068.jpg\n",
            "  Tumour/train\\meningioma\\Tr-me_0056_jpg.rf.76f9f0f933ea9b733adbb89a6cb4d37a.jpg\n",
            "  Tumour/train\\meningioma\\Tr-me_0153_jpg.rf.dfa33328115c2f1f2de13beed77176f3.jpg\n",
            "  Tumour/train\\no_tumor\\Tr-no_0151_jpg.rf.a9747ad87ad6281b05d42684587debb7.jpg\n",
            "  Tumour/train\\no_tumor\\Tr-no_0178_jpg.rf.bda9616741acbefe793d5c5fa23f13ac.jpg\n",
            "  Tumour/train\\no_tumor\\Tr-no_0558_jpg.rf.77be87ea3ec8cd06d200424f811192b7.jpg\n",
            "Duplicate hash 003c7e7e7e7e7c00:\n",
            "  Tumour/train\\glioma\\Tr-gl_0356_jpg.rf.fe16aac187849d0a304fe3debebe5574.jpg\n",
            "  Tumour/train\\no_tumor\\Tr-no_0225_jpg.rf.810309f4b3f53892d59a4b9748d45afd.jpg\n",
            "  Tumour/train\\no_tumor\\Tr-no_0443_jpg.rf.2c12928e98094acdda93342ba9b56194.jpg\n",
            "Duplicate hash 003c7e7e7e7e3c08:\n",
            "  Tumour/train\\glioma\\Tr-gl_0368_jpg.rf.2d9c412388e0f1c1da34dbb89fb51a6a.jpg\n",
            "  Tumour/train\\meningioma\\Tr-me_0023_jpg.rf.f35537503e7461ab3dea3281763b31d0.jpg\n",
            "  Tumour/train\\meningioma\\Tr-me_0317_jpg.rf.3e138a4f3e1fe0b2b81000b33dfdbd37.jpg\n",
            "  Tumour/train\\pituitary\\Tr-pi_0566_jpg.rf.292353721e10645ec94a985a6b6d945b.jpg\n",
            "  Tumour/train\\pituitary\\Tr-pi_0572_jpg.rf.b19fda2060f6acf297b167bb5b806e6e.jpg\n",
            "  Tumour/train\\pituitary\\Tr-pi_0608_jpg.rf.7737e1f89294d0429db0011846cacf4e.jpg\n",
            "  Tumour/valid\\pituitary\\Tr-pi_0607_jpg.rf.97cece3c5edd5e2cdde3813c138097f0.jpg\n",
            "  Tumour/valid\\pituitary\\Tr-pi_0625_jpg.rf.aeb03b0de91badc45fc94f08fc4ce17c.jpg\n",
            "Duplicate hash 003c7e7e7e7e3c10:\n",
            "  Tumour/train\\glioma\\Tr-gl_0368_jpg.rf.c2861cf897f928f70b3fd70ed8cd8803.jpg\n",
            "  Tumour/train\\meningioma\\Tr-me_0058_jpg.rf.96e905c3665f943256ecd6502b12cf74.jpg\n",
            "Duplicate hash 00183c7e7e7c3800:\n",
            "  Tumour/train\\glioma\\Tr-gl_0391_jpg.rf.995fc9af81af679487c65216c425cd07.jpg\n",
            "  Tumour/train\\glioma\\Tr-gl_0545_jpg.rf.44ce44019dae94f57f1071449b2a7429.jpg\n",
            "Duplicate hash 00183c7e7e3e1c00:\n",
            "  Tumour/train\\glioma\\Tr-gl_0391_jpg.rf.e59b38ccf8b075350216e4353d7f5db5.jpg\n",
            "  Tumour/train\\glioma\\Tr-gl_0545_jpg.rf.f952a35b47c31076e31fbb44324ac180.jpg\n",
            "Duplicate hash 00387c7c7e7c3c00:\n",
            "  Tumour/train\\glioma\\Tr-gl_0396_jpg.rf.a08a62cff9c61ff7e71e5710f36fad65.jpg\n",
            "  Tumour/valid\\glioma\\Tr-gl_0395_jpg.rf.b438a5bd6a5cf8e1bee50b4549960373.jpg\n",
            "Duplicate hash 00003c3c3c3c0000:\n",
            "  Tumour/train\\glioma\\Tr-gl_0405_jpg.rf.9b7fb4cf4f0ba32df4a92bb893cc0d99.jpg\n",
            "  Tumour/train\\glioma\\Tr-gl_0405_jpg.rf.d9d184edc475370b71c5a39a18b7abf1.jpg\n",
            "Duplicate hash 183c7e7e7e3e3e00:\n",
            "  Tumour/train\\glioma\\Tr-gl_0425_jpg.rf.e1855fcee10981918fe4754ed2d066e2.jpg\n",
            "  Tumour/train\\glioma\\Tr-gl_0428_jpg.rf.33ac27acf02e97cc335662e8100fe29c.jpg\n",
            "Duplicate hash 183c7e7e3c3e3e04:\n",
            "  Tumour/train\\glioma\\Tr-gl_0429_jpg.rf.85bdc2bd5d7576b844585bf602643971.jpg\n",
            "  Tumour/valid\\glioma\\Tr-gl_0110_jpg.rf.c786fdc2a863b045981db44b091fd4f4.jpg\n",
            "Duplicate hash 003c7e7e7e7e7e38:\n",
            "  Tumour/train\\glioma\\Tr-gl_0437_jpg.rf.4bbbf2f09275286da501dba334614525.jpg\n",
            "  Tumour/train\\pituitary\\Tr-pi_0307_jpg.rf.03a574401cc85d36f04f400477747ab4.jpg\n",
            "  Tumour/train\\pituitary\\Tr-pi_0320_jpg.rf.8b41361273272363995b3c52ff1180ff.jpg\n",
            "Duplicate hash 001c3c7e7e7e7e3c:\n",
            "  Tumour/train\\glioma\\Tr-gl_0439_jpg.rf.2ab77312994ed95e35eba9d5f45a200e.jpg\n",
            "  Tumour/train\\meningioma\\Tr-me_0520_jpg.rf.6889f06432e31e30596bd6f39f0cc93c.jpg\n",
            "  Tumour/valid\\glioma\\Tr-gl_0043_jpg.rf.18703231992f36c064d5db4d1af3b5de.jpg\n",
            "Duplicate hash 003c7e7e7e7e7e66:\n",
            "  Tumour/train\\glioma\\Tr-gl_0452_jpg.rf.263a773d71ab2e17e79e7d07a59f21c7.jpg\n",
            "  Tumour/train\\glioma\\Tr-gl_0452_jpg.rf.64e4c8e0e7d5467a6c383ddcbed44b96.jpg\n",
            "  Tumour/train\\meningioma\\Tr-me_0129_jpg.rf.9d65591c2f1228c5948140e2d10151a3.jpg\n",
            "Duplicate hash 00183c7e7e7e7e24:\n",
            "  Tumour/train\\glioma\\Tr-gl_0457_jpg.rf.11693726ba6e630cc5cbe14b1d6a0042.jpg\n",
            "  Tumour/valid\\glioma\\Tr-gl_0457_jpg.rf.be9416cb2a28dca1205b00c6a622c704.jpg\n",
            "Duplicate hash 00383c7c7c7e3c00:\n",
            "  Tumour/train\\glioma\\Tr-gl_0463_jpg.rf.8ebb40ad039d39258b1e0ff4cdca35e7.jpg\n",
            "  Tumour/valid\\glioma\\Tr-gl_0114_jpg.rf.2d6ada67ca4a70d5c4003f43ac11529a.jpg\n",
            "Duplicate hash 003c7c7e7e7e7e00:\n",
            "  Tumour/train\\glioma\\Tr-gl_0467_jpg.rf.11ea329bafaa4d1ccfb79e6b0dc089a2.jpg\n",
            "  Tumour/valid\\no_tumor\\Tr-no_0163_jpg.rf.16acf37555f889e8f6469ad05ea7394d.jpg\n",
            "Duplicate hash 003c3e7e7e7e7e10:\n",
            "  Tumour/train\\glioma\\Tr-gl_0468_jpg.rf.89dc424551e7e822cdb9de01eb33854a.jpg\n",
            "  Tumour/train\\glioma\\Tr-gl_0469_jpg.rf.eda6d5c14a3a98144e1913df32331c14.jpg\n",
            "  Tumour/valid\\glioma\\Tr-gl_0115_jpg.rf.a781d54f0285714f3a376557d1e28e15.jpg\n",
            "Duplicate hash 001c3c3e3c7e7c3c:\n",
            "  Tumour/train\\glioma\\Tr-gl_0476_jpg.rf.c13a522304f571deeb148a66d886ccb0.jpg\n",
            "  Tumour/train\\glioma\\Tr-gl_0477_jpg.rf.4d395d107b2cb77b815fd094d8d3fa75.jpg\n",
            "Duplicate hash 183c7e7e3e7c3c38:\n",
            "  Tumour/train\\glioma\\Tr-gl_0479_jpg.rf.3783d8ed0bbef691c3c7e814e1c73084.jpg\n",
            "  Tumour/valid\\glioma\\Tr-gl_0015_jpg.rf.f19712315a693c8362217ca980843f70.jpg\n",
            "Duplicate hash 003c3c3c3e3e3c00:\n",
            "  Tumour/train\\glioma\\Tr-gl_0496_jpg.rf.010620fbbbaa509aa81d7ce5bdf75de5.jpg\n",
            "  Tumour/train\\glioma\\Tr-gl_0497_jpg.rf.5f2611981822ae04fe2adb68ad8f4837.jpg\n",
            "  Tumour/train\\glioma\\Tr-gl_0498_jpg.rf.8c5c3744f26c7188052219a0589fa680.jpg\n",
            "Duplicate hash 003c3c3c7c7c3c00:\n",
            "  Tumour/train\\glioma\\Tr-gl_0497_jpg.rf.4c25ba69423756154f352e2e56205d53.jpg\n",
            "  Tumour/train\\glioma\\Tr-gl_0498_jpg.rf.61ae72a05bb65514bc578bf83eef2cbf.jpg\n",
            "Duplicate hash 003c3c7c7c7c3c00:\n",
            "  Tumour/train\\glioma\\Tr-gl_0499_jpg.rf.848b39dcfaa0f523834a4579bcc69fce.jpg\n",
            "  Tumour/train\\glioma\\Tr-gl_0500_jpg.rf.acd85c49ef53ad0a9b6365c072d8922e.jpg\n",
            "  Tumour/valid\\glioma\\Tr-gl_0118_jpg.rf.3257922862c884342127cdc1ca02f322.jpg\n",
            "Duplicate hash 00383c7c7c3c1800:\n",
            "  Tumour/train\\glioma\\Tr-gl_0508_jpg.rf.ae4109a5ff508371a991fd673d8a552b.jpg\n",
            "  Tumour/train\\glioma\\Tr-gl_0509_jpg.rf.86e0644506fc88267103367820ba1156.jpg\n",
            "Duplicate hash 001c3c3e3e3c1800:\n",
            "  Tumour/train\\glioma\\Tr-gl_0509_jpg.rf.3867b48f3cf687552e9b6c24eaf32eb2.jpg\n",
            "  Tumour/valid\\glioma\\Tr-gl_0508_jpg.rf.d6ddd0bf5f12a46e268d1adf574b03b9.jpg\n",
            "Duplicate hash 103c7e7e7e7e3c00:\n",
            "  Tumour/train\\glioma\\Tr-gl_0528_jpg.rf.e3d1da28f44e1f75ffecf5cbfc296efa.jpg\n",
            "  Tumour/train\\no_tumor\\Tr-no_0495_jpg.rf.e61a6b76e09b5f302834b7b1c03c5dbd.jpg\n",
            "  Tumour/train\\no_tumor\\Tr-no_0546_jpg.rf.df329fec266a1ae756ab0c1aded44c0a.jpg\n",
            "  Tumour/train\\pituitary\\Tr-pi_0579_jpg.rf.6d6d1e6b27c46e21bc0d0715e3f8a696.jpg\n",
            "  Tumour/train\\pituitary\\Tr-pi_0616_jpg.rf.6b794b5d15ee3651387a607ecc63ba4f.jpg\n",
            "  Tumour/valid\\glioma\\Tr-gl_0406_jpg.rf.84338178fb782d538d8df645d48a0089.jpg\n",
            "Duplicate hash 183c3e7e7e7e3c00:\n",
            "  Tumour/train\\glioma\\Tr-gl_0531_jpg.rf.2ad32573e28c6b267449b43b9cc2fdff.jpg\n",
            "  Tumour/train\\glioma\\Tr-gl_0532_jpg.rf.94054f9b01ed3ff403f7bc1f695f6815.jpg\n",
            "  Tumour/train\\no_tumor\\Tr-no_0445_jpg.rf.8d420aaefb778a5cd0acc612353e0e19.jpg\n",
            "  Tumour/valid\\glioma\\Tr-gl_0152_jpg.rf.6fedf013fdcb20b060ec336972fcc069.jpg\n",
            "Duplicate hash 00383c7e7e7c3c00:\n",
            "  Tumour/train\\glioma\\Tr-gl_0544_jpg.rf.a1b0d310e09f5ffa2c8c5a524d758115.jpg\n",
            "  Tumour/train\\glioma\\Tr-gl_0550_jpg.rf.30b92f3b1cc7971cc1c65fd53e0a42a9.jpg\n",
            "  Tumour/train\\glioma\\Tr-gl_0551_jpg.rf.904e423e09ea05a3a2688ee4431256e0.jpg\n",
            "  Tumour/train\\glioma\\Tr-gl_0552_jpg.rf.e9e34c2e0e86cde6de0134ae34fa55f0.jpg\n",
            "  Tumour/valid\\glioma\\Tr-gl_0054_jpg.rf.d6674c8411ae4e41529199c06df8b501.jpg\n",
            "Duplicate hash 00103c3c7e3c1800:\n",
            "  Tumour/train\\meningioma\\Tr-me_0015_jpg.rf.6dcf01fa6278506fa7cd33a78e0868b9.jpg\n",
            "  Tumour/train\\meningioma\\Tr-me_0085_jpg.rf.80103699ad09263c6e534ec95a4d0586.jpg\n",
            "Duplicate hash 00387c7e7e7c3c00:\n",
            "  Tumour/train\\meningioma\\Tr-me_0021_jpg.rf.a07811781215238fc8bd312ae8c46148.jpg\n",
            "  Tumour/valid\\glioma\\Tr-gl_0052_jpg.rf.a44e2003e2cd4dbdec6743590a1f5124.jpg\n",
            "Duplicate hash 001c3e7e7e3e3c00:\n",
            "  Tumour/train\\meningioma\\Tr-me_0028_jpg.rf.545a0d8fc1ae430448e738652d8a0c6d.jpg\n",
            "  Tumour/train\\meningioma\\Tr-me_0029_jpg.rf.b08172c682fc83833de525b4143c2dd8.jpg\n",
            "Duplicate hash 0000183c3c3c1800:\n",
            "  Tumour/train\\meningioma\\Tr-me_0038_jpg.rf.60e86dcbd67b1a1d43cee9c391e28053.jpg\n",
            "  Tumour/valid\\no_tumor\\Tr-no_0333_jpg.rf.5a675f3a069bca26cf872e0a152e4a5c.jpg\n",
            "Duplicate hash 00003c3c7e3c1800:\n",
            "  Tumour/train\\meningioma\\Tr-me_0039_jpg.rf.e87554a9b91b3f0ba69672f6964b60a9.jpg\n",
            "  Tumour/valid\\glioma\\Tr-gl_0248_jpg.rf.03b8dd808fb25d263921d023d716b49c.jpg\n",
            "Duplicate hash 083c7e7e7e7e3c3c:\n",
            "  Tumour/train\\meningioma\\Tr-me_0051_jpg.rf.2076d05699720608ccdd6d40799d100a.jpg\n",
            "  Tumour/valid\\meningioma\\Tr-me_0043_jpg.rf.c50c9e6ba4f052fc2e3cf30810d8a3b9.jpg\n",
            "Duplicate hash 00083c3e7e7e3c00:\n",
            "  Tumour/train\\meningioma\\Tr-me_0052_jpg.rf.d11117daf5342669b6c3bcf6b7657049.jpg\n",
            "  Tumour/valid\\meningioma\\Tr-me_0050_jpg.rf.e193dd70c10c047e665e7be34e86aea3.jpg\n",
            "Duplicate hash 00001c3c7e3e3c00:\n",
            "  Tumour/train\\meningioma\\Tr-me_0053_jpg.rf.5773e6002e6fcf722297efc948e5f4b0.jpg\n",
            "  Tumour/train\\meningioma\\Tr-me_0353_jpg.rf.597065a901ed81f8a39afcf5124f94f0.jpg\n",
            "Duplicate hash 00187c7e7c7c3c3c:\n",
            "  Tumour/train\\meningioma\\Tr-me_0092_jpg.rf.cfa6eb44ee8c7ac0d89f8b52a0558170.jpg\n",
            "  Tumour/train\\meningioma\\Tr-me_0093_jpg.rf.b0eb1c308ea19f38468a6eb2d0215918.jpg\n",
            "Duplicate hash 00003c3c3e3c1800:\n",
            "  Tumour/train\\meningioma\\Tr-me_0098_jpg.rf.0825fead4814841cfb5e3336a97fdba5.jpg\n",
            "  Tumour/train\\meningioma\\Tr-me_0164_jpg.rf.c76110dd43fa0f954c7301bfafc092ad.jpg\n",
            "Duplicate hash 00183c3e3e3e3c18:\n",
            "  Tumour/train\\meningioma\\Tr-me_0104_jpg.rf.c7682542f738e6a3573dfb511a9edf72.jpg\n",
            "  Tumour/train\\no_tumor\\Tr-no_0274_jpg.rf.78d9ecb4aeec97235ae7b58a1349fc3d.jpg\n",
            "  Tumour/valid\\meningioma\\Tr-me_0105_jpg.rf.fa86f9260bcbae77cc0d02b2f67d81b8.jpg\n",
            "Duplicate hash 183c7e7e7e767e3e:\n",
            "  Tumour/train\\meningioma\\Tr-me_0111_jpg.rf.d3fcb430de7e3336f8fc8d210cffb35b.jpg\n",
            "  Tumour/train\\meningioma\\Tr-me_0112_jpg.rf.d710016a7de7f381e465202f8b753d83.jpg\n",
            "Duplicate hash 183c7e7e7e7e7e24:\n",
            "  Tumour/train\\meningioma\\Tr-me_0115_jpg.rf.661aa2cbe08aa66e85cbc93abef29114.jpg\n",
            "  Tumour/train\\pituitary\\Tr-pi_0279_jpg.rf.50fae1bd71dde517b6699fc6cd172d61.jpg\n",
            "  Tumour/train\\pituitary\\Tr-pi_0280_jpg.rf.39f16beba190dee46479e6af106a699a.jpg\n",
            "  Tumour/valid\\pituitary\\Tr-pi_0281_jpg.rf.3c311fdbb8bdae0058c443ce41c13049.jpg\n",
            "Duplicate hash 3c7e7e7e7e7e7e24:\n",
            "  Tumour/train\\meningioma\\Tr-me_0126_jpg.rf.63d929ed23e7be8c81aed6299e059e2b.jpg\n",
            "  Tumour/train\\pituitary\\Tr-pi_0455_jpg.rf.117442632413c223d5b0956776e0b659.jpg\n",
            "  Tumour/train\\pituitary\\Tr-pi_0458_jpg.rf.a5e9b3b325b9ad1611e8b83c5fc10add.jpg\n",
            "  Tumour/valid\\pituitary\\Tr-pi_0454_jpg.rf.7da101d8c8bcb5700ef5c689abfe6b5c.jpg\n",
            "Duplicate hash 003c7c7e7e7e7e3c:\n",
            "  Tumour/train\\meningioma\\Tr-me_0140_jpg.rf.7c0d19725e834fdcd2eb621e6e06456f.jpg\n",
            "  Tumour/train\\meningioma\\Tr-me_0141_jpg.rf.79ea086b519dcadd603b69b64b15855c.jpg\n",
            "  Tumour/train\\no_tumor\\Tr-no_0170_jpg.rf.4894cd15ed98c618ac9ad771cdcde0de.jpg\n",
            "  Tumour/train\\pituitary\\Tr-pi_0275_jpg.rf.941a267926558db7a649466d3738fe9d.jpg\n",
            "  Tumour/valid\\glioma\\Tr-gl_0011_jpg.rf.c6586a6320264a828625b45ba88fabac.jpg\n",
            "Duplicate hash 107c7e7e7e7e3c00:\n",
            "  Tumour/train\\meningioma\\Tr-me_0172_jpg.rf.71c94beaddd1a9fe9d574f608075e91f.jpg\n",
            "  Tumour/train\\meningioma\\Tr-me_0173_jpg.rf.cd303dc14d39ed6a40984a9ce2d544ca.jpg\n",
            "Duplicate hash 0044fcf4f6804108:\n",
            "  Tumour/train\\meningioma\\Tr-me_0175_jpg.rf.d889e1f1ced00a3da2cfacccd3e53162.jpg\n",
            "  Tumour/train\\meningioma\\Tr-me_0205_jpg.rf.50aa12e8d5c9e1a771ac2640bd0a4305.jpg\n",
            "Duplicate hash 003c7e7e7e7e3e18:\n",
            "  Tumour/train\\meningioma\\Tr-me_0176_jpg.rf.403f951b71d4efa70d136dc5b4dfac3f.jpg\n",
            "  Tumour/train\\no_tumor\\Tr-no_0208_jpg.rf.30b23e6384fe69ab98d88b316a7f4213.jpg\n",
            "  Tumour/train\\pituitary\\Tr-pi_0502_jpg.rf.554d53cb96353c12bfe8824ad716fa21.jpg\n",
            "  Tumour/train\\pituitary\\Tr-pi_0503_jpg.rf.4e0ae8a3749edf86e81bcf71b8a4c1ec.jpg\n",
            "  Tumour/valid\\pituitary\\Tr-pi_0499_jpg.rf.a23d58e1c6d134c981fedc020bd52eca.jpg\n",
            "  Tumour/valid\\pituitary\\Tr-pi_0501_jpg.rf.0856fb4f2ec41cc13d2a852ee73d0097.jpg\n",
            "  Tumour/valid\\pituitary\\Tr-pi_0565_jpg.rf.f731d4013dfe5c0d0139a1e394bb8b59.jpg\n",
            "Duplicate hash 003e7e7e7e7e7c18:\n",
            "  Tumour/train\\meningioma\\Tr-me_0190_jpg.rf.353183e2e7c8df0bc6a75510cf62f614.jpg\n",
            "  Tumour/train\\meningioma\\Tr-me_0292_jpg.rf.8d01c9ab6104e0cbfe5ee4004309cf4a.jpg\n",
            "Duplicate hash 003c3c3e7e7e7e3c:\n",
            "  Tumour/train\\meningioma\\Tr-me_0246_jpg.rf.5e8c758ba48e6aa0db10f539d4906c64.jpg\n",
            "  Tumour/train\\no_tumor\\Tr-no_0447_jpg.rf.c3e4e51b07ae53ee699f670cc497908b.jpg\n",
            "  Tumour/valid\\meningioma\\Tr-me_0187_jpg.rf.517ae47163d9cd0798f8c6cb0ad9f9b4.jpg\n",
            "  Tumour/valid\\meningioma\\Tr-me_0272_jpg.rf.f5699aceb6e8a1c1f1ac6e3a478cbff2.jpg\n",
            "Duplicate hash 00383c7c7e7e3c00:\n",
            "  Tumour/train\\meningioma\\Tr-me_0270_jpg.rf.807c5b95545667634a3c8e1a22607340.jpg\n",
            "  Tumour/valid\\meningioma\\Tr-me_0212_jpg.rf.f4bedb561f16c262755f595be47166cf.jpg\n",
            "Duplicate hash 007c7e7e7e7e7e18:\n",
            "  Tumour/train\\meningioma\\Tr-me_0303_jpg.rf.ce9f9242d388528b927a4c6af7ee98d4.jpg\n",
            "  Tumour/train\\pituitary\\Tr-pi_0308_jpg.rf.e605543e99d8015137bfea501e1d86f5.jpg\n",
            "  Tumour/train\\pituitary\\Tr-pi_0543_jpg.rf.73036532a7acc77f0632cb45873df542.jpg\n",
            "Duplicate hash 003c3e3e7e3e3c18:\n",
            "  Tumour/train\\meningioma\\Tr-me_0304_jpg.rf.2f6ef1a6639c63d07e7d035889ea922a.jpg\n",
            "  Tumour/train\\meningioma\\Tr-me_0305_jpg.rf.47676284b42604bb916c68113951d1cc.jpg\n",
            "Duplicate hash 003c7e7e7e7e7e3c:\n",
            "  Tumour/train\\meningioma\\Tr-me_0310_jpg.rf.6da45479870af79a1ec520bc7539d65e.jpg\n",
            "  Tumour/train\\meningioma\\Tr-me_0312_jpg.rf.b96343d90f4d1866b6c515e77459fea7.jpg\n",
            "  Tumour/train\\meningioma\\Tr-me_0313_jpg.rf.1d6d3223ae580ef68c2aed9935c1d89d.jpg\n",
            "  Tumour/train\\meningioma\\Tr-me_0430_jpg.rf.d4798cab07474a626fe4268986839a2e.jpg\n",
            "  Tumour/train\\meningioma\\Tr-me_0437_jpg.rf.c940cf42f8ceb86e332deb5d546609c1.jpg\n",
            "  Tumour/train\\no_tumor\\Tr-no_0062_jpg.rf.97967ddd099cfa7777500b096a397ed5.jpg\n",
            "  Tumour/train\\no_tumor\\Tr-no_0190_jpg.rf.817681381fc0bb3fe64506b450aa54c2.jpg\n",
            "  Tumour/train\\pituitary\\Tr-pi_0323_jpg.rf.9becd9ee38df87900de84f35554016d9.jpg\n",
            "  Tumour/train\\pituitary\\Tr-pi_0414_jpg.rf.d67e22064725cfae6ffe0408cf3e6db6.jpg\n",
            "  Tumour/train\\pituitary\\Tr-pi_0642_jpg.rf.d6a21faa591e115e3f385103d26526c0.jpg\n",
            "  Tumour/train\\pituitary\\Tr-pi_0656_jpg.rf.ec2bbda460dabe336c1c2d8e619f8c1b.jpg\n",
            "  Tumour/valid\\meningioma\\Tr-me_0309_jpg.rf.185555deba83ae5838946197d62d0473.jpg\n",
            "  Tumour/valid\\meningioma\\Tr-me_0311_jpg.rf.56265f2d983f262802bae875c11657d2.jpg\n",
            "  Tumour/valid\\meningioma\\Tr-me_0431_jpg.rf.1959bf021e39d65bbff1b6b5b74004bc.jpg\n",
            "  Tumour/valid\\pituitary\\Tr-pi_0315_jpg.rf.5a8b0f58338a765926f5c42c17ca8f72.jpg\n",
            "  Tumour/valid\\pituitary\\Tr-pi_0316_jpg.rf.dfa383b09192bd5cb386807b36a59b44.jpg\n",
            "Duplicate hash 00183c3c7c7c3c00:\n",
            "  Tumour/train\\meningioma\\Tr-me_0328_jpg.rf.2a31ead7e2bbe8c49b489646ccfb8840.jpg\n",
            "  Tumour/valid\\no_tumor\\Tr-no_0048_jpg.rf.c8d828ebc8cb4332469b11715cd14846.jpg\n",
            "Duplicate hash 00183e7e7e7e3c00:\n",
            "  Tumour/train\\meningioma\\Tr-me_0329_jpg.rf.d8662152e4f5c0a4a28f05bcc76d8f0b.jpg\n",
            "  Tumour/train\\meningioma\\Tr-me_0355_jpg.rf.07d80aa6f31bccf629cd88ee9247e698.jpg\n",
            "  Tumour/valid\\glioma\\Tr-gl_0243_jpg.rf.e25a1d7197efb34f63da19bbfebedf33.jpg\n",
            "Duplicate hash 00187e7e7e7e3c00:\n",
            "  Tumour/train\\meningioma\\Tr-me_0354_jpg.rf.ff6b997c51f92adb482d3fcb08d11c8e.jpg\n",
            "  Tumour/valid\\no_tumor\\Tr-no_0192_jpg.rf.38e3226f83b9c6feba0515fde1dd1e87.jpg\n",
            "Duplicate hash 00383c7c7c3c3800:\n",
            "  Tumour/train\\meningioma\\Tr-me_0365_jpg.rf.03aded05646c7daf1736c9064be7b32e.jpg\n",
            "  Tumour/valid\\meningioma\\Tr-me_0357_jpg.rf.50140f8b5c943f8c32a3a3a8f68a4654.jpg\n",
            "Duplicate hash 003c7e7e7e7e3c3c:\n",
            "  Tumour/train\\meningioma\\Tr-me_0373_jpg.rf.e498d75f17d7e7c77dd84c80e26be3d5.jpg\n",
            "  Tumour/train\\meningioma\\Tr-me_0449_jpg.rf.76f094a0eb00e586bb297622a1315d41.jpg\n",
            "  Tumour/valid\\meningioma\\Tr-me_0400_jpg.rf.28727a4d2e4b68e60f698f1ecc705d29.jpg\n",
            "  Tumour/valid\\pituitary\\Tr-pi_0078_jpg.rf.78fd830eb0b0bcf6d5aa7157e400057e.jpg\n",
            "Duplicate hash 003c7e7e7e7c3c3c:\n",
            "  Tumour/train\\meningioma\\Tr-me_0381_jpg.rf.66758c8a7f54bb10ec1b120ef51544a8.jpg\n",
            "  Tumour/valid\\meningioma\\Tr-me_0374_jpg.rf.d87ce125568611226c307de6382325bc.jpg\n",
            "Duplicate hash 003c7c7e7e7e7c20:\n",
            "  Tumour/train\\meningioma\\Tr-me_0395_jpg.rf.b18bcd76168d0e0436303d3e7ed585c0.jpg\n",
            "  Tumour/train\\meningioma\\Tr-me_0396_jpg.rf.26058c07e2ff9718e252558098d9e6b1.jpg\n",
            "Duplicate hash 003c7e7e7e3c3c3c:\n",
            "  Tumour/train\\meningioma\\Tr-me_0399_jpg.rf.1bda4a71ae82320a1d3f3e96b286e2d9.jpg\n",
            "  Tumour/train\\meningioma\\Tr-me_0401_jpg.rf.d309fc5043c4151a7ef91357e8109a0c.jpg\n",
            "Duplicate hash 183c7e7e1a3c3c3c:\n",
            "  Tumour/train\\meningioma\\Tr-me_0407_jpg.rf.a94326ac98a4e2f514c5446397409579.jpg\n",
            "  Tumour/train\\meningioma\\Tr-me_0408_jpg.rf.de55e8bf06e212003b5c9c97e1139e4f.jpg\n",
            "Duplicate hash 003c7c7e7e3c3c18:\n",
            "  Tumour/train\\meningioma\\Tr-me_0412_jpg.rf.1c5ead6036f09049101db527670b996b.jpg\n",
            "  Tumour/valid\\meningioma\\Tr-me_0411_jpg.rf.bda2a8d9e83051c6390733df5a5f7374.jpg\n",
            "Duplicate hash 183c7e7e7e3c3c18:\n",
            "  Tumour/train\\meningioma\\Tr-me_0415_jpg.rf.3fa02b264061172191421634267c3249.jpg\n",
            "  Tumour/train\\meningioma\\Tr-me_0483_jpg.rf.f0a7ec7517f4156acb2d852f8a5418f1.jpg\n",
            "Duplicate hash 003c7e7e7e7e7e24:\n",
            "  Tumour/train\\meningioma\\Tr-me_0438_jpg.rf.95b4993223ae7cae70be499a7a684318.jpg\n",
            "  Tumour/train\\pituitary\\Tr-pi_0267_jpg.rf.bc8af96e901d0a0d37c44dcd930002f6.jpg\n",
            "Duplicate hash 003c7e7e7e7c7e3c:\n",
            "  Tumour/train\\meningioma\\Tr-me_0444_jpg.rf.f9cc8e8afd4b1b7821b9eb36d6e43139.jpg\n",
            "  Tumour/train\\meningioma\\Tr-me_0445_jpg.rf.5d2add64974119605e15d7bd23579a3e.jpg\n",
            "Duplicate hash 00183c7e7e7e3c3c:\n",
            "  Tumour/train\\meningioma\\Tr-me_0450_jpg.rf.bad041d39ac0bd52bfd125eb7d94c083.jpg\n",
            "  Tumour/train\\meningioma\\Tr-me_0534_jpg.rf.5f39f7323103bc321e1cff26b9bd05b3.jpg\n",
            "Duplicate hash 003c3e7e7e7e3c3c:\n",
            "  Tumour/train\\meningioma\\Tr-me_0460_jpg.rf.9bfd7b0237b265818d3f5d09a2e8356b.jpg\n",
            "  Tumour/train\\meningioma\\Tr-me_0462_jpg.rf.2bd2c90fe51bc9f40ccca9912d7d99f0.jpg\n",
            "  Tumour/train\\meningioma\\Tr-me_0463_jpg.rf.04d67f005e7a71846ab4d5917dd24fa9.jpg\n",
            "  Tumour/train\\meningioma\\Tr-me_0556_jpg.rf.05d53ec68e265d8114bfba1daec33480.jpg\n",
            "  Tumour/valid\\meningioma\\Tr-me_0461_jpg.rf.a8b5437c3819238f90285b99df6862a3.jpg\n",
            "Duplicate hash 00183c3c3c3c3c3c:\n",
            "  Tumour/train\\meningioma\\Tr-me_0466_jpg.rf.59022cb655898428ca5a1b541f72a90f.jpg\n",
            "  Tumour/train\\meningioma\\Tr-me_0467_jpg.rf.908928a1f3a00e77fa0da235fbd6255b.jpg\n",
            "Duplicate hash 00003e7e7e7e7c7c:\n",
            "  Tumour/train\\meningioma\\Tr-me_0503_jpg.rf.608a39d2864184b57b9f1f26bb086205.jpg\n",
            "  Tumour/train\\meningioma\\Tr-me_0505_jpg.rf.32e54a98accb3af1780224736ee83e35.jpg\n",
            "  Tumour/train\\meningioma\\Tr-me_0506_jpg.rf.f9579a35ae372c616e07ffd8e37cb6dc.jpg\n",
            "  Tumour/valid\\meningioma\\Tr-me_0504_jpg.rf.316a7dd7c559f1844dcb1c6cc4856613.jpg\n",
            "Duplicate hash 003c7e7e7e7e7e18:\n",
            "  Tumour/train\\meningioma\\Tr-me_0531_jpg.rf.17743fd8ac95399b0177b722e4b0205c.jpg\n",
            "  Tumour/train\\pituitary\\Tr-pi_0319_jpg.rf.805cef0657a932c7b9a321f595254f6d.jpg\n",
            "Duplicate hash 003c7e7e7e7e7c3c:\n",
            "  Tumour/train\\meningioma\\Tr-me_0554_jpg.rf.62f575a19f0dee08b62972ce57408c3c.jpg\n",
            "  Tumour/train\\pituitary\\Tr-pi_0100_jpg.rf.0f7eb1d190481aab47bc4efe0ffdfd05.jpg\n",
            "Duplicate hash 003c3e7e7e7e3c18:\n",
            "  Tumour/train\\no_tumor\\Tr-no_0016_jpg.rf.cdf780eb3e921d6fb86ff2ee6b00c800.jpg\n",
            "  Tumour/train\\no_tumor\\Tr-no_0260_jpg.rf.0717485ce48768453eebc66cd259cfa7.jpg\n",
            "  Tumour/valid\\meningioma\\Tr-me_0335_jpg.rf.5696be3b17776bc7730831ef502ef380.jpg\n",
            "Duplicate hash 103c7e7eff7e7e1c:\n",
            "  Tumour/train\\no_tumor\\Tr-no_0020_jpg.rf.f4b92e9a9e19cb5492f57f97e316dee8.jpg\n",
            "  Tumour/train\\no_tumor\\Tr-no_0498_jpg.rf.e37858985d4af3da70c3bbc940731db0.jpg\n",
            "Duplicate hash 183c7e7e7e7e3c08:\n",
            "  Tumour/train\\no_tumor\\Tr-no_0025_jpg.rf.63fd4b4d2ec302d57eb39fbf0e0744fa.jpg\n",
            "  Tumour/train\\no_tumor\\Tr-no_0026_jpg.rf.c85f9a47dd830bf37ae7bdcf3efe70a1.jpg\n",
            "Duplicate hash 183c7c7e7e7e3c00:\n",
            "  Tumour/train\\no_tumor\\Tr-no_0033_jpg.rf.69505c4c93b43cef0ccb1a78d568ad83.jpg\n",
            "  Tumour/train\\no_tumor\\Tr-no_0467_jpg.rf.0114a50dd612c9fd36909d19530b4b2d.jpg\n",
            "  Tumour/valid\\glioma\\Tr-gl_0152_jpg.rf.7083ccfd4be796ed6c17d072a9aba4b5.jpg\n",
            "  Tumour/valid\\glioma\\Tr-gl_0531_jpg.rf.237c7083b7b23afb0fe81cbaebe27d1a.jpg\n",
            "Duplicate hash 00003c7c7c7c3c00:\n",
            "  Tumour/train\\no_tumor\\Tr-no_0066_jpg.rf.4f92d5789cdb71d1ca89627ed0fb7148.jpg\n",
            "  Tumour/train\\no_tumor\\Tr-no_0364_jpg.rf.9a5b9f9e7162e7c3146c399a8f0d3817.jpg\n",
            "Duplicate hash 003c3c7e7e7e3e3c:\n",
            "  Tumour/train\\no_tumor\\Tr-no_0109_jpg.rf.94f6eca8c722fee948581a8f437fc743.jpg\n",
            "  Tumour/train\\no_tumor\\Tr-no_0185_jpg.rf.753b1fd5397f6f7663cfffae52a7ca41.jpg\n",
            "Duplicate hash 00183c3c7e7c3c18:\n",
            "  Tumour/train\\no_tumor\\Tr-no_0113_jpg.rf.f10a745041d7be0bbad325665f8eebca.jpg\n",
            "  Tumour/train\\no_tumor\\Tr-no_0340_jpg.rf.220686e46d6194124e32a9591976bebd.jpg\n",
            "  Tumour/valid\\no_tumor\\Tr-no_0046_jpg.rf.79d003a8dae73cb11bf0be828f6a75f3.jpg\n",
            "Duplicate hash 003e7e7e6e7e7600:\n",
            "  Tumour/train\\no_tumor\\Tr-no_0116_jpg.rf.12338f6efe6727d1705b4ba3d0ff0b28.jpg\n",
            "  Tumour/train\\no_tumor\\Tr-no_0371_jpg.rf.5c082440f8fe618c26bf9050b8e9e173.jpg\n",
            "Duplicate hash 003c3e7e7e6e7e3c:\n",
            "  Tumour/train\\no_tumor\\Tr-no_0129_jpg.rf.52040b8addc346150509f5daecc7e363.jpg\n",
            "  Tumour/train\\no_tumor\\Tr-no_0374_jpg.rf.f55d073a000b720c03903cdf5d8efe0a.jpg\n",
            "Duplicate hash 183c3c3c3c3c1c18:\n",
            "  Tumour/train\\no_tumor\\Tr-no_0154_jpg.rf.74d3815e7b424754a59efd044722cf36.jpg\n",
            "  Tumour/train\\no_tumor\\Tr-no_0502_jpg.rf.dfb38872ebc3e9e1356f8822e7563de8.jpg\n",
            "Duplicate hash 003e3e76777e3e08:\n",
            "  Tumour/train\\no_tumor\\Tr-no_0160_jpg.rf.f6132a52370d0fadedc2ad79584f8158.jpg\n",
            "  Tumour/train\\no_tumor\\Tr-no_0548_jpg.rf.13a97d203ef8a3c0e0d95d10d4696e42.jpg\n",
            "Duplicate hash 083c3e3e3e3e3e18:\n",
            "  Tumour/train\\no_tumor\\Tr-no_0176_jpg.rf.7cf0bfe7a55c3d751f6e373f183c32a6.jpg\n",
            "  Tumour/valid\\no_tumor\\Tr-no_0557_jpg.rf.de2c0411643e9a9d0e0447e4a9e5e7ad.jpg\n",
            "Duplicate hash 003c3c3c7e7e3c00:\n",
            "  Tumour/train\\no_tumor\\Tr-no_0179_jpg.rf.b79e2986643b1637f62474fd5d46c658.jpg\n",
            "  Tumour/train\\no_tumor\\Tr-no_0406_jpg.rf.440aedc2442f5abc3107e9238a144051.jpg\n",
            "Duplicate hash 387e7e7e3e3e1a5a:\n",
            "  Tumour/train\\no_tumor\\Tr-no_0193_jpg.rf.fe22c249ad0939a592a30542f90f57cc.jpg\n",
            "  Tumour/train\\no_tumor\\Tr-no_0375_jpg.rf.9dcaed7e6ba1c17bc273e369cb881168.jpg\n",
            "Duplicate hash 383c3c66767e7e3c:\n",
            "  Tumour/train\\no_tumor\\Tr-no_0199_jpg.rf.65f27d1fb8acef7a857aeb4b8e1c2a8c.jpg\n",
            "  Tumour/valid\\no_tumor\\Tr-no_0142_jpg.rf.e799e05d5f2622e368b1d5da3379d932.jpg\n",
            "Duplicate hash 183c7e7e7e7e3e1c:\n",
            "  Tumour/train\\no_tumor\\Tr-no_0233_jpg.rf.5790e55b724cbb21153ec93f853a9c98.jpg\n",
            "  Tumour/train\\no_tumor\\Tr-no_0241_jpg.rf.9fc63d1484477f9f7ba82ce05b763678.jpg\n",
            "Duplicate hash 00183c3c3e3c1c00:\n",
            "  Tumour/train\\no_tumor\\Tr-no_0280_jpg.rf.afba6094efce47dbf2b757929e2f4901.jpg\n",
            "  Tumour/train\\no_tumor\\Tr-no_0493_jpg.rf.6c6e7fc66743eb46a17bc689efcde32f.jpg\n",
            "Duplicate hash 18183c3c3c3c3c18:\n",
            "  Tumour/train\\no_tumor\\Tr-no_0286_jpg.rf.9f337572635a894ded1aab57b46e432a.jpg\n",
            "  Tumour/train\\no_tumor\\Tr-no_0423_jpg.rf.b2a7d56a696a44411583ef2a96b5e2dc.jpg\n",
            "  Tumour/valid\\no_tumor\\Tr-no_0468_jpg.rf.390c7ca65b12a0131bce827deb668858.jpg\n",
            "Duplicate hash 00347e7e7e7e7e3c:\n",
            "  Tumour/train\\no_tumor\\Tr-no_0290_jpg.rf.ed9ee09e63f5b9ba9341f9ffdb7f16c2.jpg\n",
            "  Tumour/train\\no_tumor\\Tr-no_0343_jpg.rf.b80917c032ecbe731e8bf8e1fe759b2e.jpg\n",
            "Duplicate hash 183c7e7e7e7e6600:\n",
            "  Tumour/train\\no_tumor\\Tr-no_0299_jpg.rf.120e2799066a5a0d6ce8f9455565947d.jpg\n",
            "  Tumour/train\\pituitary\\Tr-pi_0297_jpg.rf.f29d11423f24c768344e50ca20d152cb.jpg\n",
            "  Tumour/train\\pituitary\\Tr-pi_0298_jpg.rf.34d1ee4c29a8ce6ca52896b16076bdc2.jpg\n",
            "Duplicate hash 003c7e7e7e7e3e3c:\n",
            "  Tumour/train\\no_tumor\\Tr-no_0337_jpg.rf.5587f34a18c94f6fc48b29dc93eb88f0.jpg\n",
            "  Tumour/train\\pituitary\\Tr-pi_0641_jpg.rf.15f211a3c2ee2c4516abf47cc9447472.jpg\n",
            "Duplicate hash 00183c7e7e3e3c00:\n",
            "  Tumour/train\\no_tumor\\Tr-no_0360_jpg.rf.3e21e2d9e7c21247f45f15f1dd4f7bca.jpg\n",
            "  Tumour/valid\\glioma\\Tr-gl_0217_jpg.rf.64beb1cdc0c3b60938cee29b98afb415.jpg\n",
            "  Tumour/valid\\glioma\\Tr-gl_0218_jpg.rf.fd97093a0df5b78a07a2541937c315ba.jpg\n",
            "  Tumour/valid\\meningioma\\Tr-me_0064_jpg.rf.26a8bfb55e178abd5b2494f11dfc07a5.jpg\n",
            "Duplicate hash 00227f3f4f7e7676:\n",
            "  Tumour/train\\no_tumor\\Tr-no_0367_jpg.rf.246a0dd0ef8df385ae5f3b8a420ae603.jpg\n",
            "  Tumour/valid\\no_tumor\\Tr-no_0134_jpg.rf.ffc56070a78f4c16226701f78713571b.jpg\n",
            "Duplicate hash 3c7e7e6e667c3c1c:\n",
            "  Tumour/train\\no_tumor\\Tr-no_0400_jpg.rf.7ab12002cf421e875af7dc84e6c19524.jpg\n",
            "  Tumour/train\\no_tumor\\Tr-no_0453_jpg.rf.3891d2d33046e2103bae767f9d34fd0f.jpg\n",
            "Duplicate hash 183c7e7e7e3c3c00:\n",
            "  Tumour/train\\no_tumor\\Tr-no_0404_jpg.rf.f4166bc389b21fd1bd155512f0141590.jpg\n",
            "  Tumour/train\\no_tumor\\Tr-no_0519_jpg.rf.da58e8a22cf9709c7b8d202ceef24a80.jpg\n",
            "  Tumour/valid\\no_tumor\\Tr-no_0449_jpg.rf.2ab4ea6cb53537e9040c36cfa2d69d28.jpg\n",
            "  Tumour/valid\\no_tumor\\Tr-no_0485_jpg.rf.0d9b902a00d620229b9668132d9a87e9.jpg\n",
            "  Tumour/valid\\no_tumor\\Tr-no_0539_jpg.rf.a14a0be80b58258f1628161a497aee2c.jpg\n",
            "Duplicate hash 003c3c7c7c3c3c00:\n",
            "  Tumour/train\\no_tumor\\Tr-no_0405_jpg.rf.b9a41358f2c92d745db75757f2d846f1.jpg\n",
            "  Tumour/train\\no_tumor\\Tr-no_0452_jpg.rf.a3b863c5e2e16d7e6b0f84353c239491.jpg\n",
            "Duplicate hash 00183c3c3c3c3c18:\n",
            "  Tumour/train\\no_tumor\\Tr-no_0456_jpg.rf.34d2b065075f173b061aa149cd3b34d2.jpg\n",
            "  Tumour/train\\no_tumor\\Tr-no_0481_jpg.rf.2ae4bf9e34a1760db971d4b866153204.jpg\n",
            "Duplicate hash 003c3c3e7e3c3c00:\n",
            "  Tumour/train\\no_tumor\\Tr-no_0487_jpg.rf.b31d0c22ae7887b76bd6f876f68a29dc.jpg\n",
            "  Tumour/valid\\no_tumor\\Tr-no_0050_jpg.rf.e8bee9611870ae3a7a76324e0241d3b9.jpg\n",
            "Duplicate hash 3c7e7e76663c3c38:\n",
            "  Tumour/train\\no_tumor\\Tr-no_0489_jpg.rf.ac66038819e658abd1b5bd759945e6f6.jpg\n",
            "  Tumour/train\\no_tumor\\Tr-no_0515_jpg.rf.242928dae79313a9c14e1086f9b9be53.jpg\n",
            "  Tumour/train\\no_tumor\\Tr-no_0541_jpg.rf.92fd55ce7d678a342c47a4a4b6f05514.jpg\n",
            "Duplicate hash 183c3c3c3c3c1818:\n",
            "  Tumour/train\\no_tumor\\Tr-no_0511_jpg.rf.c2c341fd143ddfc90ef5ba16971c9915.jpg\n",
            "  Tumour/valid\\no_tumor\\Tr-no_0535_jpg.rf.c33a7b1ebedd42fc95c87029a11045b2.jpg\n",
            "Duplicate hash 183e7e7e7e7e3c18:\n",
            "  Tumour/train\\no_tumor\\Tr-no_0523_jpg.rf.3f668d2b84f1dbc558f3c5abfa3b102b.jpg\n",
            "  Tumour/train\\pituitary\\Tr-pi_0012_jpg.rf.2a801cd06a53e87119d6a7673b811ecb.jpg\n",
            "  Tumour/train\\pituitary\\Tr-pi_0585_jpg.rf.8f1f4b65accba474689860b68c84acf0.jpg\n",
            "Duplicate hash 3c7e7e7e7e3e3c00:\n",
            "  Tumour/train\\no_tumor\\Tr-no_0525_jpg.rf.c2426cbeb7b4944bd40be3202de8fa26.jpg\n",
            "  Tumour/valid\\no_tumor\\Tr-no_0422_jpg.rf.de96ba65d69ff7c8246d8f0f85064e5b.jpg\n",
            "Duplicate hash 10383c7c7e7e3c18:\n",
            "  Tumour/train\\no_tumor\\Tr-no_0545_jpg.rf.090e52e98fc593f10a19388741c71d23.jpg\n",
            "  Tumour/valid\\no_tumor\\Tr-no_0153_jpg.rf.64d97943de2132b8889fab7d72b15b0a.jpg\n",
            "Duplicate hash 003c7e7e7e767e7e:\n",
            "  Tumour/train\\pituitary\\Tr-pi_0010_jpg.rf.caed12ef1e5fad2e91a79e5773efc0bb.jpg\n",
            "  Tumour/train\\pituitary\\Tr-pi_0437_jpg.rf.4a835634e89340cc734c18e9ee3e72fb.jpg\n",
            "  Tumour/train\\pituitary\\Tr-pi_0438_jpg.rf.613a216e15171b9491e8c6f566670c60.jpg\n",
            "Duplicate hash 007c7e7e7e7e7e7e:\n",
            "  Tumour/train\\pituitary\\Tr-pi_0016_jpg.rf.e05d11b5353af6e8efa51dae0808c5de.jpg\n",
            "  Tumour/valid\\pituitary\\Tr-pi_0015_jpg.rf.ef8d5014c9c63e98f45e3f7addc25c10.jpg\n",
            "Duplicate hash 1c3e7e7e7e7e3c18:\n",
            "  Tumour/train\\pituitary\\Tr-pi_0023_jpg.rf.0240efacaf481e43794b5ed2706fb2c6.jpg\n",
            "  Tumour/train\\pituitary\\Tr-pi_0586_jpg.rf.94d1e9837b001e440f748015a2ca8850.jpg\n",
            "  Tumour/train\\pituitary\\Tr-pi_0599_jpg.rf.4c2c6f692b8edad9033990dd520468a1.jpg\n",
            "  Tumour/valid\\pituitary\\Tr-pi_0598_jpg.rf.8103503d0606cee369198f2f8ab478f9.jpg\n",
            "Duplicate hash 003e7e7f3f7f7e36:\n",
            "  Tumour/train\\pituitary\\Tr-pi_0026_jpg.rf.f9bc00cc059960612875beaf059caf6a.jpg\n",
            "  Tumour/valid\\pituitary\\Tr-pi_0025_jpg.rf.4607761992a4f8b33d672fc8cc1e8127.jpg\n",
            "Duplicate hash 001e3e3f7f7e7c3c:\n",
            "  Tumour/train\\pituitary\\Tr-pi_0035_jpg.rf.e6a62fd368fed74783c14e869b1d6631.jpg\n",
            "  Tumour/valid\\pituitary\\Tr-pi_0039_jpg.rf.ed00253773bbf933f026a6068d9eed86.jpg\n",
            "Duplicate hash 1e3f3f3f6f6f7f20:\n",
            "  Tumour/train\\pituitary\\Tr-pi_0128_jpg.rf.39f19b91f0a5f141976137661881e152.jpg\n",
            "  Tumour/valid\\pituitary\\Tr-pi_0127_jpg.rf.91f69d8cd74aa552b3890db90aafc4b1.jpg\n",
            "Duplicate hash 003e7e7e7e7e7e3e:\n",
            "  Tumour/train\\pituitary\\Tr-pi_0146_jpg.rf.0e428d6082d226ca3ac4cecf7d49ffb9.jpg\n",
            "  Tumour/train\\pituitary\\Tr-pi_0147_jpg.rf.91861e36c7c3b0dfc6c5ece01f3cb4f7.jpg\n",
            "Duplicate hash 003e7e7e7e7e6e3e:\n",
            "  Tumour/train\\pituitary\\Tr-pi_0148_jpg.rf.7be504cb1282f76469a7bfb77e612337.jpg\n",
            "  Tumour/train\\pituitary\\Tr-pi_0150_jpg.rf.7d77b6c530becd73944f50fe315c253d.jpg\n",
            "  Tumour/valid\\pituitary\\Tr-pi_0149_jpg.rf.a45c9c2d6e3a23fc974a2208ae695d82.jpg\n",
            "Duplicate hash 003e7e7e7e5e7e3e:\n",
            "  Tumour/train\\pituitary\\Tr-pi_0152_jpg.rf.caeada38e383dfff399779b9fcc3761b.jpg\n",
            "  Tumour/train\\pituitary\\Tr-pi_0153_jpg.rf.1d112a157be6793940415bcaf82016e6.jpg\n",
            "Duplicate hash 183c7e7e7e7e3c3c:\n",
            "  Tumour/train\\pituitary\\Tr-pi_0255_jpg.rf.3a67141afcd13255c36a50ae611b1469.jpg\n",
            "  Tumour/train\\pituitary\\Tr-pi_0486_jpg.rf.8add431f3643a66f8fcaf7899e5a843b.jpg\n",
            "Duplicate hash 003c7e7e7e7e7e34:\n",
            "  Tumour/train\\pituitary\\Tr-pi_0256_jpg.rf.c9840bf53db39a7830ccd0008de3f0c1.jpg\n",
            "  Tumour/train\\pituitary\\Tr-pi_0278_jpg.rf.dfe4fe6718fa2c5b4e6fa6db77fc80ea.jpg\n",
            "Duplicate hash 183c7e7e7e7e3c1c:\n",
            "  Tumour/train\\pituitary\\Tr-pi_0257_jpg.rf.9c86f9a7a7efeb219f70a5db67d9273b.jpg\n",
            "  Tumour/train\\pituitary\\Tr-pi_0259_jpg.rf.bcbb78476c69b9ca387371c06f682f15.jpg\n",
            "Duplicate hash 003c7e7e7e7e7e78:\n",
            "  Tumour/train\\pituitary\\Tr-pi_0265_jpg.rf.e4dbf5ccc27e8200bd5eb78337f5ff91.jpg\n",
            "  Tumour/train\\pituitary\\Tr-pi_0266_jpg.rf.be96620d2e87b7d1278a7cdebc318934.jpg\n",
            "  Tumour/valid\\pituitary\\Tr-pi_0269_jpg.rf.8b80a9a420fb06a834003477a925c2d4.jpg\n",
            "Duplicate hash 3c7c7e7e7e7e7c00:\n",
            "  Tumour/train\\pituitary\\Tr-pi_0295_jpg.rf.14c840d25a8e1224aea54d0fb9e028d8.jpg\n",
            "  Tumour/train\\pituitary\\Tr-pi_0296_jpg.rf.93009960ed5f6b0b393c1047844d004b.jpg\n",
            "Duplicate hash 003c7e7e7e7e7e20:\n",
            "  Tumour/train\\pituitary\\Tr-pi_0305_jpg.rf.49e5ff630e26ad5c1973c7e01abe7345.jpg\n",
            "  Tumour/train\\pituitary\\Tr-pi_0306_jpg.rf.2e2af93a3c4437d194b944c985456df0.jpg\n",
            "Duplicate hash 183c7e7e7e763e3c:\n",
            "  Tumour/train\\pituitary\\Tr-pi_0326_jpg.rf.4ddf48f27256a805e01f9004c71f010d.jpg\n",
            "  Tumour/valid\\pituitary\\Tr-pi_0325_jpg.rf.ffbf6a77ee1362ac3dee80b3e73ca6e1.jpg\n",
            "Duplicate hash 1c3e7e7e7e7e7c24:\n",
            "  Tumour/train\\pituitary\\Tr-pi_0345_jpg.rf.ffb17b007687d8bdefb7e2009ac24629.jpg\n",
            "  Tumour/train\\pituitary\\Tr-pi_0356_jpg.rf.526a62492ddc4adf60de3ef7b56a6e96.jpg\n",
            "Duplicate hash 1c3f7f7f7f7b4200:\n",
            "  Tumour/train\\pituitary\\Tr-pi_0352_jpg.rf.fb554e6860b739c83ade417301580c3f.jpg\n",
            "  Tumour/valid\\pituitary\\Tr-pi_0354_jpg.rf.ec9da976a1e8e7352383dccb9280a68e.jpg\n",
            "Duplicate hash 3c7e7e7e7e7e7c00:\n",
            "  Tumour/train\\pituitary\\Tr-pi_0389_jpg.rf.45d62f32d4cfe3148dc2bfbd0518f0b8.jpg\n",
            "  Tumour/train\\pituitary\\Tr-pi_0400_jpg.rf.06bd3ee0138e01d21fdd448f0de6359e.jpg\n",
            "  Tumour/train\\pituitary\\Tr-pi_0411_jpg.rf.b0e64ead07e444724a50a281deca0457.jpg\n",
            "  Tumour/train\\pituitary\\Tr-pi_0450_jpg.rf.161c262fd4ba3dd6f0bd10532b4e445a.jpg\n",
            "  Tumour/train\\pituitary\\Tr-pi_0453_jpg.rf.c396213dae1364fcb8301d49de7ab9ab.jpg\n",
            "Duplicate hash 3c7e7e7e7e7e3c20:\n",
            "  Tumour/train\\pituitary\\Tr-pi_0420_jpg.rf.9b525369a15396e1bf46ea3648b24171.jpg\n",
            "  Tumour/train\\pituitary\\Tr-pi_0480_jpg.rf.02275bbaa11d7eb9216fbc7d9db69789.jpg\n",
            "Duplicate hash 3c7c7e7e7e7e6624:\n",
            "  Tumour/train\\pituitary\\Tr-pi_0426_jpg.rf.78fb6ccaed2df6ef82e639e8f1442210.jpg\n",
            "  Tumour/train\\pituitary\\Tr-pi_0427_jpg.rf.e258da89a9cbf304b6dc255788cdc321.jpg\n",
            "Duplicate hash 3c3e7e7e7e7e3c00:\n",
            "  Tumour/train\\pituitary\\Tr-pi_0430_jpg.rf.e2dc9a1ea2c35f01ef2ac3199c341b64.jpg\n",
            "  Tumour/train\\pituitary\\Tr-pi_0492_jpg.rf.12e05d6f7648bacc3bf88c6eb7930127.jpg\n",
            "  Tumour/valid\\pituitary\\Tr-pi_0490_jpg.rf.db7294a768cc96df556cfdd5229da795.jpg\n",
            "Duplicate hash 183c7e7e7e7e7e1c:\n",
            "  Tumour/train\\pituitary\\Tr-pi_0434_jpg.rf.1e17aa083787d385842013ffb4f76eb3.jpg\n",
            "  Tumour/valid\\meningioma\\Tr-me_0255_jpg.rf.517d75c3522a54dc8e1a80fc200650d2.jpg\n",
            "Duplicate hash 3c3c7e7e7e7e3c00:\n",
            "  Tumour/train\\pituitary\\Tr-pi_0447_jpg.rf.bd3125f4e7dc216d9cfaf7ffd7d7e192.jpg\n",
            "  Tumour/valid\\pituitary\\Tr-pi_0448_jpg.rf.58bc8c0c68ddafab07875d740879e86b.jpg\n",
            "Duplicate hash 7c7e7e7e7e7e3e00:\n",
            "  Tumour/train\\pituitary\\Tr-pi_0465_jpg.rf.85ef0e42314bffdc79a1e38516d1e3b5.jpg\n",
            "  Tumour/train\\pituitary\\Tr-pi_0466_jpg.rf.0c965ef783e57267b3646b2d478878e0.jpg\n",
            "Duplicate hash 083c7e7e7e7e7e7c:\n",
            "  Tumour/train\\pituitary\\Tr-pi_0467_jpg.rf.a49e6444668065542c9e2ea9a283c693.jpg\n",
            "  Tumour/valid\\pituitary\\Tr-pi_0445_jpg.rf.c1b040599a50bc2ac9c749195075e3a8.jpg\n",
            "  Tumour/valid\\pituitary\\Tr-pi_0456_jpg.rf.6d6d94a39bd3f72ff0e7d0b172d94d94.jpg\n",
            "Duplicate hash 183c7e7e7e7e3e04:\n",
            "  Tumour/train\\pituitary\\Tr-pi_0469_jpg.rf.7ebbc1d9201e4ccfa63a4fa975a92d5f.jpg\n",
            "  Tumour/valid\\glioma\\Tr-gl_0018_jpg.rf.32814a3e780f52883d520898ecedfb4c.jpg\n",
            "Duplicate hash 3c7e7e7e7e7e3820:\n",
            "  Tumour/train\\pituitary\\Tr-pi_0479_jpg.rf.0d5ac8ea8db48638d6d14a06f4625c44.jpg\n",
            "  Tumour/valid\\pituitary\\Tr-pi_0476_jpg.rf.35c907bae6a94b45cfd19156d078cbab.jpg\n",
            "  Tumour/valid\\pituitary\\Tr-pi_0477_jpg.rf.9bd95f03f92242cf3ea6cdf32984dc36.jpg\n",
            "Duplicate hash 003e7e7e7e7e7e3c:\n",
            "  Tumour/train\\pituitary\\Tr-pi_0514_jpg.rf.bd95fe241601180b6e8070d9ffe5c592.jpg\n",
            "  Tumour/valid\\pituitary\\Tr-pi_0493_jpg.rf.283b4663e224232ff5510903a837f0c7.jpg\n",
            "Duplicate hash 007c7e7e7e7e3c18:\n",
            "  Tumour/train\\pituitary\\Tr-pi_0544_jpg.rf.06d6c41c34ed95282503b4c5d53df0f5.jpg\n",
            "  Tumour/train\\pituitary\\Tr-pi_0567_jpg.rf.ebd393723906386a51cd585c076164bd.jpg\n",
            "Duplicate hash 003c7e7e7e7e7c18:\n",
            "  Tumour/train\\pituitary\\Tr-pi_0551_jpg.rf.511b589ded7831748c6734868559984d.jpg\n",
            "  Tumour/train\\pituitary\\Tr-pi_0552_jpg.rf.b7a1b19b6810d98fc4e2bcf14c02e761.jpg\n",
            "  Tumour/train\\pituitary\\Tr-pi_0635_jpg.rf.0afe215f50c176d2526e170c14aa41b8.jpg\n",
            "Duplicate hash 187c7e7e7e7e3c00:\n",
            "  Tumour/train\\pituitary\\Tr-pi_0556_jpg.rf.3c40f048edc4b9cd2a8f1b208a7a2f35.jpg\n",
            "  Tumour/train\\pituitary\\Tr-pi_0557_jpg.rf.969dc38d55402c23962a149ce67886e7.jpg\n",
            "Duplicate hash 007c6efefe7e7c3c:\n",
            "  Tumour/train\\pituitary\\Tr-pi_0559_jpg.rf.517383dca9e3cb2bdaa53a7294626a7c.jpg\n",
            "  Tumour/train\\pituitary\\Tr-pi_0560_jpg.rf.c6a726eda0b90c59dd8c3ff0cec3f3d5.jpg\n",
            "Duplicate hash 007e6e7e7e7e7e3c:\n",
            "  Tumour/train\\pituitary\\Tr-pi_0576_jpg.rf.4bb30db61c77cdd4de6701981ee58242.jpg\n",
            "  Tumour/valid\\pituitary\\Tr-pi_0575_jpg.rf.96e046eed64c1c46e832ab9223411ad9.jpg\n",
            "Duplicate hash 003c7e7e7e667e7e:\n",
            "  Tumour/train\\pituitary\\Tr-pi_0580_jpg.rf.a8e6dceba5106c19748afcd9470c0658.jpg\n",
            "  Tumour/train\\pituitary\\Tr-pi_0588_jpg.rf.25c3d58eccbd83df973dd401ff391993.jpg\n",
            "  Tumour/valid\\pituitary\\Tr-pi_0563_jpg.rf.3fab3149d63f2e0e7877e77667827951.jpg\n",
            "Duplicate hash 187e7e7e7e7e3c18:\n",
            "  Tumour/train\\pituitary\\Tr-pi_0590_jpg.rf.79a171d68d62f46a058fdd67b685948b.jpg\n",
            "  Tumour/valid\\pituitary\\Tr-pi_0584_jpg.rf.5e5b45bb2146786774351911526b3340.jpg\n",
            "Duplicate hash 001c7e7e7e7e3c18:\n",
            "  Tumour/train\\pituitary\\Tr-pi_0612_jpg.rf.490338ae2bd530c29cc7b3b98b129184.jpg\n",
            "  Tumour/train\\pituitary\\Tr-pi_0613_jpg.rf.8c839d2ed084bb495c21888667b2960a.jpg\n",
            "Duplicate hash 003c3c7e7e3c3c3c:\n",
            "  Tumour/valid\\glioma\\Tr-gl_0031_jpg.rf.77c2535409295eda4ce4127ab5aebfa3.jpg\n",
            "  Tumour/valid\\glioma\\Tr-gl_0031_jpg.rf.ee8bfd631d02a47753fffaceddd313f3.jpg\n",
            "Duplicate hash 003c7e7e3e7c3c00:\n",
            "  Tumour/valid\\glioma\\Tr-gl_0065_jpg.rf.005bff6465f287c7b2a4f5237290b7d8.jpg\n",
            "  Tumour/valid\\pituitary\\Tr-pi_0629_jpg.rf.a94e74fd2a805b2473f44c23ba66e264.jpg\n",
            "Duplicate hash 001c3c3e7e3c1800:\n",
            "  Tumour/valid\\glioma\\Tr-gl_0166_jpg.rf.23d0800b3fc6923736d5ec128b8e8668.jpg\n",
            "  Tumour/valid\\glioma\\Tr-gl_0376_jpg.rf.02931eeaa4182ef084cb38e221eb2b52.jpg\n",
            "Duplicate hash 001c3e7e7e3c1c00:\n",
            "  Tumour/valid\\glioma\\Tr-gl_0251_jpg.rf.7e22cc428076ddb03ab887648b4fde52.jpg\n",
            "  Tumour/valid\\glioma\\Tr-gl_0252_jpg.rf.afabe695582b42201c2986c56caf131e.jpg\n",
            "Duplicate hash 001c3e3e7e3e3c00:\n",
            "  Tumour/valid\\glioma\\Tr-gl_0396_jpg.rf.e60763e0bb87f1773adff9c56164f1f2.jpg\n",
            "  Tumour/valid\\meningioma\\Tr-me_0299_jpg.rf.1935ac6cce7fa6df2cbdf959fd16ec89.jpg\n",
            "Duplicate hash 003c3e7e5e7a7c4c:\n",
            "  Tumour/valid\\meningioma\\Tr-me_0127_jpg.rf.7b609e8b0fb9bd59b5c047c1e3fb67f5.jpg\n",
            "  Tumour/valid\\meningioma\\Tr-me_0128_jpg.rf.3b8a21b9d74eb613af059c56b96792e3.jpg\n",
            "Duplicate hash 183c667e787c7c24:\n",
            "  Tumour/valid\\meningioma\\Tr-me_0179_jpg.rf.2da24ae0376b22eb189c369cfa4586c4.jpg\n",
            "  Tumour/valid\\meningioma\\Tr-me_0273_jpg.rf.e821f985136dc5ea5624c278c79c5036.jpg\n",
            "Duplicate hash 003c3c7e7e7e3c3c:\n",
            "  Tumour/valid\\meningioma\\Tr-me_0402_jpg.rf.02a86987f27b9ee3594d2e3e3b631381.jpg\n",
            "  Tumour/valid\\pituitary\\Tr-pi_0484_jpg.rf.9d9b521128dea80dfa7419a035ebc5e8.jpg\n",
            "Duplicate hash 001c3c7e3e3c3c3c:\n",
            "  Tumour/valid\\no_tumor\\Tr-no_0068_jpg.rf.1cdb87ffcf7010ad9794e35503162a59.jpg\n",
            "  Tumour/valid\\no_tumor\\Tr-no_0196_jpg.rf.8b9d655f3bd4101c9de32ceb1c16e9f1.jpg\n",
            "Duplicate hash 3c7e7e7e7e7e2400:\n",
            "  Tumour/valid\\pituitary\\Tr-pi_0367_jpg.rf.85b8e67f9b9f668594da16a905f6506f.jpg\n",
            "  Tumour/valid\\pituitary\\Tr-pi_0378_jpg.rf.a8da824e139ffd8b61db8d3af5c84743.jpg\n",
            "  Tumour/valid\\pituitary\\Tr-pi_0410_jpg.rf.8ed015699d660980ec3e51768e34a454.jpg\n"
          ]
        }
      ],
      "source": [
        "# Dataset Duplicate Value Count\n",
        "import imagehash\n",
        "\n",
        "def get_image_hashes(folder):\n",
        "    hashes = {}\n",
        "    for root, dirs, files in os.walk(folder):\n",
        "        for file in files:\n",
        "            if file.endswith('.jpg') or file.endswith('.png'):\n",
        "                path = os.path.join(root, file)\n",
        "                img = PIL.Image.open(path).resize((128, 128)).convert(\"L\")\n",
        "                hash_val = imagehash.average_hash(img)\n",
        "                if hash_val in hashes:\n",
        "                    hashes[hash_val].append(path)\n",
        "                else:\n",
        "                    hashes[hash_val] = [path]\n",
        "    return hashes\n",
        "\n",
        "hashes = get_image_hashes(\"Tumour/\")\n",
        "duplicates = {k: v for k, v in hashes.items() if len(v) > 1}\n",
        "print(len(duplicates))\n",
        "for h, paths in duplicates.items():\n",
        "    print(f\"Duplicate hash {h}:\")\n",
        "    for p in paths:\n",
        "        print(f\"  {p}\")"
      ]
    },
    {
      "cell_type": "markdown",
      "metadata": {
        "id": "H0kj-8xxnORC"
      },
      "source": [
        "### What did you know about your dataset?"
      ]
    },
    {
      "cell_type": "markdown",
      "metadata": {
        "id": "gfoNAAC-nUe_"
      },
      "source": [
        "Answer Here:\n",
        "1. The data is in folder format, therefore, used tensor flow to create a data-set.\n",
        "2. There are in total 300 unique duplicate image sets across all the folders.\n",
        "3. There are in total 4 Classes namely, *'glioma', 'meningioma', 'no_tumor', 'pituitary'*"
      ]
    },
    {
      "cell_type": "markdown",
      "metadata": {
        "id": "nA9Y7ga8ng1Z"
      },
      "source": [
        "## ***2. Understanding Your Variables***"
      ]
    },
    {
      "cell_type": "code",
      "execution_count": 8,
      "metadata": {
        "id": "j7xfkqrt5Ag5"
      },
      "outputs": [
        {
          "name": "stdout",
          "output_type": "stream",
          "text": [
            "['glioma', 'meningioma', 'no_tumor', 'pituitary']\n"
          ]
        }
      ],
      "source": [
        "# Dataset classes\n",
        "class_names = train_ds.class_names\n",
        "print(class_names)"
      ]
    },
    {
      "cell_type": "markdown",
      "metadata": {
        "id": "PBTbrJXOngz2"
      },
      "source": [
        "### Variables Description"
      ]
    },
    {
      "cell_type": "markdown",
      "metadata": {
        "id": "aJV4KIxSnxay"
      },
      "source": [
        "Answer Here:\n",
        "\n",
        "-> There are a total of 4 classes or variables namely, *'glioma', 'meningioma', 'no_tumor', 'pituitary'*."
      ]
    },
    {
      "cell_type": "markdown",
      "metadata": {
        "id": "u3PMJOP6ngxN"
      },
      "source": [
        "### Check Unique Values for each variable."
      ]
    },
    {
      "cell_type": "code",
      "execution_count": 9,
      "metadata": {
        "id": "zms12Yq5n-jE"
      },
      "outputs": [
        {
          "name": "stdout",
          "output_type": "stream",
          "text": [
            "For Training Data.\n",
            "\n",
            "Unique image count per class:\n",
            "glioma: 273/564\n",
            "meningioma: 303/358\n",
            "no_tumor: 261/335\n",
            "pituitary: 356/438\n",
            "\n",
            "For testing data Data.\n",
            "\n",
            "Unique image count per class:\n",
            "glioma: 69/80\n",
            "meningioma: 58/63\n",
            "no_tumor: 45/49\n",
            "pituitary: 53/54\n",
            "\n",
            "For Validation Data.\n",
            "\n",
            "Unique image count per class:\n",
            "glioma: 122/161\n",
            "meningioma: 113/124\n",
            "no_tumor: 87/99\n",
            "pituitary: 104/118\n"
          ]
        }
      ],
      "source": [
        "# Check Unique Values for each variable.\n",
        "from collections import defaultdict\n",
        "\n",
        "\n",
        "# Function that counts the unique images by class\n",
        "def count_unique(folder):\n",
        "    unique_hashes = set()\n",
        "    total = 0\n",
        "    for root, dirs, files in os.walk(folder):\n",
        "        for file in files:\n",
        "            if file.endswith(('.jpg', '.png')):\n",
        "                total+=1\n",
        "                path = os.path.join(root, file)\n",
        "                try:\n",
        "                    img = PIL.Image.open(path).resize((128, 128)).convert(\"L\")\n",
        "                    hash_val = imagehash.average_hash(img)\n",
        "                    unique_hashes.add(str(hash_val))\n",
        "                except:\n",
        "                    pass\n",
        "    return len(unique_hashes), total\n",
        "\n",
        "# function for printing the unique values in each class according the dataset\n",
        "def get_unique(root_dir):\n",
        "    classes = os.listdir(root_dir)\n",
        "\n",
        "    unique_counts = {}\n",
        "\n",
        "    for class_name in classes:\n",
        "        class_path = os.path.join(root_dir, class_name)\n",
        "        if os.path.isdir(class_path):\n",
        "            count, total = count_unique(class_path)\n",
        "            unique_counts[class_name] = f\"{count}/{total}\"\n",
        "\n",
        "    print(\"Unique image count per class:\")\n",
        "    for cls, count in unique_counts.items():\n",
        "        print(f\"{cls}: {count}\")\n",
        "\n",
        "# In Training Data\n",
        "print(\"For Training Data.\\n\")\n",
        "get_unique(\"Tumour/train\")\n",
        "\n",
        "# In testing data\n",
        "print(\"\\nFor testing data Data.\\n\")\n",
        "get_unique(\"Tumour/test\")\n",
        "\n",
        "# IN Validation data\n",
        "print(\"\\nFor Validation Data.\\n\")\n",
        "get_unique(\"Tumour/valid\")"
      ]
    },
    {
      "cell_type": "markdown",
      "metadata": {
        "id": "GF8Ens_Soomf"
      },
      "source": [
        "## ***3. Data Vizualization, Storytelling & Experimenting with charts : Understand the relationships between variables***"
      ]
    },
    {
      "cell_type": "markdown",
      "metadata": {
        "id": "0wOQAZs5pc--"
      },
      "source": [
        "#### Chart - 1"
      ]
    },
    {
      "cell_type": "code",
      "execution_count": 10,
      "metadata": {
        "id": "7v_ESjsspbW7"
      },
      "outputs": [
        {
          "data": {
            "image/png": "[encoded data removed]",
            "text/plain": [
              "<Figure size 640x480 with 1 Axes>"
            ]
          },
          "metadata": {},
          "output_type": "display_data"
        }
      ],
      "source": [
        "# Chart - 1 visualization code\n",
        "#Pie chart of the training dataset class distribution\n",
        "root_dir = \"Tumour/train\"  # Root dir\n",
        "classes = os.listdir(root_dir)  # All the class names\n",
        "\n",
        "# Getting the total number of images in each class\n",
        "count = []\n",
        "for class_name in classes:\n",
        "    class_path = os.path.join(root_dir, class_name)\n",
        "    if os.path.isdir(class_path):\n",
        "        total = 0\n",
        "        for root, dirs, files in os.walk(class_path):\n",
        "            for file in files:\n",
        "                if file.endswith(('.jpg', '.png')):\n",
        "                    total+=1\n",
        "        count.append(total)\n",
        "\n",
        "req_labels = [\"glioma\", \"meningioma\", \"no_tumor\", \"pituitary\"]\n",
        "labels = []\n",
        "\n",
        "for i in range(len(count)):\n",
        "    labels.append(req_labels[i]+\"\\n\"+str(count[i]))\n",
        "\n",
        "plt.pie(count, labels = labels)\n",
        "plt.show()"
      ]
    },
    {
      "cell_type": "markdown",
      "metadata": {
        "id": "K5QZ13OEpz2H"
      },
      "source": [
        "##### 1. Why did you pick the specific chart?"
      ]
    },
    {
      "cell_type": "markdown",
      "metadata": {
        "id": "XESiWehPqBRc"
      },
      "source": [
        "Answer Here."
      ]
    },
    {
      "cell_type": "markdown",
      "metadata": {
        "id": "lQ7QKXXCp7Bj"
      },
      "source": [
        "##### 2. What is/are the insight(s) found from the chart?"
      ]
    },
    {
      "cell_type": "markdown",
      "metadata": {
        "id": "C_j1G7yiqdRP"
      },
      "source": [
        "Answer Here"
      ]
    },
    {
      "cell_type": "markdown",
      "metadata": {
        "id": "448CDAPjqfQr"
      },
      "source": [
        "##### 3. Will the gained insights help creating a positive business impact?\n",
        "Are there any insights that lead to negative growth? Justify with specific reason."
      ]
    },
    {
      "cell_type": "markdown",
      "metadata": {
        "id": "3cspy4FjqxJW"
      },
      "source": [
        "Answer Here"
      ]
    },
    {
      "cell_type": "markdown",
      "metadata": {
        "id": "KSlN3yHqYklG"
      },
      "source": [
        "#### Chart - 2"
      ]
    },
    {
      "cell_type": "code",
      "execution_count": 11,
      "metadata": {
        "id": "R4YgtaqtYklH"
      },
      "outputs": [
        {
          "data": {
            "image/png": "[encoded data removed]",
            "text/plain": [
              "<Figure size 1000x1000 with 9 Axes>"
            ]
          },
          "metadata": {},
          "output_type": "display_data"
        }
      ],
      "source": [
        "# Chart - 2 visualization code\n",
        "# Visualizing some images\n",
        "plt.figure(figsize=(10,10))\n",
        "for images, labels in train_ds.take(1):\n",
        "    for i in range(9):\n",
        "        ax = plt.subplot(3, 3, i+1)\n",
        "        plt.imshow(images[i].numpy().astype(\"uint8\"))\n",
        "        plt.title(class_names[labels[i]])\n",
        "        plt.axis(\"off\")"
      ]
    },
    {
      "cell_type": "markdown",
      "metadata": {
        "id": "t6dVpIINYklI"
      },
      "source": [
        "##### 1. Why did you pick the specific chart?"
      ]
    },
    {
      "cell_type": "markdown",
      "metadata": {
        "id": "5aaW0BYyYklI"
      },
      "source": [
        "Answer Here."
      ]
    },
    {
      "cell_type": "markdown",
      "metadata": {
        "id": "ijmpgYnKYklI"
      },
      "source": [
        "##### 2. What is/are the insight(s) found from the chart?"
      ]
    },
    {
      "cell_type": "markdown",
      "metadata": {
        "id": "PSx9atu2YklI"
      },
      "source": [
        "Answer Here"
      ]
    },
    {
      "cell_type": "markdown",
      "metadata": {
        "id": "-JiQyfWJYklI"
      },
      "source": [
        "##### 3. Will the gained insights help creating a positive business impact?\n",
        "Are there any insights that lead to negative growth? Justify with specific reason."
      ]
    },
    {
      "cell_type": "markdown",
      "metadata": {
        "id": "BcBbebzrYklV"
      },
      "source": [
        "Answer Here"
      ]
    },
    {
      "cell_type": "markdown",
      "metadata": {
        "id": "EM7whBJCYoAo"
      },
      "source": [
        "#### Chart - 3"
      ]
    },
    {
      "cell_type": "code",
      "execution_count": 12,
      "metadata": {
        "id": "t6GMdE67YoAp"
      },
      "outputs": [
        {
          "data": {
            "image/png": "[encoded data removed]",
            "text/plain": [
              "<Figure size 640x480 with 1 Axes>"
            ]
          },
          "metadata": {},
          "output_type": "display_data"
        }
      ],
      "source": [
        "# Chart - 3 visualization code\n",
        "# Bar chart of Image counts per class\n",
        "plt.bar(req_labels, count)\n",
        "plt.show()"
      ]
    },
    {
      "cell_type": "markdown",
      "metadata": {
        "id": "fge-S5ZAYoAp"
      },
      "source": [
        "##### 1. Why did you pick the specific chart?"
      ]
    },
    {
      "cell_type": "markdown",
      "metadata": {
        "id": "5dBItgRVYoAp"
      },
      "source": [
        "Answer Here."
      ]
    },
    {
      "cell_type": "markdown",
      "metadata": {
        "id": "85gYPyotYoAp"
      },
      "source": [
        "##### 2. What is/are the insight(s) found from the chart?"
      ]
    },
    {
      "cell_type": "markdown",
      "metadata": {
        "id": "4jstXR6OYoAp"
      },
      "source": [
        "Answer Here"
      ]
    },
    {
      "cell_type": "markdown",
      "metadata": {
        "id": "RoGjAbkUYoAp"
      },
      "source": [
        "##### 3. Will the gained insights help creating a positive business impact?\n",
        "Are there any insights that lead to negative growth? Justify with specific reason."
      ]
    },
    {
      "cell_type": "markdown",
      "metadata": {
        "id": "zfJ8IqMcYoAp"
      },
      "source": [
        "Answer Here"
      ]
    },
    {
      "cell_type": "markdown",
      "metadata": {
        "id": "4Of9eVA-YrdM"
      },
      "source": [
        "#### Chart - 4"
      ]
    },
    {
      "cell_type": "code",
      "execution_count": 13,
      "metadata": {
        "id": "irlUoxc8YrdO"
      },
      "outputs": [],
      "source": [
        "# Chart - 4 visualization code\n",
        "# Pixel Value Histogram for each class in Training Dataset\n",
        "# root_dir & classes was defined above\n",
        "\n",
        "# Dict to hold the pixel values for each class\n",
        "pixel_data_by_class = {cls: [] for cls in classes}\n",
        "\n",
        "# Looping over each class folder\n",
        "for cls in classes:\n",
        "    class_folder = os.path.join(root_dir, cls)\n",
        "    \n",
        "    if not os.path.isdir(class_folder):\n",
        "        continue\n",
        "    \n",
        "    for file in os.listdir(class_folder):\n",
        "        if file.endswith(('.jpg', '.png', '.jpeg')):\n",
        "            file_path = os.path.join(class_folder, file)\n",
        "            \n",
        "            try:\n",
        "                # Opening the image and converting it to grayscale ('L' mode)\n",
        "                img = PIL.Image.open(file_path).convert(\"L\").resize((128,128))  # 'L' mode -> 8-bit pixels, b&w\n",
        "                \n",
        "                # Converting image to a NumPy array and flattening to 1D list of pixel values\n",
        "                pixels = np.array(img).flatten()  # shape becomes (width * height,)\n",
        "                \n",
        "                # Adding pixel values to the corresponding class\n",
        "                pixel_data_by_class[cls].extend(pixels)\n",
        "                \n",
        "            except Exception as e:\n",
        "                print(f\"Error reading {file_path}: {e}\")"
      ]
    },
    {
      "cell_type": "code",
      "execution_count": 14,
      "metadata": {},
      "outputs": [
        {
          "name": "stderr",
          "output_type": "stream",
          "text": [
            "c:\\Users\\ADMIN\\AppData\\Local\\Programs\\Python\\Python310\\lib\\site-packages\\numpy\\lib\\_histograms_impl.py:902: RuntimeWarning: invalid value encountered in divide\n",
            "  return n/db/n.sum(), bin_edges\n"
          ]
        },
        {
          "data": {
            "image/png": "[encoded data removed]",
            "text/plain": [
              "<Figure size 1200x800 with 1 Axes>"
            ]
          },
          "metadata": {},
          "output_type": "display_data"
        }
      ],
      "source": [
        "# Plotting the Histogram\n",
        "plt.figure(figsize=(12, 8))\n",
        "\n",
        "# Loop through each class and plot\n",
        "for cls in classes:\n",
        "    pixels = pixel_data_by_class[cls]\n",
        "    \n",
        "    # Normalize histogram by density so we can compare between classes\n",
        "    plt.hist(pixels, bins=50, alpha=0.6, label=cls, density=True)\n",
        "\n",
        "    # Density: makes hist comparable even with unequal image count; \n",
        "    # alpha: Makes hist slightly transparent for overlap\n",
        "\n",
        "plt.title(\"Pixel Intensity Distribution per Class\")\n",
        "plt.xlabel(\"Pixel Value (0=black, 255=white)\")\n",
        "plt.ylabel(\"Normalized Frequency\")\n",
        "plt.legend()\n",
        "plt.grid(True)\n",
        "plt.show()"
      ]
    },
    {
      "cell_type": "markdown",
      "metadata": {
        "id": "iky9q4vBYrdO"
      },
      "source": [
        "##### 1. Why did you pick the specific chart?"
      ]
    },
    {
      "cell_type": "markdown",
      "metadata": {
        "id": "aJRCwT6DYrdO"
      },
      "source": [
        "Answer Here."
      ]
    },
    {
      "cell_type": "markdown",
      "metadata": {
        "id": "F6T5p64dYrdO"
      },
      "source": [
        "##### 2. What is/are the insight(s) found from the chart?"
      ]
    },
    {
      "cell_type": "markdown",
      "metadata": {
        "id": "Xx8WAJvtYrdO"
      },
      "source": [
        "Answer Here"
      ]
    },
    {
      "cell_type": "markdown",
      "metadata": {
        "id": "y-Ehk30pYrdP"
      },
      "source": [
        "##### 3. Will the gained insights help creating a positive business impact?\n",
        "Are there any insights that lead to negative growth? Justify with specific reason."
      ]
    },
    {
      "cell_type": "markdown",
      "metadata": {
        "id": "jLNxxz7MYrdP"
      },
      "source": [
        "Answer Here"
      ]
    },
    {
      "cell_type": "markdown",
      "metadata": {
        "id": "g-ATYxFrGrvw"
      },
      "source": [
        "## ***5. Hypothesis Testing***"
      ]
    },
    {
      "cell_type": "markdown",
      "metadata": {
        "id": "Yfr_Vlr8HBkt"
      },
      "source": [
        "### Based on your chart experiments, define three hypothetical statements from the dataset. In the next three questions, perform hypothesis testing to obtain final conclusion about the statements through your code and statistical testing."
      ]
    },
    {
      "cell_type": "markdown",
      "metadata": {
        "id": "-7MS06SUHkB-"
      },
      "source": [
        "Answer Here."
      ]
    },
    {
      "cell_type": "markdown",
      "metadata": {
        "id": "8yEUt7NnHlrM"
      },
      "source": [
        "### Hypothetical Statement - 1"
      ]
    },
    {
      "cell_type": "markdown",
      "metadata": {
        "id": "tEA2Xm5dHt1r"
      },
      "source": [
        "#### 1. State Your research hypothesis as a null hypothesis and alternate hypothesis."
      ]
    },
    {
      "cell_type": "markdown",
      "metadata": {
        "id": "HI9ZP0laH0D-"
      },
      "source": [
        "Answer Here.:\n",
        "\n",
        "1. H0 (null): There is no significant difference in mean pixel intensity between tumor classes.\n",
        "2. H1 (alt): At least one class has a significantly different pixel intensity distribution."
      ]
    },
    {
      "cell_type": "markdown",
      "metadata": {
        "id": "I79__PHVH19G"
      },
      "source": [
        "#### 2. Perform an appropriate statistical test."
      ]
    },
    {
      "cell_type": "code",
      "execution_count": 15,
      "metadata": {
        "id": "oZrfquKtyian"
      },
      "outputs": [
        {
          "name": "stdout",
          "output_type": "stream",
          "text": [
            "Comparing glioma and meningioma: \n",
            "F-statistic: 637616.6449474358\n",
            "P-value: 0.0\n",
            "Comparing glioma and no_tumor: \n",
            "F-statistic: 1557611.1553427004\n",
            "P-value: 0.0\n",
            "Comparing glioma and pituitary: \n",
            "F-statistic: 1361488.1764053395\n",
            "P-value: 0.0\n",
            "Comparing glioma and _classes.csv: \n",
            "F-statistic: nan\n",
            "P-value: nan\n"
          ]
        },
        {
          "name": "stderr",
          "output_type": "stream",
          "text": [
            "C:\\Users\\ADMIN\\AppData\\Local\\Temp\\ipykernel_23360\\2211120084.py:12: SmallSampleWarning: One or more sample arguments is too small; all returned values will be NaN. See documentation for sample size requirements.\n",
            "  F_statistic, p_value = stats.f_oneway(data1, data2)\n"
          ]
        },
        {
          "name": "stdout",
          "output_type": "stream",
          "text": [
            "Comparing meningioma and no_tumor: \n",
            "F-statistic: 154754.46545478958\n",
            "P-value: 0.0\n",
            "Comparing meningioma and pituitary: \n",
            "F-statistic: 26867.904760711535\n",
            "P-value: 0.0\n",
            "Comparing meningioma and _classes.csv: \n",
            "F-statistic: nan\n",
            "P-value: nan\n",
            "Comparing no_tumor and pituitary: \n",
            "F-statistic: 96008.7393834829\n",
            "P-value: 0.0\n",
            "Comparing no_tumor and _classes.csv: \n",
            "F-statistic: nan\n",
            "P-value: nan\n",
            "Comparing pituitary and _classes.csv: \n",
            "F-statistic: nan\n",
            "P-value: nan\n"
          ]
        }
      ],
      "source": [
        "# Perform Statistical Test to obtain P-Value\n",
        "# Using ANNOVA\n",
        "class_list = list(pixel_data_by_class.keys())\n",
        "\n",
        "for i in range(len(class_list)):\n",
        "    for j in range(i+1, len(class_list)):\n",
        "        class1 = class_list[i]\n",
        "        class2 = class_list[j]\n",
        "        data1 = pixel_data_by_class[class1]\n",
        "        data2 = pixel_data_by_class[class2]\n",
        "        \n",
        "        F_statistic, p_value = stats.f_oneway(data1, data2)\n",
        "        \n",
        "        print(f\"Comparing {class1} and {class2}: \")\n",
        "        print(f\"F-statistic: {F_statistic}\\nP-value: {p_value}\")"
      ]
    },
    {
      "cell_type": "markdown",
      "metadata": {
        "id": "Ou-I18pAyIpj"
      },
      "source": [
        "##### Which statistical test have you done to obtain P-Value?"
      ]
    },
    {
      "cell_type": "markdown",
      "metadata": {
        "id": "s2U0kk00ygSB"
      },
      "source": [
        "Answer Here.:\n",
        "\n",
        "-> I have done ANNOVA test here and we reject the H0 here."
      ]
    },
    {
      "cell_type": "markdown",
      "metadata": {
        "id": "fF3858GYyt-u"
      },
      "source": [
        "##### Why did you choose the specific statistical test?"
      ]
    },
    {
      "cell_type": "markdown",
      "metadata": {
        "id": "HO4K0gP5y3B4"
      },
      "source": [
        "Answer Here.:\n",
        "\n",
        "-> It is good for comparing the means of multiple classes. In our case it helped us compare the different pixel intensities across different tumor classes."
      ]
    },
    {
      "cell_type": "markdown",
      "metadata": {
        "id": "4_0_7-oCpUZd"
      },
      "source": [
        "### Hypothetical Statement - 2"
      ]
    },
    {
      "cell_type": "markdown",
      "metadata": {
        "id": "hwyV_J3ipUZe"
      },
      "source": [
        "#### 1. State Your research hypothesis as a null hypothesis and alternate hypothesis."
      ]
    },
    {
      "cell_type": "markdown",
      "metadata": {
        "id": "FnpLGJ-4pUZe"
      },
      "source": [
        "Answer Here.:\n",
        "\n",
        "1. H0: There is no Class imbalance in the dataset.\n",
        "2. H1: There is a Class imbalance in the dataset."
      ]
    },
    {
      "cell_type": "markdown",
      "metadata": {
        "id": "3yB-zSqbpUZe"
      },
      "source": [
        "#### 2. Perform an appropriate statistical test."
      ]
    },
    {
      "cell_type": "code",
      "execution_count": 17,
      "metadata": {
        "id": "sWxdNTXNpUZe"
      },
      "outputs": [
        {
          "name": "stdout",
          "output_type": "stream",
          "text": [
            "Chi-Squared Statistic: 0.0\n",
            "P-Value: 1.0\n"
          ]
        }
      ],
      "source": [
        "# Perform Statistical Test to obtain P-Value\n",
        "# Chi squared test\n",
        "observed_counts = [567, 358, 335,438]\n",
        "\n",
        "total_count = sum(observed_counts)\n",
        "expected_per = [0.25, 0.25, 0.25, 0.25]\n",
        "expected_count = total_count*expected_per\n",
        "\n",
        "chi2_stat, p_value, _, _ = stats.chi2_contingency(observed_counts, expected_count)\n",
        "print(f\"Chi-Squared Statistic: {chi2_stat}\\nP-Value: {p_value}\")"
      ]
    },
    {
      "cell_type": "markdown",
      "metadata": {
        "id": "dEUvejAfpUZe"
      },
      "source": [
        "##### Which statistical test have you done to obtain P-Value?"
      ]
    },
    {
      "cell_type": "markdown",
      "metadata": {
        "id": "oLDrPz7HpUZf"
      },
      "source": [
        "Answer Here.:\n",
        "-> We used Chi-Squared test for this and here we accept the H0."
      ]
    },
    {
      "cell_type": "markdown",
      "metadata": {
        "id": "Fd15vwWVpUZf"
      },
      "source": [
        "##### Why did you choose the specific statistical test?"
      ]
    },
    {
      "cell_type": "markdown",
      "metadata": {
        "id": "4xOGYyiBpUZf"
      },
      "source": [
        "Answer Here.:\n",
        "\n",
        "-> It is good to compare the distribution of classes as we needed to check if the classes are imbalanced; other tests like t-test or ANOVA compare means between group which is not useful here."
      ]
    },
    {
      "cell_type": "markdown",
      "metadata": {
        "id": "bn_IUdTipZyH"
      },
      "source": [
        "### Hypothetical Statement - 3"
      ]
    },
    {
      "cell_type": "markdown",
      "metadata": {
        "id": "49K5P_iCpZyH"
      },
      "source": [
        "#### 1. State Your research hypothesis as a null hypothesis and alternate hypothesis."
      ]
    },
    {
      "cell_type": "markdown",
      "metadata": {
        "id": "7gWI5rT9pZyH"
      },
      "source": [
        "Answer Here.:\n",
        "\n",
        "1. H0: Augmented data does not improve validation accuracy.\n",
        "2. H1: Augmented data improves generalization on unseen validation data."
      ]
    },
    {
      "cell_type": "markdown",
      "metadata": {
        "id": "Nff-vKELpZyI"
      },
      "source": [
        "#### 2. Perform an appropriate statistical test."
      ]
    },
    {
      "cell_type": "code",
      "execution_count": null,
      "metadata": {
        "id": "s6AnJQjtpZyI"
      },
      "outputs": [],
      "source": [
        "# Perform Statistical Test to obtain P-Value\n"
      ]
    },
    {
      "cell_type": "markdown",
      "metadata": {
        "id": "kLW572S8pZyI"
      },
      "source": [
        "##### Which statistical test have you done to obtain P-Value?"
      ]
    },
    {
      "cell_type": "markdown",
      "metadata": {
        "id": "ytWJ8v15pZyI"
      },
      "source": [
        "Answer Here."
      ]
    },
    {
      "cell_type": "markdown",
      "metadata": {
        "id": "dWbDXHzopZyI"
      },
      "source": [
        "##### Why did you choose the specific statistical test?"
      ]
    },
    {
      "cell_type": "markdown",
      "metadata": {
        "id": "M99G98V6pZyI"
      },
      "source": [
        "Answer Here."
      ]
    },
    {
      "cell_type": "markdown",
      "metadata": {
        "id": "yLjJCtPM0KBk"
      },
      "source": [
        "## ***6. Feature Engineering & Data Pre-processing***"
      ]
    },
    {
      "cell_type": "markdown",
      "metadata": {
        "id": "xiyOF9F70UgQ"
      },
      "source": [
        "### 1. Handling Missing Values"
      ]
    },
    {
      "cell_type": "code",
      "execution_count": null,
      "metadata": {
        "id": "iRsAHk1K0fpS"
      },
      "outputs": [],
      "source": [
        "# Handling Missing Values & Missing Value Imputation"
      ]
    },
    {
      "cell_type": "markdown",
      "metadata": {
        "id": "7wuGOrhz0itI"
      },
      "source": [
        "#### What all missing value imputation techniques have you used and why did you use those techniques?"
      ]
    },
    {
      "cell_type": "markdown",
      "metadata": {
        "id": "1ixusLtI0pqI"
      },
      "source": [
        "Answer Here."
      ]
    },
    {
      "cell_type": "markdown",
      "metadata": {
        "id": "id1riN9m0vUs"
      },
      "source": [
        "### 2. Handling Outliers"
      ]
    },
    {
      "cell_type": "code",
      "execution_count": null,
      "metadata": {
        "id": "M6w2CzZf04JK"
      },
      "outputs": [],
      "source": [
        "# Handling Outliers & Outlier treatments"
      ]
    },
    {
      "cell_type": "markdown",
      "metadata": {
        "id": "578E2V7j08f6"
      },
      "source": [
        "##### What all outlier treatment techniques have you used and why did you use those techniques?"
      ]
    },
    {
      "cell_type": "markdown",
      "metadata": {
        "id": "uGZz5OrT1HH-"
      },
      "source": [
        "Answer Here."
      ]
    },
    {
      "cell_type": "markdown",
      "metadata": {
        "id": "89xtkJwZ18nB"
      },
      "source": [
        "### 3. Categorical Encoding"
      ]
    },
    {
      "cell_type": "code",
      "execution_count": null,
      "metadata": {
        "id": "21JmIYMG2hEo"
      },
      "outputs": [],
      "source": [
        "# Encode your categorical columns"
      ]
    },
    {
      "cell_type": "markdown",
      "metadata": {
        "id": "67NQN5KX2AMe"
      },
      "source": [
        "#### What all categorical encoding techniques have you used & why did you use those techniques?"
      ]
    },
    {
      "cell_type": "markdown",
      "metadata": {
        "id": "UDaue5h32n_G"
      },
      "source": [
        "Answer Here."
      ]
    },
    {
      "cell_type": "markdown",
      "metadata": {
        "id": "Iwf50b-R2tYG"
      },
      "source": [
        "### 4. Textual Data Preprocessing\n",
        "(It's mandatory for textual dataset i.e., NLP, Sentiment Analysis, Text Clustering etc.)"
      ]
    },
    {
      "cell_type": "markdown",
      "metadata": {
        "id": "GMQiZwjn3iu7"
      },
      "source": [
        "#### 1. Expand Contraction"
      ]
    },
    {
      "cell_type": "code",
      "execution_count": null,
      "metadata": {
        "id": "PTouz10C3oNN"
      },
      "outputs": [],
      "source": [
        "# Expand Contraction"
      ]
    },
    {
      "cell_type": "markdown",
      "metadata": {
        "id": "WVIkgGqN3qsr"
      },
      "source": [
        "#### 2. Lower Casing"
      ]
    },
    {
      "cell_type": "code",
      "execution_count": null,
      "metadata": {
        "id": "88JnJ1jN3w7j"
      },
      "outputs": [],
      "source": [
        "# Lower Casing"
      ]
    },
    {
      "cell_type": "markdown",
      "metadata": {
        "id": "XkPnILGE3zoT"
      },
      "source": [
        "#### 3. Removing Punctuations"
      ]
    },
    {
      "cell_type": "code",
      "execution_count": null,
      "metadata": {
        "id": "vqbBqNaA33c0"
      },
      "outputs": [],
      "source": [
        "# Remove Punctuations"
      ]
    },
    {
      "cell_type": "markdown",
      "metadata": {
        "id": "Hlsf0x5436Go"
      },
      "source": [
        "#### 4. Removing URLs & Removing words and digits contain digits."
      ]
    },
    {
      "cell_type": "code",
      "execution_count": null,
      "metadata": {
        "id": "2sxKgKxu4Ip3"
      },
      "outputs": [],
      "source": [
        "# Remove URLs & Remove words and digits contain digits"
      ]
    },
    {
      "cell_type": "markdown",
      "metadata": {
        "id": "mT9DMSJo4nBL"
      },
      "source": [
        "#### 5. Removing Stopwords & Removing White spaces"
      ]
    },
    {
      "cell_type": "code",
      "execution_count": null,
      "metadata": {
        "id": "T2LSJh154s8W"
      },
      "outputs": [],
      "source": [
        "# Remove Stopwords"
      ]
    },
    {
      "cell_type": "code",
      "execution_count": null,
      "metadata": {
        "id": "EgLJGffy4vm0"
      },
      "outputs": [],
      "source": [
        "# Remove White spaces"
      ]
    },
    {
      "cell_type": "markdown",
      "metadata": {
        "id": "c49ITxTc407N"
      },
      "source": [
        "#### 6. Rephrase Text"
      ]
    },
    {
      "cell_type": "code",
      "execution_count": null,
      "metadata": {
        "id": "foqY80Qu48N2"
      },
      "outputs": [],
      "source": [
        "# Rephrase Text"
      ]
    },
    {
      "cell_type": "markdown",
      "metadata": {
        "id": "OeJFEK0N496M"
      },
      "source": [
        "#### 7. Tokenization"
      ]
    },
    {
      "cell_type": "code",
      "execution_count": null,
      "metadata": {
        "id": "ijx1rUOS5CUU"
      },
      "outputs": [],
      "source": [
        "# Tokenization"
      ]
    },
    {
      "cell_type": "markdown",
      "metadata": {
        "id": "9ExmJH0g5HBk"
      },
      "source": [
        "#### 8. Text Normalization"
      ]
    },
    {
      "cell_type": "code",
      "execution_count": null,
      "metadata": {
        "id": "AIJ1a-Zc5PY8"
      },
      "outputs": [],
      "source": [
        "# Normalizing Text (i.e., Stemming, Lemmatization etc.)"
      ]
    },
    {
      "cell_type": "markdown",
      "metadata": {
        "id": "cJNqERVU536h"
      },
      "source": [
        "##### Which text normalization technique have you used and why?"
      ]
    },
    {
      "cell_type": "markdown",
      "metadata": {
        "id": "Z9jKVxE06BC1"
      },
      "source": [
        "Answer Here."
      ]
    },
    {
      "cell_type": "markdown",
      "metadata": {
        "id": "k5UmGsbsOxih"
      },
      "source": [
        "#### 9. Part of speech tagging"
      ]
    },
    {
      "cell_type": "code",
      "execution_count": null,
      "metadata": {
        "id": "btT3ZJBAO6Ik"
      },
      "outputs": [],
      "source": [
        "# POS Taging"
      ]
    },
    {
      "cell_type": "markdown",
      "metadata": {
        "id": "T0VqWOYE6DLQ"
      },
      "source": [
        "#### 10. Text Vectorization"
      ]
    },
    {
      "cell_type": "code",
      "execution_count": null,
      "metadata": {
        "id": "yBRtdhth6JDE"
      },
      "outputs": [],
      "source": [
        "# Vectorizing Text"
      ]
    },
    {
      "cell_type": "markdown",
      "metadata": {
        "id": "qBMux9mC6MCf"
      },
      "source": [
        "##### Which text vectorization technique have you used and why?"
      ]
    },
    {
      "cell_type": "markdown",
      "metadata": {
        "id": "su2EnbCh6UKQ"
      },
      "source": [
        "Answer Here."
      ]
    },
    {
      "cell_type": "markdown",
      "metadata": {
        "id": "-oLEiFgy-5Pf"
      },
      "source": [
        "### 4. Feature Manipulation & Selection"
      ]
    },
    {
      "cell_type": "markdown",
      "metadata": {
        "id": "C74aWNz2AliB"
      },
      "source": [
        "#### 1. Feature Manipulation"
      ]
    },
    {
      "cell_type": "code",
      "execution_count": null,
      "metadata": {
        "id": "h1qC4yhBApWC"
      },
      "outputs": [],
      "source": [
        "# Manipulate Features to minimize feature correlation and create new features"
      ]
    },
    {
      "cell_type": "markdown",
      "metadata": {
        "id": "2DejudWSA-a0"
      },
      "source": [
        "#### 2. Feature Selection"
      ]
    },
    {
      "cell_type": "code",
      "execution_count": null,
      "metadata": {
        "id": "YLhe8UmaBCEE"
      },
      "outputs": [],
      "source": [
        "# Select your features wisely to avoid overfitting"
      ]
    },
    {
      "cell_type": "markdown",
      "metadata": {
        "id": "pEMng2IbBLp7"
      },
      "source": [
        "##### What all feature selection methods have you used  and why?"
      ]
    },
    {
      "cell_type": "markdown",
      "metadata": {
        "id": "rb2Lh6Z8BgGs"
      },
      "source": [
        "Answer Here."
      ]
    },
    {
      "cell_type": "markdown",
      "metadata": {
        "id": "rAdphbQ9Bhjc"
      },
      "source": [
        "##### Which all features you found important and why?"
      ]
    },
    {
      "cell_type": "markdown",
      "metadata": {
        "id": "fGgaEstsBnaf"
      },
      "source": [
        "Answer Here."
      ]
    },
    {
      "cell_type": "markdown",
      "metadata": {
        "id": "TNVZ9zx19K6k"
      },
      "source": [
        "### 5. Data Transformation"
      ]
    },
    {
      "cell_type": "markdown",
      "metadata": {
        "id": "nqoHp30x9hH9"
      },
      "source": [
        "#### Do you think that your data needs to be transformed? If yes, which transformation have you used. Explain Why?"
      ]
    },
    {
      "cell_type": "code",
      "execution_count": null,
      "metadata": {
        "id": "I6quWQ1T9rtH"
      },
      "outputs": [],
      "source": [
        "# Transform Your data"
      ]
    },
    {
      "cell_type": "markdown",
      "metadata": {
        "id": "rMDnDkt2B6du"
      },
      "source": [
        "### 6. Data Scaling"
      ]
    },
    {
      "cell_type": "code",
      "execution_count": null,
      "metadata": {
        "id": "dL9LWpySC6x_"
      },
      "outputs": [],
      "source": [
        "# Scaling your data"
      ]
    },
    {
      "cell_type": "markdown",
      "metadata": {
        "id": "yiiVWRdJDDil"
      },
      "source": [
        "##### Which method have you used to scale you data and why?"
      ]
    },
    {
      "cell_type": "markdown",
      "metadata": {
        "id": "1UUpS68QDMuG"
      },
      "source": [
        "### 7. Dimesionality Reduction"
      ]
    },
    {
      "cell_type": "markdown",
      "metadata": {
        "id": "kexQrXU-DjzY"
      },
      "source": [
        "##### Do you think that dimensionality reduction is needed? Explain Why?"
      ]
    },
    {
      "cell_type": "markdown",
      "metadata": {
        "id": "GGRlBsSGDtTQ"
      },
      "source": [
        "Answer Here."
      ]
    },
    {
      "cell_type": "code",
      "execution_count": null,
      "metadata": {
        "id": "kQfvxBBHDvCa"
      },
      "outputs": [],
      "source": [
        "# DImensionality Reduction (If needed)"
      ]
    },
    {
      "cell_type": "markdown",
      "metadata": {
        "id": "T5CmagL3EC8N"
      },
      "source": [
        "##### Which dimensionality reduction technique have you used and why? (If dimensionality reduction done on dataset.)"
      ]
    },
    {
      "cell_type": "markdown",
      "metadata": {
        "id": "ZKr75IDuEM7t"
      },
      "source": [
        "Answer Here."
      ]
    },
    {
      "cell_type": "markdown",
      "metadata": {
        "id": "BhH2vgX9EjGr"
      },
      "source": [
        "### 8. Data Splitting"
      ]
    },
    {
      "cell_type": "code",
      "execution_count": null,
      "metadata": {
        "id": "0CTyd2UwEyNM"
      },
      "outputs": [],
      "source": [
        "# Split your data to train and test. Choose Splitting ratio wisely."
      ]
    },
    {
      "cell_type": "markdown",
      "metadata": {
        "id": "qjKvONjwE8ra"
      },
      "source": [
        "##### What data splitting ratio have you used and why?"
      ]
    },
    {
      "cell_type": "markdown",
      "metadata": {
        "id": "Y2lJ8cobFDb_"
      },
      "source": [
        "Answer Here."
      ]
    },
    {
      "cell_type": "markdown",
      "metadata": {
        "id": "P1XJ9OREExlT"
      },
      "source": [
        "### 9. Handling Imbalanced Dataset"
      ]
    },
    {
      "cell_type": "markdown",
      "metadata": {
        "id": "VFOzZv6IFROw"
      },
      "source": [
        "##### Do you think the dataset is imbalanced? Explain Why."
      ]
    },
    {
      "cell_type": "markdown",
      "metadata": {
        "id": "GeKDIv7pFgcC"
      },
      "source": [
        "Answer Here."
      ]
    },
    {
      "cell_type": "code",
      "execution_count": null,
      "metadata": {
        "id": "nQsRhhZLFiDs"
      },
      "outputs": [],
      "source": [
        "# Handling Imbalanced Dataset (If needed)"
      ]
    },
    {
      "cell_type": "markdown",
      "metadata": {
        "id": "TIqpNgepFxVj"
      },
      "source": [
        "##### What technique did you use to handle the imbalance dataset and why? (If needed to be balanced)"
      ]
    },
    {
      "cell_type": "markdown",
      "metadata": {
        "id": "qbet1HwdGDTz"
      },
      "source": [
        "Answer Here."
      ]
    },
    {
      "cell_type": "markdown",
      "metadata": {
        "id": "VfCC591jGiD4"
      },
      "source": [
        "## ***7. ML Model Implementation***"
      ]
    },
    {
      "cell_type": "markdown",
      "metadata": {
        "id": "OB4l2ZhMeS1U"
      },
      "source": [
        "### ML Model - 1"
      ]
    },
    {
      "cell_type": "code",
      "execution_count": null,
      "metadata": {
        "id": "7ebyywQieS1U"
      },
      "outputs": [],
      "source": [
        "# ML Model - 1 Implementation\n",
        "\n",
        "# Fit the Algorithm\n",
        "\n",
        "# Predict on the model"
      ]
    },
    {
      "cell_type": "markdown",
      "metadata": {
        "id": "ArJBuiUVfxKd"
      },
      "source": [
        "#### 1. Explain the ML Model used and it's performance using Evaluation metric Score Chart."
      ]
    },
    {
      "cell_type": "code",
      "execution_count": null,
      "metadata": {
        "id": "rqD5ZohzfxKe"
      },
      "outputs": [],
      "source": [
        "# Visualizing evaluation Metric Score chart"
      ]
    },
    {
      "cell_type": "markdown",
      "metadata": {
        "id": "4qY1EAkEfxKe"
      },
      "source": [
        "#### 2. Cross- Validation & Hyperparameter Tuning"
      ]
    },
    {
      "cell_type": "code",
      "execution_count": null,
      "metadata": {
        "id": "Dy61ujd6fxKe"
      },
      "outputs": [],
      "source": [
        "# ML Model - 1 Implementation with hyperparameter optimization techniques (i.e., GridSearch CV, RandomSearch CV, Bayesian Optimization etc.)\n",
        "\n",
        "# Fit the Algorithm\n",
        "\n",
        "# Predict on the model"
      ]
    },
    {
      "cell_type": "markdown",
      "metadata": {
        "id": "PiV4Ypx8fxKe"
      },
      "source": [
        "##### Which hyperparameter optimization technique have you used and why?"
      ]
    },
    {
      "cell_type": "markdown",
      "metadata": {
        "id": "negyGRa7fxKf"
      },
      "source": [
        "Answer Here."
      ]
    },
    {
      "cell_type": "markdown",
      "metadata": {
        "id": "TfvqoZmBfxKf"
      },
      "source": [
        "##### Have you seen any improvement? Note down the improvement with updates Evaluation metric Score Chart."
      ]
    },
    {
      "cell_type": "markdown",
      "metadata": {
        "id": "OaLui8CcfxKf"
      },
      "source": [
        "Answer Here."
      ]
    },
    {
      "cell_type": "markdown",
      "metadata": {
        "id": "dJ2tPlVmpsJ0"
      },
      "source": [
        "### ML Model - 2"
      ]
    },
    {
      "cell_type": "markdown",
      "metadata": {
        "id": "JWYfwnehpsJ1"
      },
      "source": [
        "#### 1. Explain the ML Model used and it's performance using Evaluation metric Score Chart."
      ]
    },
    {
      "cell_type": "code",
      "execution_count": null,
      "metadata": {
        "id": "yEl-hgQWpsJ1"
      },
      "outputs": [],
      "source": [
        "# Visualizing evaluation Metric Score chart"
      ]
    },
    {
      "cell_type": "markdown",
      "metadata": {
        "id": "-jK_YjpMpsJ2"
      },
      "source": [
        "#### 2. Cross- Validation & Hyperparameter Tuning"
      ]
    },
    {
      "cell_type": "code",
      "execution_count": null,
      "metadata": {
        "id": "Dn0EOfS6psJ2"
      },
      "outputs": [],
      "source": [
        "# ML Model - 1 Implementation with hyperparameter optimization techniques (i.e., GridSearch CV, RandomSearch CV, Bayesian Optimization etc.)\n",
        "\n",
        "# Fit the Algorithm\n",
        "\n",
        "# Predict on the model"
      ]
    },
    {
      "cell_type": "markdown",
      "metadata": {
        "id": "HAih1iBOpsJ2"
      },
      "source": [
        "##### Which hyperparameter optimization technique have you used and why?"
      ]
    },
    {
      "cell_type": "markdown",
      "metadata": {
        "id": "9kBgjYcdpsJ2"
      },
      "source": [
        "Answer Here."
      ]
    },
    {
      "cell_type": "markdown",
      "metadata": {
        "id": "zVGeBEFhpsJ2"
      },
      "source": [
        "##### Have you seen any improvement? Note down the improvement with updates Evaluation metric Score Chart."
      ]
    },
    {
      "cell_type": "markdown",
      "metadata": {
        "id": "74yRdG6UpsJ3"
      },
      "source": [
        "Answer Here."
      ]
    },
    {
      "cell_type": "markdown",
      "metadata": {
        "id": "bmKjuQ-FpsJ3"
      },
      "source": [
        "#### 3. Explain each evaluation metric's indication towards business and the business impact pf the ML model used."
      ]
    },
    {
      "cell_type": "markdown",
      "metadata": {
        "id": "BDKtOrBQpsJ3"
      },
      "source": [
        "Answer Here."
      ]
    },
    {
      "cell_type": "markdown",
      "metadata": {
        "id": "Fze-IPXLpx6K"
      },
      "source": [
        "### ML Model - 3"
      ]
    },
    {
      "cell_type": "code",
      "execution_count": null,
      "metadata": {
        "id": "FFrSXAtrpx6M"
      },
      "outputs": [],
      "source": [
        "# ML Model - 3 Implementation\n",
        "\n",
        "# Fit the Algorithm\n",
        "\n",
        "# Predict on the model"
      ]
    },
    {
      "cell_type": "markdown",
      "metadata": {
        "id": "7AN1z2sKpx6M"
      },
      "source": [
        "#### 1. Explain the ML Model used and it's performance using Evaluation metric Score Chart."
      ]
    },
    {
      "cell_type": "code",
      "execution_count": null,
      "metadata": {
        "id": "xIY4lxxGpx6M"
      },
      "outputs": [],
      "source": [
        "# Visualizing evaluation Metric Score chart"
      ]
    },
    {
      "cell_type": "markdown",
      "metadata": {
        "id": "9PIHJqyupx6M"
      },
      "source": [
        "#### 2. Cross- Validation & Hyperparameter Tuning"
      ]
    },
    {
      "cell_type": "code",
      "execution_count": null,
      "metadata": {
        "id": "eSVXuaSKpx6M"
      },
      "outputs": [],
      "source": [
        "# ML Model - 3 Implementation with hyperparameter optimization techniques (i.e., GridSearch CV, RandomSearch CV, Bayesian Optimization etc.)\n",
        "\n",
        "# Fit the Algorithm\n",
        "\n",
        "# Predict on the model"
      ]
    },
    {
      "cell_type": "markdown",
      "metadata": {
        "id": "_-qAgymDpx6N"
      },
      "source": [
        "##### Which hyperparameter optimization technique have you used and why?"
      ]
    },
    {
      "cell_type": "markdown",
      "metadata": {
        "id": "lQMffxkwpx6N"
      },
      "source": [
        "Answer Here."
      ]
    },
    {
      "cell_type": "markdown",
      "metadata": {
        "id": "Z-hykwinpx6N"
      },
      "source": [
        "##### Have you seen any improvement? Note down the improvement with updates Evaluation metric Score Chart."
      ]
    },
    {
      "cell_type": "markdown",
      "metadata": {
        "id": "MzVzZC6opx6N"
      },
      "source": [
        "Answer Here."
      ]
    },
    {
      "cell_type": "markdown",
      "metadata": {
        "id": "h_CCil-SKHpo"
      },
      "source": [
        "### 1. Which Evaluation metrics did you consider for a positive business impact and why?"
      ]
    },
    {
      "cell_type": "markdown",
      "metadata": {
        "id": "jHVz9hHDKFms"
      },
      "source": [
        "Answer Here."
      ]
    },
    {
      "cell_type": "markdown",
      "metadata": {
        "id": "cBFFvTBNJzUa"
      },
      "source": [
        "### 2. Which ML model did you choose from the above created models as your final prediction model and why?"
      ]
    },
    {
      "cell_type": "markdown",
      "metadata": {
        "id": "6ksF5Q1LKTVm"
      },
      "source": [
        "Answer Here."
      ]
    },
    {
      "cell_type": "markdown",
      "metadata": {
        "id": "HvGl1hHyA_VK"
      },
      "source": [
        "### 3. Explain the model which you have used and the feature importance using any model explainability tool?"
      ]
    },
    {
      "cell_type": "markdown",
      "metadata": {
        "id": "YnvVTiIxBL-C"
      },
      "source": [
        "Answer Here."
      ]
    },
    {
      "cell_type": "markdown",
      "metadata": {
        "id": "EyNgTHvd2WFk"
      },
      "source": [
        "## ***8.*** ***Future Work (Optional)***"
      ]
    },
    {
      "cell_type": "markdown",
      "metadata": {
        "id": "KH5McJBi2d8v"
      },
      "source": [
        "### 1. Save the best performing ml model in a pickle file or joblib file format for deployment process.\n"
      ]
    },
    {
      "cell_type": "code",
      "execution_count": null,
      "metadata": {
        "id": "bQIANRl32f4J"
      },
      "outputs": [],
      "source": [
        "# Save the File"
      ]
    },
    {
      "cell_type": "markdown",
      "metadata": {
        "id": "iW_Lq9qf2h6X"
      },
      "source": [
        "### 2. Again Load the saved model file and try to predict unseen data for a sanity check.\n"
      ]
    },
    {
      "cell_type": "code",
      "execution_count": null,
      "metadata": {
        "id": "oEXk9ydD2nVC"
      },
      "outputs": [],
      "source": [
        "# Load the File and predict unseen data."
      ]
    },
    {
      "cell_type": "markdown",
      "metadata": {
        "id": "-Kee-DAl2viO"
      },
      "source": [
        "### ***Congrats! Your model is successfully created and ready for deployment on a live server for a real user interaction !!!***"
      ]
    },
    {
      "cell_type": "markdown",
      "metadata": {
        "id": "gCX9965dhzqZ"
      },
      "source": [
        "# **Conclusion**"
      ]
    },
    {
      "cell_type": "markdown",
      "metadata": {
        "id": "Fjb1IsQkh3yE"
      },
      "source": [
        "Write the conclusion here."
      ]
    },
    {
      "cell_type": "markdown",
      "metadata": {
        "id": "gIfDvo9L0UH2"
      },
      "source": [
        "### ***Hurrah! You have successfully completed your Machine Learning Capstone Project !!!***"
      ]
    }
  ],
  "metadata": {
    "colab": {
      "collapsed_sections": [
        "vncDsAP0Gaoa",
        "FJNUwmbgGyua",
        "w6K7xa23Elo4",
        "yQaldy8SH6Dl",
        "mDgbUHAGgjLW",
        "O_i_v8NEhb9l",
        "HhfV-JJviCcP",
        "Y3lxredqlCYt",
        "3RnN4peoiCZX",
        "x71ZqKXriCWQ",
        "7hBIi_osiCS2",
        "JlHwYmJAmNHm",
        "35m5QtbWiB9F",
        "PoPl-ycgm1ru",
        "H0kj-8xxnORC",
        "nA9Y7ga8ng1Z",
        "PBTbrJXOngz2",
        "u3PMJOP6ngxN",
        "dauF4eBmngu3",
        "bKJF3rekwFvQ",
        "MSa1f5Uengrz",
        "GF8Ens_Soomf",
        "0wOQAZs5pc--",
        "K5QZ13OEpz2H",
        "lQ7QKXXCp7Bj",
        "448CDAPjqfQr",
        "KSlN3yHqYklG",
        "t6dVpIINYklI",
        "ijmpgYnKYklI",
        "-JiQyfWJYklI",
        "EM7whBJCYoAo",
        "fge-S5ZAYoAp",
        "85gYPyotYoAp",
        "RoGjAbkUYoAp",
        "4Of9eVA-YrdM",
        "iky9q4vBYrdO",
        "F6T5p64dYrdO",
        "y-Ehk30pYrdP",
        "bamQiAODYuh1",
        "QHF8YVU7Yuh3",
        "GwzvFGzlYuh3",
        "qYpmQ266Yuh3",
        "OH-pJp9IphqM",
        "bbFf2-_FphqN",
        "_ouA3fa0phqN",
        "Seke61FWphqN",
        "PIIx-8_IphqN",
        "t27r6nlMphqO",
        "r2jJGEOYphqO",
        "b0JNsNcRphqO",
        "BZR9WyysphqO",
        "jj7wYXLtphqO",
        "eZrbJ2SmphqO",
        "rFu4xreNphqO",
        "YJ55k-q6phqO",
        "gCFgpxoyphqP",
        "OVtJsKN_phqQ",
        "lssrdh5qphqQ",
        "U2RJ9gkRphqQ",
        "1M8mcRywphqQ",
        "tgIPom80phqQ",
        "JMzcOPDDphqR",
        "x-EpHcCOp1ci",
        "X_VqEhTip1ck",
        "8zGJKyg5p1ck",
        "PVzmfK_Ep1ck",
        "n3dbpmDWp1ck",
        "ylSl6qgtp1ck",
        "ZWILFDl5p1ck",
        "M7G43BXep1ck",
        "Ag9LCva-p1cl",
        "E6MkPsBcp1cl",
        "2cELzS2fp1cl",
        "3MPXvC8up1cl",
        "NC_X3p0fY2L0",
        "UV0SzAkaZNRQ",
        "YPEH6qLeZNRQ",
        "q29F0dvdveiT",
        "EXh0U9oCveiU",
        "22aHeOlLveiV",
        "g-ATYxFrGrvw",
        "Yfr_Vlr8HBkt",
        "8yEUt7NnHlrM",
        "tEA2Xm5dHt1r",
        "I79__PHVH19G",
        "Ou-I18pAyIpj",
        "fF3858GYyt-u",
        "4_0_7-oCpUZd",
        "hwyV_J3ipUZe",
        "3yB-zSqbpUZe",
        "dEUvejAfpUZe",
        "Fd15vwWVpUZf",
        "bn_IUdTipZyH",
        "49K5P_iCpZyH",
        "Nff-vKELpZyI",
        "kLW572S8pZyI",
        "dWbDXHzopZyI",
        "yLjJCtPM0KBk",
        "xiyOF9F70UgQ",
        "7wuGOrhz0itI",
        "id1riN9m0vUs",
        "578E2V7j08f6",
        "89xtkJwZ18nB",
        "67NQN5KX2AMe",
        "Iwf50b-R2tYG",
        "GMQiZwjn3iu7",
        "WVIkgGqN3qsr",
        "XkPnILGE3zoT",
        "Hlsf0x5436Go",
        "mT9DMSJo4nBL",
        "c49ITxTc407N",
        "OeJFEK0N496M",
        "9ExmJH0g5HBk",
        "cJNqERVU536h",
        "k5UmGsbsOxih",
        "T0VqWOYE6DLQ",
        "qBMux9mC6MCf",
        "-oLEiFgy-5Pf",
        "C74aWNz2AliB",
        "2DejudWSA-a0",
        "pEMng2IbBLp7",
        "rAdphbQ9Bhjc",
        "TNVZ9zx19K6k",
        "nqoHp30x9hH9",
        "rMDnDkt2B6du",
        "yiiVWRdJDDil",
        "1UUpS68QDMuG",
        "kexQrXU-DjzY",
        "T5CmagL3EC8N",
        "BhH2vgX9EjGr",
        "qjKvONjwE8ra",
        "P1XJ9OREExlT",
        "VFOzZv6IFROw",
        "TIqpNgepFxVj",
        "VfCC591jGiD4",
        "OB4l2ZhMeS1U",
        "ArJBuiUVfxKd",
        "4qY1EAkEfxKe",
        "PiV4Ypx8fxKe",
        "TfvqoZmBfxKf",
        "dJ2tPlVmpsJ0",
        "JWYfwnehpsJ1",
        "-jK_YjpMpsJ2",
        "HAih1iBOpsJ2",
        "zVGeBEFhpsJ2",
        "bmKjuQ-FpsJ3",
        "Fze-IPXLpx6K",
        "7AN1z2sKpx6M",
        "9PIHJqyupx6M",
        "_-qAgymDpx6N",
        "Z-hykwinpx6N",
        "h_CCil-SKHpo",
        "cBFFvTBNJzUa",
        "HvGl1hHyA_VK",
        "EyNgTHvd2WFk",
        "KH5McJBi2d8v",
        "iW_Lq9qf2h6X",
        "-Kee-DAl2viO",
        "gCX9965dhzqZ",
        "gIfDvo9L0UH2"
      ],
      "private_outputs": true,
      "provenance": []
    },
    "kernelspec": {
      "display_name": "Python 3",
      "name": "python3"
    },
    "language_info": {
      "codemirror_mode": {
        "name": "ipython",
        "version": 3
      },
      "file_extension": ".py",
      "mimetype": "text/x-python",
      "name": "python",
      "nbconvert_exporter": "python",
      "pygments_lexer": "ipython3",
      "version": "3.10.9"
    }
  },
  "nbformat": 4,
  "nbformat_minor": 0
}
